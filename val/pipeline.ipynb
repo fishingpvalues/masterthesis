{
 "cells": [
  {
   "cell_type": "markdown",
   "metadata": {},
   "source": [
    "# Pipeline zur Validierung und Verifikation eines datengetriebenen DT\n",
    "\n",
    "Das Datenformat lässt sich aus der Datei `output_structure.py` ablesen.\n",
    "\n",
    "### INPUTS:\n",
    "- Traningsdaten: Prozessdaten des händisch erstellten Digitalen Zwillings\n",
    "- Validierung: Teilmenge der Testdaten\n",
    "- Test: Reale Prozessdaten der Factory im standadisierten Dateiformat, Edge Case Daten wenn verfügbar (woher bekomme ich die?)\n",
    "\n",
    "### OUTPUT:\n",
    "Metrik zur Überprüfung der Validität und Genauigkeit des automatisch gelernten Modells änhlich zu adj. R^2 oder Accuracy. Weiterhin sollte der Output Rückschlüsse auf Bottlenecks oder Fehler des Modells hindeuten und sagen können, in welchen BEreichen Underfitting stattfand.\n",
    "\n",
    "### FRAGESTELLUNGEN:\n",
    "- Bildet das Standardformat was ich genutzt habe ausreichend die Realität ab? Wo liegen Schwächen und was bildet es nicht ab?\n",
    "- Lassen sich KPI's heranziehen wie die Durchlaufzeitverteilung um das Modell zu validieren?\n",
    "- Welche weiteren KPI's lassen sich zur Validierung heranziehen?\n",
    "- Wie kann ich das Modell robuster gestalten? Möglichkeiten wären ein Masking von Projekttrajektorien oder Blackboxing\n",
    "- Welche Szenearien gibt es, die Underfitting des Modells erzeugen?\n",
    "\n",
    "- Welches Modell nehme ich?\n",
    "Das Modell müsste online learning unterstützen und fähig sein, verschiedene Prozesse aus den Daten zu lernen und neue Prozesse zu spawnen, die möglichst der Realität entsprechen.\n",
    "\n",
    "- Autoencoder?\n",
    "- ich habe in dem Sinne ja kein Label oder so was predicted werden soll, alle Prozessdaten sind das Label. Ich möchte ein Modell was fähig ist, zu entscheiden ob neue Inputs gültige PRozesse sind oder ob es zu anomalien kommt. Weiterhin möchte ich Ihm Daten geben um zu schauen, ob es sinnvolle Muster gelernt hat und entscheiden kann ob Es sich um reale Daten handelt oder ob es fake daten sind\n",
    "\n",
    "- Man könnte Label mit is_valid erstellen was 1 bei Realen Daten ist und 0 bei Falsch => habe ich damit auch sequenzielle Effekte über mehrere Prozessschritte mit abgebildet oder nur Zeilenweise?\n",
    "## TODO:\n",
    "- Sequenznummer festlegen\n",
    "- Label 'is_valid' vergeben\n",
    "- Unechte Daten synthetisch erzeugen und in Testdatensatz und Validierungsdatensatz unterbringen\n",
    "- xLSTM implementieren\n",
    "- Valides Modell 1:1 erzeugen und testen\n",
    "- Validierungsframework erzeugen wie man das Modell stresstesten kann\n",
    "\n",
    "## Modellkandidaten:\n",
    "\n",
    "1. Logistic Regression für binäre Klassifikation mit Sequenznummern. Dieses Modell ist baseline\n",
    "2. xLSTM mit folgenden Spezifikationen:\n",
    "  - \n",
    "\n",
    "\n",
    "Sequenznummern: Ergänze eine Spalte, die die Sequenznummer innerhalb eines Prozesses angibt. Dadurch kann das Modell erkennen, an welcher Stelle im Ablauf ein Schritt auftritt.\n",
    "df['sequence_number'] = df.sort_values(by=['start_time']).groupby('process_execution_id').cumcount() + 1\n",
    "\n",
    "- Online xLSTM Learning "
   ]
  },
  {
   "cell_type": "markdown",
   "metadata": {},
   "source": [
    "Anekdote: Einführung von `df[\"time_since_last_step\"] = df.groupby(\"process_execution_id\")[\"start_time\"].diff().dt.total_seconds()` bewirkte einen AUC Score von fast 1 => Warum?"
   ]
  },
  {
   "cell_type": "code",
   "execution_count": 2,
   "metadata": {},
   "outputs": [
    {
     "name": "stdout",
     "output_type": "stream",
     "text": [
      "d:\\ofact-intern\\projects\\iot_factory\\val\n"
     ]
    }
   ],
   "source": [
    "import os\n",
    "\n",
    "print(os.getcwd())"
   ]
  },
  {
   "cell_type": "markdown",
   "metadata": {},
   "source": [
    "## Preprocessing"
   ]
  },
  {
   "cell_type": "code",
   "execution_count": 3,
   "metadata": {},
   "outputs": [],
   "source": [
    "from projects.iot_factory.val.data.generate_false_data import generate_false_data\n",
    "import pandas as pd\n",
    "from sklearn.preprocessing import OneHotEncoder\n",
    "\n",
    "df_train_unmod = pd.read_csv(\n",
    "    r\"D:\\ofact-intern\\projects\\iot_factory\\val\\data\\train_no_invalid_entries.csv\"\n",
    ")\n",
    "\n",
    "df_train_mod = generate_false_data(\n",
    "    df_train_unmod,\n",
    "    apply_na=True,\n",
    "    apply_id_mod=True,\n",
    "    apply_timestamp_err=True,\n",
    "    apply_mappings_replacement=False,  # TODO: Fix this is bugged\n",
    "    apply_invalid_flag=True,\n",
    "    apply_additional_errors=True,\n",
    "    additional_invalid_ratio=0.9,\n",
    "    random_seed=42,\n",
    ")\n",
    "\n",
    "df_train_mod[\"sequence_number\"] = (\n",
    "    df_train_mod.sort_values(by=[\"start_time\"])\n",
    "    .groupby(\"process_execution_id\")\n",
    "    .cumcount()\n",
    "    + 1\n",
    ")\n",
    "\n",
    "# Cast right dtypes for df_train_mod\n",
    "datetime_columns = [\"start_time\", \"end_time\"]\n",
    "for col in datetime_columns:\n",
    "    if col in df_train_mod.columns:\n",
    "        df_train_mod[col] = pd.to_datetime(df_train_mod[col], errors=\"coerce\", utc=True)\n",
    "\n",
    "# Define a mapping for numeric columns. Adjust types as needed.\n",
    "conversion_mapping = {\n",
    "    \"process_execution_id\": int,\n",
    "    \"order_id\": int,\n",
    "    \"part_id\": int,\n",
    "    \"process_id\": int,\n",
    "    \"resource_id\": int,\n",
    "    \"process_type\": int,\n",
    "    \"is_valid\": bool,  # use bool instead if preferred (df_train_mod[\"is_valid\"].astype(bool))\n",
    "    \"duration\": float,\n",
    "    \"sequence_number\": int,\n",
    "}"
   ]
  },
  {
   "cell_type": "code",
   "execution_count": 4,
   "metadata": {},
   "outputs": [
    {
     "name": "stdout",
     "output_type": "stream",
     "text": [
      "Train Classes is_valid\n",
      "True     1458\n",
      "False    1361\n",
      "Name: count, dtype: int64\n",
      "Test Classes is_valid\n",
      "True     17433\n",
      "False    16315\n",
      "Name: count, dtype: int64\n"
     ]
    }
   ],
   "source": [
    "from projects.iot_factory.val.data.generate_false_data import generate_false_data\n",
    "import pandas as pd\n",
    "\n",
    "df_test_unmod = pd.read_csv(\n",
    "    r\"D:\\ofact-intern\\projects\\iot_factory\\val\\data\\test_no_invalid_entries.csv\"\n",
    ")\n",
    "\n",
    "df_test_mod = generate_false_data(\n",
    "    df_test_unmod,\n",
    "    apply_na=True,\n",
    "    apply_id_mod=True,\n",
    "    apply_timestamp_err=True,\n",
    "    apply_mappings_replacement=False,  # TODO: Fix this is bugged\n",
    "    apply_invalid_flag=True,\n",
    "    apply_additional_errors=True,\n",
    "    additional_invalid_ratio=0.9,\n",
    "    random_seed=42,\n",
    ")\n",
    "\n",
    "df_test_mod[\"sequence_number\"] = (\n",
    "    df_test_mod.sort_values(by=[\"start_time\"])\n",
    "    .groupby(\"process_execution_id\")\n",
    "    .cumcount()\n",
    "    + 1\n",
    ")\n",
    "\n",
    "# Cast right dtypes for df_test_mod\n",
    "datetime_columns = [\"start_time\", \"end_time\"]\n",
    "for col in datetime_columns:\n",
    "    if col in df_test_mod.columns:\n",
    "        df_test_mod[col] = pd.to_datetime(df_test_mod[col], errors=\"coerce\", utc=True)\n",
    "\n",
    "# Define a mapping for numeric columns. Adjust types as needed.\n",
    "conversion_mapping = {\n",
    "    \"process_execution_id\": int,\n",
    "    \"order_id\": int,\n",
    "    \"part_id\": int,\n",
    "    \"process_id\": int,\n",
    "    \"resource_id\": int,\n",
    "    \"process_type\": int,\n",
    "    \"is_valid\": bool,  # use bool instead if preferred (df_test_mod[\"is_valid\"].astype(bool))\n",
    "    \"duration\": float,\n",
    "    \"sequence_number\": int,\n",
    "}\n",
    "\n",
    "for col, dtype in conversion_mapping.items():\n",
    "    if col in df_test_mod.columns:\n",
    "        df_test_mod.loc[df_test_mod[col].notna(), col] = df_test_mod.loc[\n",
    "            df_test_mod[col].notna(), col\n",
    "        ].astype(dtype)\n",
    "\n",
    "# Count class balances for train and test\n",
    "print(\"Train Classes\", df_train_mod[\"is_valid\"].value_counts())\n",
    "print(\"Test Classes\", df_test_mod[\"is_valid\"].value_counts())"
   ]
  },
  {
   "cell_type": "markdown",
   "metadata": {},
   "source": [
    "## Baseline Model"
   ]
  },
  {
   "cell_type": "code",
   "execution_count": 5,
   "metadata": {},
   "outputs": [
    {
     "name": "stderr",
     "output_type": "stream",
     "text": [
      "c:\\Users\\danie\\miniforge3\\envs\\ofact\\Lib\\site-packages\\tqdm\\auto.py:21: TqdmWarning: IProgress not found. Please update jupyter and ipywidgets. See https://ipywidgets.readthedocs.io/en/stable/user_install.html\n",
      "  from .autonotebook import tqdm as notebook_tqdm\n",
      "[I 2025-02-24 13:23:23,507] A new study created in memory with name: no-name-374bba60-d86d-4631-b223-165ed4119486\n",
      "c:\\Users\\danie\\miniforge3\\envs\\ofact\\Lib\\site-packages\\xgboost\\core.py:158: UserWarning: [13:23:23] WARNING: C:\\buildkite-agent\\builds\\buildkite-windows-cpu-autoscaling-group-i-08cbc0333d8d4aae1-1\\xgboost\\xgboost-ci-windows\\src\\learner.cc:740: \n",
      "Parameters: { \"use_label_encoder\" } are not used.\n",
      "\n",
      "  warnings.warn(smsg, UserWarning)\n",
      "[I 2025-02-24 13:23:23,642] Trial 0 finished with value: 0.6459592398603278 and parameters: {'n_estimators': 295, 'max_depth': 16, 'learning_rate': 0.08448684735496903, 'colsample_bytree': 0.6862094877203115, 'subsample': 0.5031353513178796, 'gamma': 19.89341791749124, 'reg_alpha': 2.6847165117887615, 'reg_lambda': 6.111811987947904}. Best is trial 0 with value: 0.6459592398603278.\n",
      "c:\\Users\\danie\\miniforge3\\envs\\ofact\\Lib\\site-packages\\xgboost\\core.py:158: UserWarning: [13:23:23] WARNING: C:\\buildkite-agent\\builds\\buildkite-windows-cpu-autoscaling-group-i-08cbc0333d8d4aae1-1\\xgboost\\xgboost-ci-windows\\src\\learner.cc:740: \n",
      "Parameters: { \"use_label_encoder\" } are not used.\n",
      "\n",
      "  warnings.warn(smsg, UserWarning)\n",
      "[I 2025-02-24 13:23:23,670] Trial 1 finished with value: 0.6326047542304594 and parameters: {'n_estimators': 108, 'max_depth': 19, 'learning_rate': 0.3481589779743852, 'colsample_bytree': 0.5819997520794455, 'subsample': 0.8075436492130604, 'gamma': 75.18189160222956, 'reg_alpha': 6.784124676260994, 'reg_lambda': 4.774259835792856}. Best is trial 0 with value: 0.6459592398603278.\n",
      "c:\\Users\\danie\\miniforge3\\envs\\ofact\\Lib\\site-packages\\xgboost\\core.py:158: UserWarning: [13:23:23] WARNING: C:\\buildkite-agent\\builds\\buildkite-windows-cpu-autoscaling-group-i-08cbc0333d8d4aae1-1\\xgboost\\xgboost-ci-windows\\src\\learner.cc:740: \n",
      "Parameters: { \"use_label_encoder\" } are not used.\n",
      "\n",
      "  warnings.warn(smsg, UserWarning)\n",
      "[I 2025-02-24 13:23:23,711] Trial 2 finished with value: 0.6326047542304594 and parameters: {'n_estimators': 111, 'max_depth': 12, 'learning_rate': 0.48032978370998186, 'colsample_bytree': 0.9334500508085652, 'subsample': 0.8655376686809797, 'gamma': 76.33163823357452, 'reg_alpha': 9.63413658171708, 'reg_lambda': 6.005377274032011}. Best is trial 0 with value: 0.6459592398603278.\n"
     ]
    },
    {
     "name": "stdout",
     "output_type": "stream",
     "text": [
      "scale_pos_weight: 0.9343137254901961\n"
     ]
    },
    {
     "name": "stderr",
     "output_type": "stream",
     "text": [
      "c:\\Users\\danie\\miniforge3\\envs\\ofact\\Lib\\site-packages\\xgboost\\core.py:158: UserWarning: [13:23:23] WARNING: C:\\buildkite-agent\\builds\\buildkite-windows-cpu-autoscaling-group-i-08cbc0333d8d4aae1-1\\xgboost\\xgboost-ci-windows\\src\\learner.cc:740: \n",
      "Parameters: { \"use_label_encoder\" } are not used.\n",
      "\n",
      "  warnings.warn(smsg, UserWarning)\n",
      "[I 2025-02-24 13:23:23,745] Trial 3 finished with value: 0.6326047542304594 and parameters: {'n_estimators': 199, 'max_depth': 2, 'learning_rate': 0.11393880462324908, 'colsample_bytree': 0.6534639159385651, 'subsample': 0.5232484036214042, 'gamma': 47.413181563146345, 'reg_alpha': 1.4843076394834898, 'reg_lambda': 9.647834501590099}. Best is trial 0 with value: 0.6459592398603278.\n",
      "c:\\Users\\danie\\miniforge3\\envs\\ofact\\Lib\\site-packages\\xgboost\\core.py:158: UserWarning: [13:23:23] WARNING: C:\\buildkite-agent\\builds\\buildkite-windows-cpu-autoscaling-group-i-08cbc0333d8d4aae1-1\\xgboost\\xgboost-ci-windows\\src\\learner.cc:740: \n",
      "Parameters: { \"use_label_encoder\" } are not used.\n",
      "\n",
      "  warnings.warn(smsg, UserWarning)\n",
      "[I 2025-02-24 13:23:23,789] Trial 4 finished with value: 0.6326047542304594 and parameters: {'n_estimators': 292, 'max_depth': 17, 'learning_rate': 0.27553983497297196, 'colsample_bytree': 0.7267707110766197, 'subsample': 0.8379574854429155, 'gamma': 26.997683721407807, 'reg_alpha': 9.062882795404093, 'reg_lambda': 9.879678737159963}. Best is trial 0 with value: 0.6459592398603278.\n",
      "c:\\Users\\danie\\miniforge3\\envs\\ofact\\Lib\\site-packages\\xgboost\\core.py:158: UserWarning: [13:23:23] WARNING: C:\\buildkite-agent\\builds\\buildkite-windows-cpu-autoscaling-group-i-08cbc0333d8d4aae1-1\\xgboost\\xgboost-ci-windows\\src\\learner.cc:740: \n",
      "Parameters: { \"use_label_encoder\" } are not used.\n",
      "\n",
      "  warnings.warn(smsg, UserWarning)\n",
      "[I 2025-02-24 13:23:23,815] Trial 5 finished with value: 0.6326047542304594 and parameters: {'n_estimators': 117, 'max_depth': 8, 'learning_rate': 0.3809740756755426, 'colsample_bytree': 0.6707136498360206, 'subsample': 0.9822023671655542, 'gamma': 75.71792321203468, 'reg_alpha': 5.008570157581072, 'reg_lambda': 3.905365819610178}. Best is trial 0 with value: 0.6459592398603278.\n",
      "c:\\Users\\danie\\miniforge3\\envs\\ofact\\Lib\\site-packages\\xgboost\\core.py:158: UserWarning: [13:23:23] WARNING: C:\\buildkite-agent\\builds\\buildkite-windows-cpu-autoscaling-group-i-08cbc0333d8d4aae1-1\\xgboost\\xgboost-ci-windows\\src\\learner.cc:740: \n",
      "Parameters: { \"use_label_encoder\" } are not used.\n",
      "\n",
      "  warnings.warn(smsg, UserWarning)\n",
      "[I 2025-02-24 13:23:23,896] Trial 6 finished with value: 0.6459592398603278 and parameters: {'n_estimators': 383, 'max_depth': 18, 'learning_rate': 0.23349242743050208, 'colsample_bytree': 0.7610068939724578, 'subsample': 0.8500503003284534, 'gamma': 14.943496388380462, 'reg_alpha': 5.196156536026082, 'reg_lambda': 0.5852443706912813}. Best is trial 0 with value: 0.6459592398603278.\n",
      "c:\\Users\\danie\\miniforge3\\envs\\ofact\\Lib\\site-packages\\xgboost\\core.py:158: UserWarning: [13:23:23] WARNING: C:\\buildkite-agent\\builds\\buildkite-windows-cpu-autoscaling-group-i-08cbc0333d8d4aae1-1\\xgboost\\xgboost-ci-windows\\src\\learner.cc:740: \n",
      "Parameters: { \"use_label_encoder\" } are not used.\n",
      "\n",
      "  warnings.warn(smsg, UserWarning)\n",
      "[I 2025-02-24 13:23:23,963] Trial 7 finished with value: 0.6326047542304594 and parameters: {'n_estimators': 258, 'max_depth': 6, 'learning_rate': 0.23764093022447258, 'colsample_bytree': 0.7059845887723271, 'subsample': 0.9808521736377376, 'gamma': 85.73938473686538, 'reg_alpha': 3.661697657393855, 'reg_lambda': 2.0771085950532187}. Best is trial 0 with value: 0.6459592398603278.\n",
      "c:\\Users\\danie\\miniforge3\\envs\\ofact\\Lib\\site-packages\\xgboost\\core.py:158: UserWarning: [13:23:23] WARNING: C:\\buildkite-agent\\builds\\buildkite-windows-cpu-autoscaling-group-i-08cbc0333d8d4aae1-1\\xgboost\\xgboost-ci-windows\\src\\learner.cc:740: \n",
      "Parameters: { \"use_label_encoder\" } are not used.\n",
      "\n",
      "  warnings.warn(smsg, UserWarning)\n",
      "[I 2025-02-24 13:23:24,036] Trial 8 finished with value: 0.6326047542304594 and parameters: {'n_estimators': 294, 'max_depth': 11, 'learning_rate': 0.43711603819056755, 'colsample_bytree': 0.674029001025146, 'subsample': 0.6749773104912404, 'gamma': 29.561571288079026, 'reg_alpha': 6.808569762210154, 'reg_lambda': 9.662375638796515}. Best is trial 0 with value: 0.6459592398603278.\n",
      "c:\\Users\\danie\\miniforge3\\envs\\ofact\\Lib\\site-packages\\xgboost\\core.py:158: UserWarning: [13:23:24] WARNING: C:\\buildkite-agent\\builds\\buildkite-windows-cpu-autoscaling-group-i-08cbc0333d8d4aae1-1\\xgboost\\xgboost-ci-windows\\src\\learner.cc:740: \n",
      "Parameters: { \"use_label_encoder\" } are not used.\n",
      "\n",
      "  warnings.warn(smsg, UserWarning)\n",
      "[I 2025-02-24 13:23:24,197] Trial 9 finished with value: 0.6326047542304594 and parameters: {'n_estimators': 368, 'max_depth': 17, 'learning_rate': 0.2792917571375932, 'colsample_bytree': 0.6186611323380099, 'subsample': 0.9846463751304322, 'gamma': 70.0980671280863, 'reg_alpha': 6.538684453804202, 'reg_lambda': 7.1643225307125995}. Best is trial 0 with value: 0.6459592398603278.\n",
      "c:\\Users\\danie\\miniforge3\\envs\\ofact\\Lib\\site-packages\\xgboost\\core.py:158: UserWarning: [13:23:24] WARNING: C:\\buildkite-agent\\builds\\buildkite-windows-cpu-autoscaling-group-i-08cbc0333d8d4aae1-1\\xgboost\\xgboost-ci-windows\\src\\learner.cc:740: \n",
      "Parameters: { \"use_label_encoder\" } are not used.\n",
      "\n",
      "  warnings.warn(smsg, UserWarning)\n",
      "[I 2025-02-24 13:23:24,697] Trial 10 finished with value: 0.6387825678216492 and parameters: {'n_estimators': 486, 'max_depth': 14, 'learning_rate': 0.010874870608230572, 'colsample_bytree': 0.8532815760831318, 'subsample': 0.5466513817651196, 'gamma': 2.719228040301914, 'reg_alpha': 0.17387119997751643, 'reg_lambda': 7.292868780882429}. Best is trial 0 with value: 0.6459592398603278.\n",
      "c:\\Users\\danie\\miniforge3\\envs\\ofact\\Lib\\site-packages\\xgboost\\core.py:158: UserWarning: [13:23:24] WARNING: C:\\buildkite-agent\\builds\\buildkite-windows-cpu-autoscaling-group-i-08cbc0333d8d4aae1-1\\xgboost\\xgboost-ci-windows\\src\\learner.cc:740: \n",
      "Parameters: { \"use_label_encoder\" } are not used.\n",
      "\n",
      "  warnings.warn(smsg, UserWarning)\n",
      "[I 2025-02-24 13:23:25,212] Trial 11 finished with value: 0.6315107664070195 and parameters: {'n_estimators': 406, 'max_depth': 20, 'learning_rate': 0.1504458245658748, 'colsample_bytree': 0.8092384002512953, 'subsample': 0.6837382627804205, 'gamma': 2.465696232107259, 'reg_alpha': 3.039428954532266, 'reg_lambda': 0.0831484534376905}. Best is trial 0 with value: 0.6459592398603278.\n",
      "c:\\Users\\danie\\miniforge3\\envs\\ofact\\Lib\\site-packages\\xgboost\\core.py:158: UserWarning: [13:23:25] WARNING: C:\\buildkite-agent\\builds\\buildkite-windows-cpu-autoscaling-group-i-08cbc0333d8d4aae1-1\\xgboost\\xgboost-ci-windows\\src\\learner.cc:740: \n",
      "Parameters: { \"use_label_encoder\" } are not used.\n",
      "\n",
      "  warnings.warn(smsg, UserWarning)\n",
      "[I 2025-02-24 13:23:25,303] Trial 12 finished with value: 0.6459592398603278 and parameters: {'n_estimators': 365, 'max_depth': 15, 'learning_rate': 0.06800525766271641, 'colsample_bytree': 0.505543660681288, 'subsample': 0.6247661338233718, 'gamma': 24.357943446631708, 'reg_alpha': 3.18910779401286, 'reg_lambda': 3.174753006273581}. Best is trial 0 with value: 0.6459592398603278.\n",
      "c:\\Users\\danie\\miniforge3\\envs\\ofact\\Lib\\site-packages\\xgboost\\core.py:158: UserWarning: [13:23:25] WARNING: C:\\buildkite-agent\\builds\\buildkite-windows-cpu-autoscaling-group-i-08cbc0333d8d4aae1-1\\xgboost\\xgboost-ci-windows\\src\\learner.cc:740: \n",
      "Parameters: { \"use_label_encoder\" } are not used.\n",
      "\n",
      "  warnings.warn(smsg, UserWarning)\n",
      "[I 2025-02-24 13:23:25,392] Trial 13 finished with value: 0.6459592398603278 and parameters: {'n_estimators': 458, 'max_depth': 17, 'learning_rate': 0.1873928278788318, 'colsample_bytree': 0.8035212973305277, 'subsample': 0.7672957038218775, 'gamma': 16.988706074683776, 'reg_alpha': 4.698494634013771, 'reg_lambda': 0.4484007070092524}. Best is trial 0 with value: 0.6459592398603278.\n",
      "c:\\Users\\danie\\miniforge3\\envs\\ofact\\Lib\\site-packages\\xgboost\\core.py:158: UserWarning: [13:23:25] WARNING: C:\\buildkite-agent\\builds\\buildkite-windows-cpu-autoscaling-group-i-08cbc0333d8d4aae1-1\\xgboost\\xgboost-ci-windows\\src\\learner.cc:740: \n",
      "Parameters: { \"use_label_encoder\" } are not used.\n",
      "\n",
      "  warnings.warn(smsg, UserWarning)\n",
      "[I 2025-02-24 13:23:25,449] Trial 14 finished with value: 0.6326047542304594 and parameters: {'n_estimators': 228, 'max_depth': 14, 'learning_rate': 0.10775585848655103, 'colsample_bytree': 0.9199248014856038, 'subsample': 0.8855819906031369, 'gamma': 47.57803789281511, 'reg_alpha': 1.2573536331223836, 'reg_lambda': 6.151576182796661}. Best is trial 0 with value: 0.6459592398603278.\n",
      "c:\\Users\\danie\\miniforge3\\envs\\ofact\\Lib\\site-packages\\xgboost\\core.py:158: UserWarning: [13:23:25] WARNING: C:\\buildkite-agent\\builds\\buildkite-windows-cpu-autoscaling-group-i-08cbc0333d8d4aae1-1\\xgboost\\xgboost-ci-windows\\src\\learner.cc:740: \n",
      "Parameters: { \"use_label_encoder\" } are not used.\n",
      "\n",
      "  warnings.warn(smsg, UserWarning)\n",
      "[I 2025-02-24 13:23:25,519] Trial 15 finished with value: 0.6326047542304594 and parameters: {'n_estimators': 339, 'max_depth': 20, 'learning_rate': 0.02121711644450866, 'colsample_bytree': 0.7625684138301355, 'subsample': 0.601140185847765, 'gamma': 39.57575892122389, 'reg_alpha': 5.2991527953379585, 'reg_lambda': 2.0110133041944867}. Best is trial 0 with value: 0.6459592398603278.\n",
      "c:\\Users\\danie\\miniforge3\\envs\\ofact\\Lib\\site-packages\\xgboost\\core.py:158: UserWarning: [13:23:25] WARNING: C:\\buildkite-agent\\builds\\buildkite-windows-cpu-autoscaling-group-i-08cbc0333d8d4aae1-1\\xgboost\\xgboost-ci-windows\\src\\learner.cc:740: \n",
      "Parameters: { \"use_label_encoder\" } are not used.\n",
      "\n",
      "  warnings.warn(smsg, UserWarning)\n",
      "[I 2025-02-24 13:23:25,599] Trial 16 finished with value: 0.6459592398603278 and parameters: {'n_estimators': 412, 'max_depth': 10, 'learning_rate': 0.21085710620507106, 'colsample_bytree': 0.9971766915146175, 'subsample': 0.7193533606180484, 'gamma': 13.646777029136638, 'reg_alpha': 1.8955442552593746, 'reg_lambda': 7.952735466798609}. Best is trial 0 with value: 0.6459592398603278.\n",
      "c:\\Users\\danie\\miniforge3\\envs\\ofact\\Lib\\site-packages\\xgboost\\core.py:158: UserWarning: [13:23:25] WARNING: C:\\buildkite-agent\\builds\\buildkite-windows-cpu-autoscaling-group-i-08cbc0333d8d4aae1-1\\xgboost\\xgboost-ci-windows\\src\\learner.cc:740: \n",
      "Parameters: { \"use_label_encoder\" } are not used.\n",
      "\n",
      "  warnings.warn(smsg, UserWarning)\n",
      "[I 2025-02-24 13:23:25,655] Trial 17 finished with value: 0.6326047542304594 and parameters: {'n_estimators': 206, 'max_depth': 16, 'learning_rate': 0.29402756735011665, 'colsample_bytree': 0.5686684194315785, 'subsample': 0.8929601510488843, 'gamma': 61.21412748580378, 'reg_alpha': 8.517453445168535, 'reg_lambda': 5.393400151353892}. Best is trial 0 with value: 0.6459592398603278.\n",
      "c:\\Users\\danie\\miniforge3\\envs\\ofact\\Lib\\site-packages\\xgboost\\core.py:158: UserWarning: [13:23:25] WARNING: C:\\buildkite-agent\\builds\\buildkite-windows-cpu-autoscaling-group-i-08cbc0333d8d4aae1-1\\xgboost\\xgboost-ci-windows\\src\\learner.cc:740: \n",
      "Parameters: { \"use_label_encoder\" } are not used.\n",
      "\n",
      "  warnings.warn(smsg, UserWarning)\n",
      "[I 2025-02-24 13:23:25,730] Trial 18 finished with value: 0.6326047542304594 and parameters: {'n_estimators': 335, 'max_depth': 13, 'learning_rate': 0.18004735532552682, 'colsample_bytree': 0.7966152538778084, 'subsample': 0.7706768651202859, 'gamma': 97.79567431244912, 'reg_alpha': 4.156508009330514, 'reg_lambda': 1.625763923852354}. Best is trial 0 with value: 0.6459592398603278.\n",
      "c:\\Users\\danie\\miniforge3\\envs\\ofact\\Lib\\site-packages\\xgboost\\core.py:158: UserWarning: [13:23:25] WARNING: C:\\buildkite-agent\\builds\\buildkite-windows-cpu-autoscaling-group-i-08cbc0333d8d4aae1-1\\xgboost\\xgboost-ci-windows\\src\\learner.cc:740: \n",
      "Parameters: { \"use_label_encoder\" } are not used.\n",
      "\n",
      "  warnings.warn(smsg, UserWarning)\n",
      "[I 2025-02-24 13:23:25,808] Trial 19 finished with value: 0.6326047542304594 and parameters: {'n_estimators': 409, 'max_depth': 18, 'learning_rate': 0.07218746476066668, 'colsample_bytree': 0.8597112096368292, 'subsample': 0.5829827400444784, 'gamma': 37.52418655011313, 'reg_alpha': 5.6366540709929565, 'reg_lambda': 3.841115987413132}. Best is trial 0 with value: 0.6459592398603278.\n",
      "c:\\Users\\danie\\miniforge3\\envs\\ofact\\Lib\\site-packages\\xgboost\\core.py:158: UserWarning: [13:23:25] WARNING: C:\\buildkite-agent\\builds\\buildkite-windows-cpu-autoscaling-group-i-08cbc0333d8d4aae1-1\\xgboost\\xgboost-ci-windows\\src\\learner.cc:740: \n",
      "Parameters: { \"use_label_encoder\" } are not used.\n",
      "\n",
      "  warnings.warn(smsg, UserWarning)\n",
      "[I 2025-02-24 13:23:25,852] Trial 20 finished with value: 0.6459592398603278 and parameters: {'n_estimators': 167, 'max_depth': 9, 'learning_rate': 0.3212062925134235, 'colsample_bytree': 0.7570957347796209, 'subsample': 0.9304191158025434, 'gamma': 13.469430853197338, 'reg_alpha': 2.5285386764643807, 'reg_lambda': 8.50842279505165}. Best is trial 0 with value: 0.6459592398603278.\n",
      "c:\\Users\\danie\\miniforge3\\envs\\ofact\\Lib\\site-packages\\xgboost\\core.py:158: UserWarning: [13:23:25] WARNING: C:\\buildkite-agent\\builds\\buildkite-windows-cpu-autoscaling-group-i-08cbc0333d8d4aae1-1\\xgboost\\xgboost-ci-windows\\src\\learner.cc:740: \n",
      "Parameters: { \"use_label_encoder\" } are not used.\n",
      "\n",
      "  warnings.warn(smsg, UserWarning)\n",
      "[I 2025-02-24 13:23:25,921] Trial 21 finished with value: 0.6459592398603278 and parameters: {'n_estimators': 369, 'max_depth': 13, 'learning_rate': 0.061069624852391896, 'colsample_bytree': 0.5028778919087883, 'subsample': 0.6287222397626638, 'gamma': 22.566115075226882, 'reg_alpha': 3.357415965777235, 'reg_lambda': 3.1793346881630056}. Best is trial 0 with value: 0.6459592398603278.\n",
      "c:\\Users\\danie\\miniforge3\\envs\\ofact\\Lib\\site-packages\\xgboost\\core.py:158: UserWarning: [13:23:25] WARNING: C:\\buildkite-agent\\builds\\buildkite-windows-cpu-autoscaling-group-i-08cbc0333d8d4aae1-1\\xgboost\\xgboost-ci-windows\\src\\learner.cc:740: \n",
      "Parameters: { \"use_label_encoder\" } are not used.\n",
      "\n",
      "  warnings.warn(smsg, UserWarning)\n",
      "[I 2025-02-24 13:23:25,984] Trial 22 finished with value: 0.6425513698630136 and parameters: {'n_estimators': 327, 'max_depth': 15, 'learning_rate': 0.12436702045151476, 'colsample_bytree': 0.5127122229599679, 'subsample': 0.5140894139490662, 'gamma': 9.278596625071863, 'reg_alpha': 2.296011707561397, 'reg_lambda': 1.2135788243496466}. Best is trial 0 with value: 0.6459592398603278.\n",
      "c:\\Users\\danie\\miniforge3\\envs\\ofact\\Lib\\site-packages\\xgboost\\core.py:158: UserWarning: [13:23:26] WARNING: C:\\buildkite-agent\\builds\\buildkite-windows-cpu-autoscaling-group-i-08cbc0333d8d4aae1-1\\xgboost\\xgboost-ci-windows\\src\\learner.cc:740: \n",
      "Parameters: { \"use_label_encoder\" } are not used.\n",
      "\n",
      "  warnings.warn(smsg, UserWarning)\n",
      "[I 2025-02-24 13:23:26,045] Trial 23 finished with value: 0.6326047542304594 and parameters: {'n_estimators': 268, 'max_depth': 15, 'learning_rate': 0.06377848568667574, 'colsample_bytree': 0.5573523420219131, 'subsample': 0.6498700181174161, 'gamma': 38.24164768019902, 'reg_alpha': 0.8931516474922141, 'reg_lambda': 2.8508953076794836}. Best is trial 0 with value: 0.6459592398603278.\n",
      "c:\\Users\\danie\\miniforge3\\envs\\ofact\\Lib\\site-packages\\xgboost\\core.py:158: UserWarning: [13:23:26] WARNING: C:\\buildkite-agent\\builds\\buildkite-windows-cpu-autoscaling-group-i-08cbc0333d8d4aae1-1\\xgboost\\xgboost-ci-windows\\src\\learner.cc:740: \n",
      "Parameters: { \"use_label_encoder\" } are not used.\n",
      "\n",
      "  warnings.warn(smsg, UserWarning)\n",
      "[I 2025-02-24 13:23:26,132] Trial 24 finished with value: 0.6459592398603278 and parameters: {'n_estimators': 372, 'max_depth': 18, 'learning_rate': 0.0032129374653352277, 'colsample_bytree': 0.6249693569999067, 'subsample': 0.5685439087477192, 'gamma': 20.98259040268698, 'reg_alpha': 3.9743123551568513, 'reg_lambda': 4.442213540726177}. Best is trial 0 with value: 0.6459592398603278.\n",
      "c:\\Users\\danie\\miniforge3\\envs\\ofact\\Lib\\site-packages\\xgboost\\core.py:158: UserWarning: [13:23:26] WARNING: C:\\buildkite-agent\\builds\\buildkite-windows-cpu-autoscaling-group-i-08cbc0333d8d4aae1-1\\xgboost\\xgboost-ci-windows\\src\\learner.cc:740: \n",
      "Parameters: { \"use_label_encoder\" } are not used.\n",
      "\n",
      "  warnings.warn(smsg, UserWarning)\n",
      "[I 2025-02-24 13:23:26,202] Trial 25 finished with value: 0.6326047542304594 and parameters: {'n_estimators': 443, 'max_depth': 16, 'learning_rate': 0.15272556499482665, 'colsample_bytree': 0.7233625783439604, 'subsample': 0.724035783643847, 'gamma': 32.162755279094526, 'reg_alpha': 5.733068485759065, 'reg_lambda': 0.9363376562212753}. Best is trial 0 with value: 0.6459592398603278.\n",
      "c:\\Users\\danie\\miniforge3\\envs\\ofact\\Lib\\site-packages\\xgboost\\core.py:158: UserWarning: [13:23:26] WARNING: C:\\buildkite-agent\\builds\\buildkite-windows-cpu-autoscaling-group-i-08cbc0333d8d4aae1-1\\xgboost\\xgboost-ci-windows\\src\\learner.cc:740: \n",
      "Parameters: { \"use_label_encoder\" } are not used.\n",
      "\n",
      "  warnings.warn(smsg, UserWarning)\n",
      "[I 2025-02-24 13:23:26,261] Trial 26 finished with value: 0.6459592398603278 and parameters: {'n_estimators': 309, 'max_depth': 19, 'learning_rate': 0.22448659615208721, 'colsample_bytree': 0.8691009702421179, 'subsample': 0.5002043970772947, 'gamma': 7.914487412094893, 'reg_alpha': 7.777977953388975, 'reg_lambda': 2.8162608943019936}. Best is trial 0 with value: 0.6459592398603278.\n",
      "c:\\Users\\danie\\miniforge3\\envs\\ofact\\Lib\\site-packages\\xgboost\\core.py:158: UserWarning: [13:23:26] WARNING: C:\\buildkite-agent\\builds\\buildkite-windows-cpu-autoscaling-group-i-08cbc0333d8d4aae1-1\\xgboost\\xgboost-ci-windows\\src\\learner.cc:740: \n",
      "Parameters: { \"use_label_encoder\" } are not used.\n",
      "\n",
      "  warnings.warn(smsg, UserWarning)\n",
      "[I 2025-02-24 13:23:26,329] Trial 27 finished with value: 0.6326047542304594 and parameters: {'n_estimators': 374, 'max_depth': 15, 'learning_rate': 0.08340231912973656, 'colsample_bytree': 0.6199948067491535, 'subsample': 0.6183804367625938, 'gamma': 57.31598404049916, 'reg_alpha': 2.777540974602175, 'reg_lambda': 5.709567614097475}. Best is trial 0 with value: 0.6459592398603278.\n",
      "c:\\Users\\danie\\miniforge3\\envs\\ofact\\Lib\\site-packages\\xgboost\\core.py:158: UserWarning: [13:23:26] WARNING: C:\\buildkite-agent\\builds\\buildkite-windows-cpu-autoscaling-group-i-08cbc0333d8d4aae1-1\\xgboost\\xgboost-ci-windows\\src\\learner.cc:740: \n",
      "Parameters: { \"use_label_encoder\" } are not used.\n",
      "\n",
      "  warnings.warn(smsg, UserWarning)\n",
      "[I 2025-02-24 13:23:26,383] Trial 28 finished with value: 0.6459592398603278 and parameters: {'n_estimators': 254, 'max_depth': 12, 'learning_rate': 0.03902490935069077, 'colsample_bytree': 0.6961680421191602, 'subsample': 0.8129445557855589, 'gamma': 24.180970113346124, 'reg_alpha': 4.404806567135883, 'reg_lambda': 6.7411272772588955}. Best is trial 0 with value: 0.6459592398603278.\n",
      "c:\\Users\\danie\\miniforge3\\envs\\ofact\\Lib\\site-packages\\xgboost\\core.py:158: UserWarning: [13:23:26] WARNING: C:\\buildkite-agent\\builds\\buildkite-windows-cpu-autoscaling-group-i-08cbc0333d8d4aae1-1\\xgboost\\xgboost-ci-windows\\src\\learner.cc:740: \n",
      "Parameters: { \"use_label_encoder\" } are not used.\n",
      "\n",
      "  warnings.warn(smsg, UserWarning)\n",
      "[I 2025-02-24 13:23:26,499] Trial 29 finished with value: 0.6161137971170203 and parameters: {'n_estimators': 434, 'max_depth': 18, 'learning_rate': 0.35956815271211867, 'colsample_bytree': 0.5342184835316731, 'subsample': 0.5510547461149433, 'gamma': 0.545851163447848, 'reg_alpha': 6.737604146045336, 'reg_lambda': 4.737999221472105}. Best is trial 0 with value: 0.6459592398603278.\n",
      "c:\\Users\\danie\\miniforge3\\envs\\ofact\\Lib\\site-packages\\xgboost\\core.py:158: UserWarning: [13:23:26] WARNING: C:\\buildkite-agent\\builds\\buildkite-windows-cpu-autoscaling-group-i-08cbc0333d8d4aae1-1\\xgboost\\xgboost-ci-windows\\src\\learner.cc:740: \n",
      "Parameters: { \"use_label_encoder\" } are not used.\n",
      "\n",
      "  warnings.warn(smsg, UserWarning)\n",
      "[I 2025-02-24 13:23:26,586] Trial 30 finished with value: 0.6326047542304594 and parameters: {'n_estimators': 350, 'max_depth': 19, 'learning_rate': 0.1525642079175994, 'colsample_bytree': 0.5834051887209266, 'subsample': 0.8082756863743104, 'gamma': 31.57550087003308, 'reg_alpha': 3.4219775179121013, 'reg_lambda': 3.8838550819301156}. Best is trial 0 with value: 0.6459592398603278.\n",
      "c:\\Users\\danie\\miniforge3\\envs\\ofact\\Lib\\site-packages\\xgboost\\core.py:158: UserWarning: [13:23:26] WARNING: C:\\buildkite-agent\\builds\\buildkite-windows-cpu-autoscaling-group-i-08cbc0333d8d4aae1-1\\xgboost\\xgboost-ci-windows\\src\\learner.cc:740: \n",
      "Parameters: { \"use_label_encoder\" } are not used.\n",
      "\n",
      "  warnings.warn(smsg, UserWarning)\n",
      "[I 2025-02-24 13:23:26,676] Trial 31 finished with value: 0.6459592398603278 and parameters: {'n_estimators': 452, 'max_depth': 17, 'learning_rate': 0.17692794265207448, 'colsample_bytree': 0.8225617916883166, 'subsample': 0.7453660965462308, 'gamma': 14.443899456122367, 'reg_alpha': 4.749217559947942, 'reg_lambda': 0.5132204144496968}. Best is trial 0 with value: 0.6459592398603278.\n",
      "c:\\Users\\danie\\miniforge3\\envs\\ofact\\Lib\\site-packages\\xgboost\\core.py:158: UserWarning: [13:23:26] WARNING: C:\\buildkite-agent\\builds\\buildkite-windows-cpu-autoscaling-group-i-08cbc0333d8d4aae1-1\\xgboost\\xgboost-ci-windows\\src\\learner.cc:740: \n",
      "Parameters: { \"use_label_encoder\" } are not used.\n",
      "\n",
      "  warnings.warn(smsg, UserWarning)\n",
      "[I 2025-02-24 13:23:26,760] Trial 32 finished with value: 0.6459592398603278 and parameters: {'n_estimators': 500, 'max_depth': 16, 'learning_rate': 0.1985982076897507, 'colsample_bytree': 0.896501692840854, 'subsample': 0.771881512485955, 'gamma': 17.81656338328044, 'reg_alpha': 4.516413569441384, 'reg_lambda': 0.05250678908842765}. Best is trial 0 with value: 0.6459592398603278.\n",
      "c:\\Users\\danie\\miniforge3\\envs\\ofact\\Lib\\site-packages\\xgboost\\core.py:158: UserWarning: [13:23:26] WARNING: C:\\buildkite-agent\\builds\\buildkite-windows-cpu-autoscaling-group-i-08cbc0333d8d4aae1-1\\xgboost\\xgboost-ci-windows\\src\\learner.cc:740: \n",
      "Parameters: { \"use_label_encoder\" } are not used.\n",
      "\n",
      "  warnings.warn(smsg, UserWarning)\n",
      "[I 2025-02-24 13:23:26,852] Trial 33 finished with value: 0.6459592398603278 and parameters: {'n_estimators': 463, 'max_depth': 19, 'learning_rate': 0.2511438101180494, 'colsample_bytree': 0.7740352911666099, 'subsample': 0.8409035867579192, 'gamma': 18.202197409399446, 'reg_alpha': 6.1698785610064615, 'reg_lambda': 0.9828620070566598}. Best is trial 0 with value: 0.6459592398603278.\n",
      "c:\\Users\\danie\\miniforge3\\envs\\ofact\\Lib\\site-packages\\xgboost\\core.py:158: UserWarning: [13:23:26] WARNING: C:\\buildkite-agent\\builds\\buildkite-windows-cpu-autoscaling-group-i-08cbc0333d8d4aae1-1\\xgboost\\xgboost-ci-windows\\src\\learner.cc:740: \n",
      "Parameters: { \"use_label_encoder\" } are not used.\n",
      "\n",
      "  warnings.warn(smsg, UserWarning)\n",
      "[I 2025-02-24 13:23:26,925] Trial 34 finished with value: 0.6432788297967589 and parameters: {'n_estimators': 393, 'max_depth': 14, 'learning_rate': 0.10021942767964803, 'colsample_bytree': 0.833902265818804, 'subsample': 0.6928284069343609, 'gamma': 8.793706943947418, 'reg_alpha': 1.9440177808602281, 'reg_lambda': 2.124663650196317}. Best is trial 0 with value: 0.6459592398603278.\n",
      "c:\\Users\\danie\\miniforge3\\envs\\ofact\\Lib\\site-packages\\xgboost\\core.py:158: UserWarning: [13:23:26] WARNING: C:\\buildkite-agent\\builds\\buildkite-windows-cpu-autoscaling-group-i-08cbc0333d8d4aae1-1\\xgboost\\xgboost-ci-windows\\src\\learner.cc:740: \n",
      "Parameters: { \"use_label_encoder\" } are not used.\n",
      "\n",
      "  warnings.warn(smsg, UserWarning)\n",
      "[I 2025-02-24 13:23:27,102] Trial 35 finished with value: 0.6326047542304594 and parameters: {'n_estimators': 311, 'max_depth': 3, 'learning_rate': 0.13132886003323127, 'colsample_bytree': 0.7841893027289044, 'subsample': 0.7663276464333222, 'gamma': 25.454956176232585, 'reg_alpha': 3.8803745222526147, 'reg_lambda': 0.6019460731214471}. Best is trial 0 with value: 0.6459592398603278.\n",
      "c:\\Users\\danie\\miniforge3\\envs\\ofact\\Lib\\site-packages\\xgboost\\core.py:158: UserWarning: [13:23:27] WARNING: C:\\buildkite-agent\\builds\\buildkite-windows-cpu-autoscaling-group-i-08cbc0333d8d4aae1-1\\xgboost\\xgboost-ci-windows\\src\\learner.cc:740: \n",
      "Parameters: { \"use_label_encoder\" } are not used.\n",
      "\n",
      "  warnings.warn(smsg, UserWarning)\n",
      "[I 2025-02-24 13:23:27,318] Trial 36 finished with value: 0.6326047542304594 and parameters: {'n_estimators': 432, 'max_depth': 17, 'learning_rate': 0.04043350567097774, 'colsample_bytree': 0.7333889232536287, 'subsample': 0.9319518342616333, 'gamma': 36.20656388372135, 'reg_alpha': 7.331858248388796, 'reg_lambda': 1.4837679279330769}. Best is trial 0 with value: 0.6459592398603278.\n",
      "c:\\Users\\danie\\miniforge3\\envs\\ofact\\Lib\\site-packages\\xgboost\\core.py:158: UserWarning: [13:23:27] WARNING: C:\\buildkite-agent\\builds\\buildkite-windows-cpu-autoscaling-group-i-08cbc0333d8d4aae1-1\\xgboost\\xgboost-ci-windows\\src\\learner.cc:740: \n",
      "Parameters: { \"use_label_encoder\" } are not used.\n",
      "\n",
      "  warnings.warn(smsg, UserWarning)\n",
      "[I 2025-02-24 13:23:27,389] Trial 37 finished with value: 0.6326047542304594 and parameters: {'n_estimators': 282, 'max_depth': 12, 'learning_rate': 0.2549399528587346, 'colsample_bytree': 0.6615693648094549, 'subsample': 0.847451902901976, 'gamma': 43.213698965013684, 'reg_alpha': 5.174272970478653, 'reg_lambda': 3.2534225449418415}. Best is trial 0 with value: 0.6459592398603278.\n",
      "c:\\Users\\danie\\miniforge3\\envs\\ofact\\Lib\\site-packages\\xgboost\\core.py:158: UserWarning: [13:23:27] WARNING: C:\\buildkite-agent\\builds\\buildkite-windows-cpu-autoscaling-group-i-08cbc0333d8d4aae1-1\\xgboost\\xgboost-ci-windows\\src\\learner.cc:740: \n",
      "Parameters: { \"use_label_encoder\" } are not used.\n",
      "\n",
      "  warnings.warn(smsg, UserWarning)\n",
      "[I 2025-02-24 13:23:27,488] Trial 38 finished with value: 0.6326047542304594 and parameters: {'n_estimators': 475, 'max_depth': 16, 'learning_rate': 0.49504772596030655, 'colsample_bytree': 0.987011457206354, 'subsample': 0.6590488279180918, 'gamma': 54.166151806200396, 'reg_alpha': 3.121426815153855, 'reg_lambda': 6.347290706138969}. Best is trial 0 with value: 0.6459592398603278.\n",
      "c:\\Users\\danie\\miniforge3\\envs\\ofact\\Lib\\site-packages\\xgboost\\core.py:158: UserWarning: [13:23:27] WARNING: C:\\buildkite-agent\\builds\\buildkite-windows-cpu-autoscaling-group-i-08cbc0333d8d4aae1-1\\xgboost\\xgboost-ci-windows\\src\\learner.cc:740: \n",
      "Parameters: { \"use_label_encoder\" } are not used.\n",
      "\n",
      "  warnings.warn(smsg, UserWarning)\n",
      "[I 2025-02-24 13:23:27,585] Trial 39 finished with value: 0.6326047542304594 and parameters: {'n_estimators': 354, 'max_depth': 6, 'learning_rate': 0.3124471716980695, 'colsample_bytree': 0.5930832294511391, 'subsample': 0.7991614783287191, 'gamma': 27.02127553294055, 'reg_alpha': 9.804000958577069, 'reg_lambda': 5.139269235821199}. Best is trial 0 with value: 0.6459592398603278.\n",
      "c:\\Users\\danie\\miniforge3\\envs\\ofact\\Lib\\site-packages\\xgboost\\core.py:158: UserWarning: [13:23:27] WARNING: C:\\buildkite-agent\\builds\\buildkite-windows-cpu-autoscaling-group-i-08cbc0333d8d4aae1-1\\xgboost\\xgboost-ci-windows\\src\\learner.cc:740: \n",
      "Parameters: { \"use_label_encoder\" } are not used.\n",
      "\n",
      "  warnings.warn(smsg, UserWarning)\n",
      "[I 2025-02-24 13:23:27,663] Trial 40 finished with value: 0.6412055689855849 and parameters: {'n_estimators': 390, 'max_depth': 18, 'learning_rate': 0.4038800912249997, 'colsample_bytree': 0.6942382871077293, 'subsample': 0.7074695647763546, 'gamma': 6.505238031821689, 'reg_alpha': 0.9004211134223072, 'reg_lambda': 2.2222070196463024}. Best is trial 0 with value: 0.6459592398603278.\n",
      "c:\\Users\\danie\\miniforge3\\envs\\ofact\\Lib\\site-packages\\xgboost\\core.py:158: UserWarning: [13:23:27] WARNING: C:\\buildkite-agent\\builds\\buildkite-windows-cpu-autoscaling-group-i-08cbc0333d8d4aae1-1\\xgboost\\xgboost-ci-windows\\src\\learner.cc:740: \n",
      "Parameters: { \"use_label_encoder\" } are not used.\n",
      "\n",
      "  warnings.warn(smsg, UserWarning)\n",
      "[I 2025-02-24 13:23:27,760] Trial 41 finished with value: 0.6459592398603278 and parameters: {'n_estimators': 419, 'max_depth': 10, 'learning_rate': 0.21299115291990936, 'colsample_bytree': 0.9955282174729739, 'subsample': 0.733578660771532, 'gamma': 13.764267558441764, 'reg_alpha': 2.0128146674469276, 'reg_lambda': 8.350936913046532}. Best is trial 0 with value: 0.6459592398603278.\n",
      "c:\\Users\\danie\\miniforge3\\envs\\ofact\\Lib\\site-packages\\xgboost\\core.py:158: UserWarning: [13:23:27] WARNING: C:\\buildkite-agent\\builds\\buildkite-windows-cpu-autoscaling-group-i-08cbc0333d8d4aae1-1\\xgboost\\xgboost-ci-windows\\src\\learner.cc:740: \n",
      "Parameters: { \"use_label_encoder\" } are not used.\n",
      "\n",
      "  warnings.warn(smsg, UserWarning)\n",
      "[I 2025-02-24 13:23:27,832] Trial 42 finished with value: 0.6459592398603278 and parameters: {'n_estimators': 396, 'max_depth': 8, 'learning_rate': 0.19102109896080358, 'colsample_bytree': 0.9737302231108655, 'subsample': 0.5325610245926596, 'gamma': 17.5392451555859, 'reg_alpha': 1.667910162584882, 'reg_lambda': 7.812630349913386}. Best is trial 0 with value: 0.6459592398603278.\n",
      "c:\\Users\\danie\\miniforge3\\envs\\ofact\\Lib\\site-packages\\xgboost\\core.py:158: UserWarning: [13:23:27] WARNING: C:\\buildkite-agent\\builds\\buildkite-windows-cpu-autoscaling-group-i-08cbc0333d8d4aae1-1\\xgboost\\xgboost-ci-windows\\src\\learner.cc:740: \n",
      "Parameters: { \"use_label_encoder\" } are not used.\n",
      "\n",
      "  warnings.warn(smsg, UserWarning)\n",
      "[I 2025-02-24 13:23:27,909] Trial 43 finished with value: 0.6459592398603278 and parameters: {'n_estimators': 465, 'max_depth': 11, 'learning_rate': 0.2636241798326028, 'colsample_bytree': 0.9219435288911917, 'subsample': 0.8700237863097559, 'gamma': 14.653128352848487, 'reg_alpha': 2.668404268127674, 'reg_lambda': 9.184749449996158}. Best is trial 0 with value: 0.6459592398603278.\n",
      "c:\\Users\\danie\\miniforge3\\envs\\ofact\\Lib\\site-packages\\xgboost\\core.py:158: UserWarning: [13:23:27] WARNING: C:\\buildkite-agent\\builds\\buildkite-windows-cpu-autoscaling-group-i-08cbc0333d8d4aae1-1\\xgboost\\xgboost-ci-windows\\src\\learner.cc:740: \n",
      "Parameters: { \"use_label_encoder\" } are not used.\n",
      "\n",
      "  warnings.warn(smsg, UserWarning)\n",
      "[I 2025-02-24 13:23:28,029] Trial 44 finished with value: 0.6400388351687707 and parameters: {'n_estimators': 418, 'max_depth': 20, 'learning_rate': 0.22671600558383564, 'colsample_bytree': 0.9481502073460518, 'subsample': 0.711787310825896, 'gamma': 5.149587239339809, 'reg_alpha': 3.715346447184195, 'reg_lambda': 7.292090935547062}. Best is trial 0 with value: 0.6459592398603278.\n",
      "c:\\Users\\danie\\miniforge3\\envs\\ofact\\Lib\\site-packages\\xgboost\\core.py:158: UserWarning: [13:23:28] WARNING: C:\\buildkite-agent\\builds\\buildkite-windows-cpu-autoscaling-group-i-08cbc0333d8d4aae1-1\\xgboost\\xgboost-ci-windows\\src\\learner.cc:740: \n",
      "Parameters: { \"use_label_encoder\" } are not used.\n",
      "\n",
      "  warnings.warn(smsg, UserWarning)\n",
      "[I 2025-02-24 13:23:28,120] Trial 45 finished with value: 0.6326047542304594 and parameters: {'n_estimators': 318, 'max_depth': 8, 'learning_rate': 0.1649393092005428, 'colsample_bytree': 0.8964230805258155, 'subsample': 0.6583029100133279, 'gamma': 29.591726532122642, 'reg_alpha': 0.0699163625477155, 'reg_lambda': 6.604326371747417}. Best is trial 0 with value: 0.6459592398603278.\n",
      "c:\\Users\\danie\\miniforge3\\envs\\ofact\\Lib\\site-packages\\xgboost\\core.py:158: UserWarning: [13:23:28] WARNING: C:\\buildkite-agent\\builds\\buildkite-windows-cpu-autoscaling-group-i-08cbc0333d8d4aae1-1\\xgboost\\xgboost-ci-windows\\src\\learner.cc:740: \n",
      "Parameters: { \"use_label_encoder\" } are not used.\n",
      "\n",
      "  warnings.warn(smsg, UserWarning)\n",
      "[I 2025-02-24 13:23:28,221] Trial 46 finished with value: 0.6459592398603278 and parameters: {'n_estimators': 351, 'max_depth': 10, 'learning_rate': 0.28992773897798774, 'colsample_bytree': 0.6403583483333684, 'subsample': 0.793095077769624, 'gamma': 20.13484157962706, 'reg_alpha': 1.2371674011021803, 'reg_lambda': 7.900163865682969}. Best is trial 0 with value: 0.6459592398603278.\n",
      "c:\\Users\\danie\\miniforge3\\envs\\ofact\\Lib\\site-packages\\xgboost\\core.py:158: UserWarning: [13:23:28] WARNING: C:\\buildkite-agent\\builds\\buildkite-windows-cpu-autoscaling-group-i-08cbc0333d8d4aae1-1\\xgboost\\xgboost-ci-windows\\src\\learner.cc:740: \n",
      "Parameters: { \"use_label_encoder\" } are not used.\n",
      "\n",
      "  warnings.warn(smsg, UserWarning)\n",
      "[I 2025-02-24 13:23:28,297] Trial 47 finished with value: 0.6459592398603278 and parameters: {'n_estimators': 383, 'max_depth': 13, 'learning_rate': 0.12983402465829355, 'colsample_bytree': 0.7352702582324521, 'subsample': 0.9212972056529583, 'gamma': 11.234074365576486, 'reg_alpha': 4.825759350353517, 'reg_lambda': 5.760610498865146}. Best is trial 0 with value: 0.6459592398603278.\n",
      "c:\\Users\\danie\\miniforge3\\envs\\ofact\\Lib\\site-packages\\xgboost\\core.py:158: UserWarning: [13:23:28] WARNING: C:\\buildkite-agent\\builds\\buildkite-windows-cpu-autoscaling-group-i-08cbc0333d8d4aae1-1\\xgboost\\xgboost-ci-windows\\src\\learner.cc:740: \n",
      "Parameters: { \"use_label_encoder\" } are not used.\n",
      "\n",
      "  warnings.warn(smsg, UserWarning)\n",
      "[I 2025-02-24 13:23:28,350] Trial 48 finished with value: 0.6326047542304594 and parameters: {'n_estimators': 150, 'max_depth': 17, 'learning_rate': 0.0979289398286671, 'colsample_bytree': 0.9569987416925411, 'subsample': 0.5833871886390316, 'gamma': 43.29234575462179, 'reg_alpha': 5.509413103882506, 'reg_lambda': 0.3919272279725248}. Best is trial 0 with value: 0.6459592398603278.\n",
      "c:\\Users\\danie\\miniforge3\\envs\\ofact\\Lib\\site-packages\\xgboost\\core.py:158: UserWarning: [13:23:28] WARNING: C:\\buildkite-agent\\builds\\buildkite-windows-cpu-autoscaling-group-i-08cbc0333d8d4aae1-1\\xgboost\\xgboost-ci-windows\\src\\learner.cc:740: \n",
      "Parameters: { \"use_label_encoder\" } are not used.\n",
      "\n",
      "  warnings.warn(smsg, UserWarning)\n",
      "[I 2025-02-24 13:23:28,422] Trial 49 finished with value: 0.6326047542304594 and parameters: {'n_estimators': 247, 'max_depth': 6, 'learning_rate': 0.21050729205585034, 'colsample_bytree': 0.8016249798882914, 'subsample': 0.8256731982605274, 'gamma': 80.66168593204483, 'reg_alpha': 2.8936383249783493, 'reg_lambda': 9.117410738778398}. Best is trial 0 with value: 0.6459592398603278.\n"
     ]
    },
    {
     "name": "stdout",
     "output_type": "stream",
     "text": [
      "Best hyperparameters: {'n_estimators': 295, 'max_depth': 16, 'learning_rate': 0.08448684735496903, 'colsample_bytree': 0.6862094877203115, 'subsample': 0.5031353513178796, 'gamma': 19.89341791749124, 'reg_alpha': 2.6847165117887615, 'reg_lambda': 6.111811987947904}\n",
      "Validation Accuracy: 0.6335697399527187\n",
      "Validation ROC AUC: 0.6459592398603278\n",
      "Validation Classification Report:\n",
      "               precision    recall  f1-score   support\n",
      "\n",
      "           0       0.62      0.61      0.61       408\n",
      "           1       0.64      0.66      0.65       438\n",
      "\n",
      "    accuracy                           0.63       846\n",
      "   macro avg       0.63      0.63      0.63       846\n",
      "weighted avg       0.63      0.63      0.63       846\n",
      "\n",
      "Test Accuracy: 0.6310892497333175\n",
      "Test ROC AUC: 0.6430581747071082\n",
      "Test Classification Report:\n",
      "               precision    recall  f1-score   support\n",
      "\n",
      "           0       0.62      0.60      0.61     16315\n",
      "           1       0.64      0.66      0.65     17433\n",
      "\n",
      "    accuracy                           0.63     33748\n",
      "   macro avg       0.63      0.63      0.63     33748\n",
      "weighted avg       0.63      0.63      0.63     33748\n",
      "\n"
     ]
    },
    {
     "data": {
      "application/vnd.plotly.v1+json": {
       "config": {
        "plotlyServerURL": "https://plot.ly"
       },
       "data": [
        {
         "cliponaxis": false,
         "hovertemplate": [
          "n_estimators (IntDistribution): 9.388507842740057e-05<extra></extra>",
          "colsample_bytree (FloatDistribution): 0.00010069395262584959<extra></extra>",
          "max_depth (IntDistribution): 0.00029260843410976916<extra></extra>",
          "reg_lambda (FloatDistribution): 0.0006217967096340906<extra></extra>",
          "subsample (FloatDistribution): 0.0036137593360013975<extra></extra>",
          "learning_rate (FloatDistribution): 0.004396958094623131<extra></extra>",
          "reg_alpha (FloatDistribution): 0.007575231652309652<extra></extra>",
          "gamma (FloatDistribution): 0.9833050667422687<extra></extra>"
         ],
         "name": "Objective Value",
         "orientation": "h",
         "text": [
          "<0.01",
          "<0.01",
          "<0.01",
          "<0.01",
          "<0.01",
          "<0.01",
          "<0.01",
          "0.98"
         ],
         "textposition": "outside",
         "type": "bar",
         "x": [
          0.00009388507842740057,
          0.00010069395262584959,
          0.00029260843410976916,
          0.0006217967096340906,
          0.0036137593360013975,
          0.004396958094623131,
          0.007575231652309652,
          0.9833050667422687
         ],
         "y": [
          "n_estimators",
          "colsample_bytree",
          "max_depth",
          "reg_lambda",
          "subsample",
          "learning_rate",
          "reg_alpha",
          "gamma"
         ]
        }
       ],
       "layout": {
        "template": {
         "data": {
          "bar": [
           {
            "error_x": {
             "color": "#2a3f5f"
            },
            "error_y": {
             "color": "#2a3f5f"
            },
            "marker": {
             "line": {
              "color": "#E5ECF6",
              "width": 0.5
             },
             "pattern": {
              "fillmode": "overlay",
              "size": 10,
              "solidity": 0.2
             }
            },
            "type": "bar"
           }
          ],
          "barpolar": [
           {
            "marker": {
             "line": {
              "color": "#E5ECF6",
              "width": 0.5
             },
             "pattern": {
              "fillmode": "overlay",
              "size": 10,
              "solidity": 0.2
             }
            },
            "type": "barpolar"
           }
          ],
          "carpet": [
           {
            "aaxis": {
             "endlinecolor": "#2a3f5f",
             "gridcolor": "white",
             "linecolor": "white",
             "minorgridcolor": "white",
             "startlinecolor": "#2a3f5f"
            },
            "baxis": {
             "endlinecolor": "#2a3f5f",
             "gridcolor": "white",
             "linecolor": "white",
             "minorgridcolor": "white",
             "startlinecolor": "#2a3f5f"
            },
            "type": "carpet"
           }
          ],
          "choropleth": [
           {
            "colorbar": {
             "outlinewidth": 0,
             "ticks": ""
            },
            "type": "choropleth"
           }
          ],
          "contour": [
           {
            "colorbar": {
             "outlinewidth": 0,
             "ticks": ""
            },
            "colorscale": [
             [
              0,
              "#0d0887"
             ],
             [
              0.1111111111111111,
              "#46039f"
             ],
             [
              0.2222222222222222,
              "#7201a8"
             ],
             [
              0.3333333333333333,
              "#9c179e"
             ],
             [
              0.4444444444444444,
              "#bd3786"
             ],
             [
              0.5555555555555556,
              "#d8576b"
             ],
             [
              0.6666666666666666,
              "#ed7953"
             ],
             [
              0.7777777777777778,
              "#fb9f3a"
             ],
             [
              0.8888888888888888,
              "#fdca26"
             ],
             [
              1,
              "#f0f921"
             ]
            ],
            "type": "contour"
           }
          ],
          "contourcarpet": [
           {
            "colorbar": {
             "outlinewidth": 0,
             "ticks": ""
            },
            "type": "contourcarpet"
           }
          ],
          "heatmap": [
           {
            "colorbar": {
             "outlinewidth": 0,
             "ticks": ""
            },
            "colorscale": [
             [
              0,
              "#0d0887"
             ],
             [
              0.1111111111111111,
              "#46039f"
             ],
             [
              0.2222222222222222,
              "#7201a8"
             ],
             [
              0.3333333333333333,
              "#9c179e"
             ],
             [
              0.4444444444444444,
              "#bd3786"
             ],
             [
              0.5555555555555556,
              "#d8576b"
             ],
             [
              0.6666666666666666,
              "#ed7953"
             ],
             [
              0.7777777777777778,
              "#fb9f3a"
             ],
             [
              0.8888888888888888,
              "#fdca26"
             ],
             [
              1,
              "#f0f921"
             ]
            ],
            "type": "heatmap"
           }
          ],
          "histogram": [
           {
            "marker": {
             "pattern": {
              "fillmode": "overlay",
              "size": 10,
              "solidity": 0.2
             }
            },
            "type": "histogram"
           }
          ],
          "histogram2d": [
           {
            "colorbar": {
             "outlinewidth": 0,
             "ticks": ""
            },
            "colorscale": [
             [
              0,
              "#0d0887"
             ],
             [
              0.1111111111111111,
              "#46039f"
             ],
             [
              0.2222222222222222,
              "#7201a8"
             ],
             [
              0.3333333333333333,
              "#9c179e"
             ],
             [
              0.4444444444444444,
              "#bd3786"
             ],
             [
              0.5555555555555556,
              "#d8576b"
             ],
             [
              0.6666666666666666,
              "#ed7953"
             ],
             [
              0.7777777777777778,
              "#fb9f3a"
             ],
             [
              0.8888888888888888,
              "#fdca26"
             ],
             [
              1,
              "#f0f921"
             ]
            ],
            "type": "histogram2d"
           }
          ],
          "histogram2dcontour": [
           {
            "colorbar": {
             "outlinewidth": 0,
             "ticks": ""
            },
            "colorscale": [
             [
              0,
              "#0d0887"
             ],
             [
              0.1111111111111111,
              "#46039f"
             ],
             [
              0.2222222222222222,
              "#7201a8"
             ],
             [
              0.3333333333333333,
              "#9c179e"
             ],
             [
              0.4444444444444444,
              "#bd3786"
             ],
             [
              0.5555555555555556,
              "#d8576b"
             ],
             [
              0.6666666666666666,
              "#ed7953"
             ],
             [
              0.7777777777777778,
              "#fb9f3a"
             ],
             [
              0.8888888888888888,
              "#fdca26"
             ],
             [
              1,
              "#f0f921"
             ]
            ],
            "type": "histogram2dcontour"
           }
          ],
          "mesh3d": [
           {
            "colorbar": {
             "outlinewidth": 0,
             "ticks": ""
            },
            "type": "mesh3d"
           }
          ],
          "parcoords": [
           {
            "line": {
             "colorbar": {
              "outlinewidth": 0,
              "ticks": ""
             }
            },
            "type": "parcoords"
           }
          ],
          "pie": [
           {
            "automargin": true,
            "type": "pie"
           }
          ],
          "scatter": [
           {
            "fillpattern": {
             "fillmode": "overlay",
             "size": 10,
             "solidity": 0.2
            },
            "type": "scatter"
           }
          ],
          "scatter3d": [
           {
            "line": {
             "colorbar": {
              "outlinewidth": 0,
              "ticks": ""
             }
            },
            "marker": {
             "colorbar": {
              "outlinewidth": 0,
              "ticks": ""
             }
            },
            "type": "scatter3d"
           }
          ],
          "scattercarpet": [
           {
            "marker": {
             "colorbar": {
              "outlinewidth": 0,
              "ticks": ""
             }
            },
            "type": "scattercarpet"
           }
          ],
          "scattergeo": [
           {
            "marker": {
             "colorbar": {
              "outlinewidth": 0,
              "ticks": ""
             }
            },
            "type": "scattergeo"
           }
          ],
          "scattergl": [
           {
            "marker": {
             "colorbar": {
              "outlinewidth": 0,
              "ticks": ""
             }
            },
            "type": "scattergl"
           }
          ],
          "scattermap": [
           {
            "marker": {
             "colorbar": {
              "outlinewidth": 0,
              "ticks": ""
             }
            },
            "type": "scattermap"
           }
          ],
          "scattermapbox": [
           {
            "marker": {
             "colorbar": {
              "outlinewidth": 0,
              "ticks": ""
             }
            },
            "type": "scattermapbox"
           }
          ],
          "scatterpolar": [
           {
            "marker": {
             "colorbar": {
              "outlinewidth": 0,
              "ticks": ""
             }
            },
            "type": "scatterpolar"
           }
          ],
          "scatterpolargl": [
           {
            "marker": {
             "colorbar": {
              "outlinewidth": 0,
              "ticks": ""
             }
            },
            "type": "scatterpolargl"
           }
          ],
          "scatterternary": [
           {
            "marker": {
             "colorbar": {
              "outlinewidth": 0,
              "ticks": ""
             }
            },
            "type": "scatterternary"
           }
          ],
          "surface": [
           {
            "colorbar": {
             "outlinewidth": 0,
             "ticks": ""
            },
            "colorscale": [
             [
              0,
              "#0d0887"
             ],
             [
              0.1111111111111111,
              "#46039f"
             ],
             [
              0.2222222222222222,
              "#7201a8"
             ],
             [
              0.3333333333333333,
              "#9c179e"
             ],
             [
              0.4444444444444444,
              "#bd3786"
             ],
             [
              0.5555555555555556,
              "#d8576b"
             ],
             [
              0.6666666666666666,
              "#ed7953"
             ],
             [
              0.7777777777777778,
              "#fb9f3a"
             ],
             [
              0.8888888888888888,
              "#fdca26"
             ],
             [
              1,
              "#f0f921"
             ]
            ],
            "type": "surface"
           }
          ],
          "table": [
           {
            "cells": {
             "fill": {
              "color": "#EBF0F8"
             },
             "line": {
              "color": "white"
             }
            },
            "header": {
             "fill": {
              "color": "#C8D4E3"
             },
             "line": {
              "color": "white"
             }
            },
            "type": "table"
           }
          ]
         },
         "layout": {
          "annotationdefaults": {
           "arrowcolor": "#2a3f5f",
           "arrowhead": 0,
           "arrowwidth": 1
          },
          "autotypenumbers": "strict",
          "coloraxis": {
           "colorbar": {
            "outlinewidth": 0,
            "ticks": ""
           }
          },
          "colorscale": {
           "diverging": [
            [
             0,
             "#8e0152"
            ],
            [
             0.1,
             "#c51b7d"
            ],
            [
             0.2,
             "#de77ae"
            ],
            [
             0.3,
             "#f1b6da"
            ],
            [
             0.4,
             "#fde0ef"
            ],
            [
             0.5,
             "#f7f7f7"
            ],
            [
             0.6,
             "#e6f5d0"
            ],
            [
             0.7,
             "#b8e186"
            ],
            [
             0.8,
             "#7fbc41"
            ],
            [
             0.9,
             "#4d9221"
            ],
            [
             1,
             "#276419"
            ]
           ],
           "sequential": [
            [
             0,
             "#0d0887"
            ],
            [
             0.1111111111111111,
             "#46039f"
            ],
            [
             0.2222222222222222,
             "#7201a8"
            ],
            [
             0.3333333333333333,
             "#9c179e"
            ],
            [
             0.4444444444444444,
             "#bd3786"
            ],
            [
             0.5555555555555556,
             "#d8576b"
            ],
            [
             0.6666666666666666,
             "#ed7953"
            ],
            [
             0.7777777777777778,
             "#fb9f3a"
            ],
            [
             0.8888888888888888,
             "#fdca26"
            ],
            [
             1,
             "#f0f921"
            ]
           ],
           "sequentialminus": [
            [
             0,
             "#0d0887"
            ],
            [
             0.1111111111111111,
             "#46039f"
            ],
            [
             0.2222222222222222,
             "#7201a8"
            ],
            [
             0.3333333333333333,
             "#9c179e"
            ],
            [
             0.4444444444444444,
             "#bd3786"
            ],
            [
             0.5555555555555556,
             "#d8576b"
            ],
            [
             0.6666666666666666,
             "#ed7953"
            ],
            [
             0.7777777777777778,
             "#fb9f3a"
            ],
            [
             0.8888888888888888,
             "#fdca26"
            ],
            [
             1,
             "#f0f921"
            ]
           ]
          },
          "colorway": [
           "#636efa",
           "#EF553B",
           "#00cc96",
           "#ab63fa",
           "#FFA15A",
           "#19d3f3",
           "#FF6692",
           "#B6E880",
           "#FF97FF",
           "#FECB52"
          ],
          "font": {
           "color": "#2a3f5f"
          },
          "geo": {
           "bgcolor": "white",
           "lakecolor": "white",
           "landcolor": "#E5ECF6",
           "showlakes": true,
           "showland": true,
           "subunitcolor": "white"
          },
          "hoverlabel": {
           "align": "left"
          },
          "hovermode": "closest",
          "mapbox": {
           "style": "light"
          },
          "paper_bgcolor": "white",
          "plot_bgcolor": "#E5ECF6",
          "polar": {
           "angularaxis": {
            "gridcolor": "white",
            "linecolor": "white",
            "ticks": ""
           },
           "bgcolor": "#E5ECF6",
           "radialaxis": {
            "gridcolor": "white",
            "linecolor": "white",
            "ticks": ""
           }
          },
          "scene": {
           "xaxis": {
            "backgroundcolor": "#E5ECF6",
            "gridcolor": "white",
            "gridwidth": 2,
            "linecolor": "white",
            "showbackground": true,
            "ticks": "",
            "zerolinecolor": "white"
           },
           "yaxis": {
            "backgroundcolor": "#E5ECF6",
            "gridcolor": "white",
            "gridwidth": 2,
            "linecolor": "white",
            "showbackground": true,
            "ticks": "",
            "zerolinecolor": "white"
           },
           "zaxis": {
            "backgroundcolor": "#E5ECF6",
            "gridcolor": "white",
            "gridwidth": 2,
            "linecolor": "white",
            "showbackground": true,
            "ticks": "",
            "zerolinecolor": "white"
           }
          },
          "shapedefaults": {
           "line": {
            "color": "#2a3f5f"
           }
          },
          "ternary": {
           "aaxis": {
            "gridcolor": "white",
            "linecolor": "white",
            "ticks": ""
           },
           "baxis": {
            "gridcolor": "white",
            "linecolor": "white",
            "ticks": ""
           },
           "bgcolor": "#E5ECF6",
           "caxis": {
            "gridcolor": "white",
            "linecolor": "white",
            "ticks": ""
           }
          },
          "title": {
           "x": 0.05
          },
          "xaxis": {
           "automargin": true,
           "gridcolor": "white",
           "linecolor": "white",
           "ticks": "",
           "title": {
            "standoff": 15
           },
           "zerolinecolor": "white",
           "zerolinewidth": 2
          },
          "yaxis": {
           "automargin": true,
           "gridcolor": "white",
           "linecolor": "white",
           "ticks": "",
           "title": {
            "standoff": 15
           },
           "zerolinecolor": "white",
           "zerolinewidth": 2
          }
         }
        },
        "title": {
         "text": "Hyperparameter Importances"
        },
        "xaxis": {
         "title": {
          "text": "Hyperparameter Importance"
         }
        },
        "yaxis": {
         "title": {
          "text": "Hyperparameter"
         }
        }
       }
      }
     },
     "metadata": {},
     "output_type": "display_data"
    },
    {
     "data": {
      "image/png": "[encoded data removed]",
      "text/plain": [
       "<Figure size 800x600 with 1 Axes>"
      ]
     },
     "metadata": {},
     "output_type": "display_data"
    }
   ],
   "source": [
    "import pandas as pd\n",
    "import matplotlib.pyplot as plt\n",
    "from xgboost import XGBClassifier\n",
    "from sklearn.preprocessing import StandardScaler\n",
    "from sklearn.pipeline import Pipeline\n",
    "from sklearn.metrics import (\n",
    "    accuracy_score,\n",
    "    roc_auc_score,\n",
    "    classification_report,\n",
    "    roc_curve,\n",
    ")\n",
    "from sklearn.model_selection import train_test_split\n",
    "import optuna\n",
    "import optuna.visualization as vis\n",
    "\n",
    "\n",
    "def create_features_and_target(df: pd.DataFrame):\n",
    "    \"\"\"\n",
    "    Define feature columns and target vector.\n",
    "    Adjust the feature list as needed.\n",
    "    \"\"\"\n",
    "    feature_columns = [\n",
    "        \"duration\",\n",
    "        \"process_execution_id\",\n",
    "        \"part_id\",\n",
    "        \"process_type\",\n",
    "        \"process_id\",\n",
    "        \"resource_id\",\n",
    "        \"sequence_number\",\n",
    "    ]\n",
    "    X = df[feature_columns]\n",
    "    y = df[\"is_valid\"].astype(int)\n",
    "    return X, y\n",
    "\n",
    "\n",
    "def objective(trial, X_train, y_train, X_val, y_val, scale_pos_weight):\n",
    "    \"\"\"\n",
    "    Objective function for Optuna to optimize hyperparameters.\n",
    "    \"\"\"\n",
    "    # Suggest hyperparameters for optimization\n",
    "    params = {\n",
    "        \"n_estimators\": trial.suggest_int(\"n_estimators\", 100, 500),\n",
    "        \"max_depth\": trial.suggest_int(\"max_depth\", 2, 20),\n",
    "        \"learning_rate\": trial.suggest_float(\"learning_rate\", 0.001, 0.5),\n",
    "        \"colsample_bytree\": trial.suggest_float(\"colsample_bytree\", 0.5, 1.0),\n",
    "        \"subsample\": trial.suggest_float(\"subsample\", 0.5, 1.0),\n",
    "        \"gamma\": trial.suggest_float(\"gamma\", 0, 100),\n",
    "        \"reg_alpha\": trial.suggest_float(\"reg_alpha\", 0.0, 10.0),\n",
    "        \"reg_lambda\": trial.suggest_float(\"reg_lambda\", 0.0, 10.0),\n",
    "        \"scale_pos_weight\": scale_pos_weight,\n",
    "    }\n",
    "\n",
    "    # Train the XGBClassifier using the suggested hyperparameters\n",
    "    pipeline = Pipeline(\n",
    "        [\n",
    "            (\"scaler\", StandardScaler()),\n",
    "            (\n",
    "                \"xgb\",\n",
    "                XGBClassifier(\n",
    "                    objective=\"binary:logistic\",\n",
    "                    **params,\n",
    "                    use_label_encoder=False,\n",
    "                    eval_metric=\"auc\",\n",
    "                ),\n",
    "            ),\n",
    "        ]\n",
    "    )\n",
    "    pipeline.fit(X_train, y_train)\n",
    "\n",
    "    # Evaluate the model on the validation set\n",
    "    y_val_pred = pipeline.predict(X_val)\n",
    "    y_val_proba = pipeline.predict_proba(X_val)[:, 1]\n",
    "    val_auc = roc_auc_score(y_val, y_val_proba)\n",
    "\n",
    "    # Optuna will maximize this AUC\n",
    "    return val_auc\n",
    "\n",
    "\n",
    "def main(df_train_mod: pd.DataFrame, df_test_mod: pd.DataFrame):\n",
    "    # Split the original training set into new train and validation sets (70/30)\n",
    "    df_train_split, df_val_split = train_test_split(\n",
    "        df_train_mod, test_size=0.3, random_state=42, stratify=df_train_mod[\"is_valid\"]\n",
    "    )\n",
    "\n",
    "    # Create features and target vectors for each split\n",
    "    X_train, y_train = create_features_and_target(df_train_split)\n",
    "    X_val, y_val = create_features_and_target(df_val_split)\n",
    "    X_test, y_test = create_features_and_target(df_test_mod)\n",
    "\n",
    "    # Compute scale_pos_weight based on training data: (# negatives / # positives)\n",
    "    class_counts = y_train.value_counts().to_dict()\n",
    "    scale_pos_weight = class_counts.get(0, 1) / class_counts.get(1, 1)\n",
    "    print(f\"scale_pos_weight: {scale_pos_weight}\")\n",
    "\n",
    "    # Run Optuna study to optimize hyperparameters\n",
    "    study = optuna.create_study(direction=\"maximize\")\n",
    "    study.optimize(\n",
    "        lambda trial: objective(\n",
    "            trial, X_train, y_train, X_val, y_val, scale_pos_weight\n",
    "        ),\n",
    "        n_trials=50,\n",
    "    )\n",
    "\n",
    "    # Print the best hyperparameters\n",
    "    print(\"Best hyperparameters:\", study.best_params)\n",
    "\n",
    "    # Train the final model with the best hyperparameters\n",
    "    best_params = study.best_params\n",
    "    pipeline = Pipeline(\n",
    "        [\n",
    "            (\"scaler\", StandardScaler()),\n",
    "            (\n",
    "                \"xgb\",\n",
    "                XGBClassifier(\n",
    "                    objective=\"binary:logistic\",\n",
    "                    **best_params,\n",
    "                    eval_metric=\"logloss\",\n",
    "                ),\n",
    "            ),\n",
    "        ]\n",
    "    )\n",
    "    pipeline.fit(X_train, y_train)\n",
    "\n",
    "    # Evaluate on the validation set\n",
    "    y_val_pred = pipeline.predict(X_val)\n",
    "    y_val_proba = pipeline.predict_proba(X_val)[:, 1]\n",
    "    val_accuracy = accuracy_score(y_val, y_val_pred)\n",
    "    val_auc = roc_auc_score(y_val, y_val_proba)\n",
    "    print(\"Validation Accuracy:\", val_accuracy)\n",
    "    print(\"Validation ROC AUC:\", val_auc)\n",
    "    print(\n",
    "        \"Validation Classification Report:\\n\", classification_report(y_val, y_val_pred)\n",
    "    )\n",
    "\n",
    "    # Predict and evaluate on the test set\n",
    "    y_pred = pipeline.predict(X_test)\n",
    "    y_proba = pipeline.predict_proba(X_test)[:, 1]\n",
    "    test_accuracy = accuracy_score(y_test, y_pred)\n",
    "    test_auc = roc_auc_score(y_test, y_proba)\n",
    "    print(\"Test Accuracy:\", test_accuracy)\n",
    "    print(\"Test ROC AUC:\", test_auc)\n",
    "    print(\"Test Classification Report:\\n\", classification_report(y_test, y_pred))\n",
    "\n",
    "    # Visualize the optimization process\n",
    "    fig = vis.plot_param_importances(study)\n",
    "    fig.show()\n",
    "\n",
    "    # Compute and plot ROC curve for the test set\n",
    "    fpr, tpr, _ = roc_curve(y_test, y_proba)\n",
    "    plt.figure(figsize=(8, 6))\n",
    "    plt.plot(fpr, tpr, label=f\"ROC Curve (AUC = {test_auc:.2f})\")\n",
    "    plt.plot([0, 1], [0, 1], \"k--\", label=\"Random Model\")\n",
    "    plt.xlabel(\"False Positive Rate\")\n",
    "    plt.ylabel(\"True Positive Rate\")\n",
    "    plt.title(\"Test ROC Curve\")\n",
    "    plt.legend(loc=\"lower right\")\n",
    "    plt.grid(True)\n",
    "    plt.show()\n",
    "\n",
    "\n",
    "# Call main with your data\n",
    "main(df_train_mod, df_test_mod)"
   ]
  },
  {
   "cell_type": "markdown",
   "metadata": {},
   "source": [
    "This is an easy to explain approach without Optuna:"
   ]
  },
  {
   "cell_type": "code",
   "execution_count": 6,
   "metadata": {},
   "outputs": [
    {
     "name": "stdout",
     "output_type": "stream",
     "text": [
      "scale_pos_weight: 0.9343137254901961\n",
      "[0]\tvalidation_0-logloss:0.67953\tvalidation_0-auc:0.60804\n",
      "[1]\tvalidation_0-logloss:0.67379\tvalidation_0-auc:0.61840\n",
      "[2]\tvalidation_0-logloss:0.67057\tvalidation_0-auc:0.62171\n",
      "[3]\tvalidation_0-logloss:0.67192\tvalidation_0-auc:0.62040\n",
      "[4]\tvalidation_0-logloss:0.67118\tvalidation_0-auc:0.62400\n",
      "[5]\tvalidation_0-logloss:0.67410\tvalidation_0-auc:0.62422\n",
      "[6]\tvalidation_0-logloss:0.67930\tvalidation_0-auc:0.61716\n",
      "[7]\tvalidation_0-logloss:0.67980\tvalidation_0-auc:0.61817\n",
      "[8]\tvalidation_0-logloss:0.68454\tvalidation_0-auc:0.61257\n",
      "[9]\tvalidation_0-logloss:0.68714\tvalidation_0-auc:0.61302\n",
      "[10]\tvalidation_0-logloss:0.69151\tvalidation_0-auc:0.60773\n",
      "[11]\tvalidation_0-logloss:0.69365\tvalidation_0-auc:0.60524\n",
      "[12]\tvalidation_0-logloss:0.69633\tvalidation_0-auc:0.60289\n",
      "[13]\tvalidation_0-logloss:0.70003\tvalidation_0-auc:0.59903\n",
      "[14]\tvalidation_0-logloss:0.70184\tvalidation_0-auc:0.59791\n",
      "[15]\tvalidation_0-logloss:0.70320\tvalidation_0-auc:0.59604\n",
      "Validation Accuracy: 0.6040189125295509\n",
      "Validation ROC AUC: 0.6242249753782791\n",
      "Validation Classification Report:\n",
      "               precision    recall  f1-score   support\n",
      "\n",
      "           0       0.59      0.60      0.59       408\n",
      "           1       0.62      0.61      0.62       438\n",
      "\n",
      "    accuracy                           0.60       846\n",
      "   macro avg       0.60      0.60      0.60       846\n",
      "weighted avg       0.60      0.60      0.60       846\n",
      "\n",
      "Test Accuracy: 0.6288668958160484\n",
      "Test ROC AUC: 0.6190959920296575\n",
      "Test Classification Report:\n",
      "               precision    recall  f1-score   support\n",
      "\n",
      "           0       0.62      0.60      0.61     16315\n",
      "           1       0.64      0.66      0.65     17433\n",
      "\n",
      "    accuracy                           0.63     33748\n",
      "   macro avg       0.63      0.63      0.63     33748\n",
      "weighted avg       0.63      0.63      0.63     33748\n",
      "\n"
     ]
    },
    {
     "data": {
      "image/png": "[encoded data removed]",
      "text/plain": [
       "<Figure size 800x600 with 1 Axes>"
      ]
     },
     "metadata": {},
     "output_type": "display_data"
    }
   ],
   "source": [
    "import pandas as pd\n",
    "import matplotlib.pyplot as plt\n",
    "from xgboost import XGBClassifier\n",
    "from sklearn.preprocessing import StandardScaler\n",
    "from sklearn.metrics import (\n",
    "    accuracy_score,\n",
    "    classification_report,\n",
    "    roc_auc_score,\n",
    "    roc_curve,\n",
    ")\n",
    "from sklearn.model_selection import train_test_split\n",
    "\n",
    "\n",
    "def create_features_and_target(df: pd.DataFrame):\n",
    "    \"\"\"\n",
    "    Define feature columns and target vector.\n",
    "    Adjust the feature list as needed.\n",
    "    \"\"\"\n",
    "    feature_columns = [\n",
    "        \"duration\",\n",
    "        \"process_execution_id\",\n",
    "        \"part_id\",\n",
    "        \"process_type\",\n",
    "        \"process_id\",\n",
    "        \"resource_id\",\n",
    "        \"sequence_number\",\n",
    "    ]\n",
    "    X = df[feature_columns]\n",
    "    y = df[\"is_valid\"].astype(int)\n",
    "    return X, y\n",
    "\n",
    "\n",
    "def main(df_train_mod: pd.DataFrame, df_test_mod: pd.DataFrame):\n",
    "    # Split the original training set into new train and validation sets (70/30)\n",
    "    df_train_split, df_val_split = train_test_split(\n",
    "        df_train_mod,\n",
    "        test_size=0.3,\n",
    "        random_state=42,\n",
    "        stratify=df_train_mod[\"is_valid\"],\n",
    "    )\n",
    "\n",
    "    # Create features and target vectors for each split\n",
    "    X_train, y_train = create_features_and_target(df_train_split)\n",
    "    X_val, y_val = create_features_and_target(df_val_split)\n",
    "    X_test, y_test = create_features_and_target(df_test_mod)\n",
    "\n",
    "    # Standardize the data\n",
    "    scaler = StandardScaler()\n",
    "    X_train_scaled = scaler.fit_transform(X_train)\n",
    "    X_val_scaled = scaler.transform(X_val)\n",
    "    X_test_scaled = scaler.transform(X_test)\n",
    "\n",
    "    # Compute scale_pos_weight based on training data: (# negatives / # positives)\n",
    "    class_counts = y_train.value_counts().to_dict()\n",
    "    scale_pos_weight = class_counts.get(0, 1) / class_counts.get(1, 1)\n",
    "    print(f\"scale_pos_weight: {scale_pos_weight}\")\n",
    "\n",
    "    xgb_model = XGBClassifier(\n",
    "        objective=\"binary:logistic\",\n",
    "        scale_pos_weight=scale_pos_weight,\n",
    "        missing=float(\"nan\"),\n",
    "        verbosity=0,\n",
    "        eval_metric=[\"logloss\", \"auc\"],\n",
    "        early_stopping_rounds=10,  # Specify eval_metric here\n",
    "    )\n",
    "\n",
    "    # Train the model\n",
    "    xgb_model.fit(\n",
    "        X_train_scaled,\n",
    "        y_train,\n",
    "        eval_set=[\n",
    "            (X_val_scaled, y_val)\n",
    "        ],  # Optional: stop training if no improvement in 10 rounds\n",
    "        verbose=True,\n",
    "    )\n",
    "\n",
    "    # Evaluate on the validation set\n",
    "    y_val_pred = xgb_model.predict(X_val_scaled)\n",
    "    y_val_proba = xgb_model.predict_proba(X_val_scaled)[:, 1]\n",
    "    val_accuracy = accuracy_score(y_val, y_val_pred)\n",
    "    val_auc = roc_auc_score(y_val, y_val_proba)\n",
    "    print(\"Validation Accuracy:\", val_accuracy)\n",
    "    print(\"Validation ROC AUC:\", val_auc)\n",
    "    print(\n",
    "        \"Validation Classification Report:\\n\", classification_report(y_val, y_val_pred)\n",
    "    )\n",
    "\n",
    "    # Predict and evaluate on the test set\n",
    "    y_pred = xgb_model.predict(X_test_scaled)\n",
    "    y_proba = xgb_model.predict_proba(X_test_scaled)[:, 1]\n",
    "    test_accuracy = accuracy_score(y_test, y_pred)\n",
    "    test_auc = roc_auc_score(y_test, y_proba)\n",
    "    print(\"Test Accuracy:\", test_accuracy)\n",
    "    print(\"Test ROC AUC:\", test_auc)\n",
    "    print(\"Test Classification Report:\\n\", classification_report(y_test, y_pred))\n",
    "\n",
    "    # Compute and plot ROC curve for the test set\n",
    "    fpr, tpr, _ = roc_curve(y_test, y_proba)\n",
    "    plt.figure(figsize=(8, 6))\n",
    "    plt.plot(fpr, tpr, label=f\"ROC Curve (AUC = {test_auc:.2f})\")\n",
    "    plt.plot([0, 1], [0, 1], \"k--\", label=\"Random Model\")\n",
    "    plt.xlabel(\"False Positive Rate\")\n",
    "    plt.ylabel(\"True Positive Rate\")\n",
    "    plt.title(\"Test ROC Curve\")\n",
    "    plt.legend(loc=\"lower right\")\n",
    "    plt.grid(True)\n",
    "    plt.show()\n",
    "\n",
    "\n",
    "# Call main with your dataframes\n",
    "main(df_train_mod, df_test_mod)"
   ]
  },
  {
   "cell_type": "code",
   "execution_count": 7,
   "metadata": {},
   "outputs": [
    {
     "name": "stderr",
     "output_type": "stream",
     "text": [
      "[I 2025-02-24 13:23:29,040] A new study created in memory with name: no-name-83f9f698-48e6-4205-87cd-3ff6ebf15b4d\n",
      "c:\\Users\\danie\\miniforge3\\envs\\ofact\\Lib\\site-packages\\xgboost\\core.py:158: UserWarning:\n",
      "\n",
      "[13:23:29] WARNING: C:\\buildkite-agent\\builds\\buildkite-windows-cpu-autoscaling-group-i-08cbc0333d8d4aae1-1\\xgboost\\xgboost-ci-windows\\src\\learner.cc:740: \n",
      "Parameters: { \"use_label_encoder\" } are not used.\n",
      "\n",
      "\n",
      "[I 2025-02-24 13:23:29,088] Trial 0 finished with value: 0.6326047542304594 and parameters: {'n_estimators': 393, 'max_depth': 10, 'learning_rate': 0.056458787162054366, 'colsample_bytree': 0.8942558700210921, 'subsample': 0.5438984782463414, 'gamma': 48.386330646708274, 'reg_alpha': 9.244207489209376, 'reg_lambda': 7.207156694846537}. Best is trial 0 with value: 0.6326047542304594.\n"
     ]
    },
    {
     "name": "stdout",
     "output_type": "stream",
     "text": [
      "scale_pos_weight: 0.9343137254901961\n"
     ]
    },
    {
     "name": "stderr",
     "output_type": "stream",
     "text": [
      "c:\\Users\\danie\\miniforge3\\envs\\ofact\\Lib\\site-packages\\xgboost\\core.py:158: UserWarning:\n",
      "\n",
      "[13:23:29] WARNING: C:\\buildkite-agent\\builds\\buildkite-windows-cpu-autoscaling-group-i-08cbc0333d8d4aae1-1\\xgboost\\xgboost-ci-windows\\src\\learner.cc:740: \n",
      "Parameters: { \"use_label_encoder\" } are not used.\n",
      "\n",
      "\n",
      "[I 2025-02-24 13:23:29,120] Trial 1 finished with value: 0.6326047542304594 and parameters: {'n_estimators': 231, 'max_depth': 10, 'learning_rate': 0.18301416505376264, 'colsample_bytree': 0.7299784219336714, 'subsample': 0.5857865215382904, 'gamma': 40.38331452613142, 'reg_alpha': 1.20616647807255, 'reg_lambda': 3.0395499977106755}. Best is trial 0 with value: 0.6326047542304594.\n",
      "c:\\Users\\danie\\miniforge3\\envs\\ofact\\Lib\\site-packages\\xgboost\\core.py:158: UserWarning:\n",
      "\n",
      "[13:23:29] WARNING: C:\\buildkite-agent\\builds\\buildkite-windows-cpu-autoscaling-group-i-08cbc0333d8d4aae1-1\\xgboost\\xgboost-ci-windows\\src\\learner.cc:740: \n",
      "Parameters: { \"use_label_encoder\" } are not used.\n",
      "\n",
      "\n",
      "[I 2025-02-24 13:23:29,164] Trial 2 finished with value: 0.6402486793804281 and parameters: {'n_estimators': 293, 'max_depth': 8, 'learning_rate': 0.027986074567510382, 'colsample_bytree': 0.5841628243031347, 'subsample': 0.5335702181709887, 'gamma': 6.50915850690269, 'reg_alpha': 6.217113256546507, 'reg_lambda': 7.486250415553505}. Best is trial 2 with value: 0.6402486793804281.\n",
      "c:\\Users\\danie\\miniforge3\\envs\\ofact\\Lib\\site-packages\\xgboost\\core.py:158: UserWarning:\n",
      "\n",
      "[13:23:29] WARNING: C:\\buildkite-agent\\builds\\buildkite-windows-cpu-autoscaling-group-i-08cbc0333d8d4aae1-1\\xgboost\\xgboost-ci-windows\\src\\learner.cc:740: \n",
      "Parameters: { \"use_label_encoder\" } are not used.\n",
      "\n",
      "\n",
      "[I 2025-02-24 13:23:29,191] Trial 3 finished with value: 0.6326047542304594 and parameters: {'n_estimators': 128, 'max_depth': 15, 'learning_rate': 0.07861988759154477, 'colsample_bytree': 0.6069656284886309, 'subsample': 0.74802173192425, 'gamma': 52.6445752929064, 'reg_alpha': 8.945028653723456, 'reg_lambda': 3.7245890507505686}. Best is trial 2 with value: 0.6402486793804281.\n",
      "c:\\Users\\danie\\miniforge3\\envs\\ofact\\Lib\\site-packages\\xgboost\\core.py:158: UserWarning:\n",
      "\n",
      "[13:23:29] WARNING: C:\\buildkite-agent\\builds\\buildkite-windows-cpu-autoscaling-group-i-08cbc0333d8d4aae1-1\\xgboost\\xgboost-ci-windows\\src\\learner.cc:740: \n",
      "Parameters: { \"use_label_encoder\" } are not used.\n",
      "\n",
      "\n",
      "[I 2025-02-24 13:23:29,223] Trial 4 finished with value: 0.6326047542304594 and parameters: {'n_estimators': 206, 'max_depth': 13, 'learning_rate': 0.020184751344375768, 'colsample_bytree': 0.6549497639000825, 'subsample': 0.5352597619221959, 'gamma': 71.70978052198062, 'reg_alpha': 6.6593650755264395, 'reg_lambda': 0.0711774132750631}. Best is trial 2 with value: 0.6402486793804281.\n",
      "c:\\Users\\danie\\miniforge3\\envs\\ofact\\Lib\\site-packages\\xgboost\\core.py:158: UserWarning:\n",
      "\n",
      "[13:23:29] WARNING: C:\\buildkite-agent\\builds\\buildkite-windows-cpu-autoscaling-group-i-08cbc0333d8d4aae1-1\\xgboost\\xgboost-ci-windows\\src\\learner.cc:740: \n",
      "Parameters: { \"use_label_encoder\" } are not used.\n",
      "\n",
      "\n",
      "[I 2025-02-24 13:23:29,276] Trial 5 finished with value: 0.6326047542304594 and parameters: {'n_estimators': 373, 'max_depth': 10, 'learning_rate': 0.08231446110243741, 'colsample_bytree': 0.8631005447365953, 'subsample': 0.6590019986228055, 'gamma': 97.95475029865331, 'reg_alpha': 3.8633496975078465, 'reg_lambda': 8.199322152048024}. Best is trial 2 with value: 0.6402486793804281.\n",
      "c:\\Users\\danie\\miniforge3\\envs\\ofact\\Lib\\site-packages\\xgboost\\core.py:158: UserWarning:\n",
      "\n",
      "[13:23:29] WARNING: C:\\buildkite-agent\\builds\\buildkite-windows-cpu-autoscaling-group-i-08cbc0333d8d4aae1-1\\xgboost\\xgboost-ci-windows\\src\\learner.cc:740: \n",
      "Parameters: { \"use_label_encoder\" } are not used.\n",
      "\n",
      "\n",
      "[I 2025-02-24 13:23:29,320] Trial 6 finished with value: 0.6326047542304594 and parameters: {'n_estimators': 327, 'max_depth': 11, 'learning_rate': 0.2546596605146878, 'colsample_bytree': 0.7469628942735321, 'subsample': 0.8640489330716001, 'gamma': 74.5386593484053, 'reg_alpha': 8.050979142897985, 'reg_lambda': 7.8683344734353975}. Best is trial 2 with value: 0.6402486793804281.\n",
      "c:\\Users\\danie\\miniforge3\\envs\\ofact\\Lib\\site-packages\\xgboost\\core.py:158: UserWarning:\n",
      "\n",
      "[13:23:29] WARNING: C:\\buildkite-agent\\builds\\buildkite-windows-cpu-autoscaling-group-i-08cbc0333d8d4aae1-1\\xgboost\\xgboost-ci-windows\\src\\learner.cc:740: \n",
      "Parameters: { \"use_label_encoder\" } are not used.\n",
      "\n",
      "\n",
      "[I 2025-02-24 13:23:29,360] Trial 7 finished with value: 0.6326047542304594 and parameters: {'n_estimators': 337, 'max_depth': 4, 'learning_rate': 0.27858021116498566, 'colsample_bytree': 0.8717545833631065, 'subsample': 0.7792836703819088, 'gamma': 43.07544536313925, 'reg_alpha': 4.555968526337266, 'reg_lambda': 6.917143484145637}. Best is trial 2 with value: 0.6402486793804281.\n",
      "c:\\Users\\danie\\miniforge3\\envs\\ofact\\Lib\\site-packages\\xgboost\\core.py:158: UserWarning:\n",
      "\n",
      "[13:23:29] WARNING: C:\\buildkite-agent\\builds\\buildkite-windows-cpu-autoscaling-group-i-08cbc0333d8d4aae1-1\\xgboost\\xgboost-ci-windows\\src\\learner.cc:740: \n",
      "Parameters: { \"use_label_encoder\" } are not used.\n",
      "\n",
      "\n",
      "[I 2025-02-24 13:23:29,421] Trial 8 finished with value: 0.6326047542304594 and parameters: {'n_estimators': 431, 'max_depth': 11, 'learning_rate': 0.18483041155919344, 'colsample_bytree': 0.7078286275662014, 'subsample': 0.5679635024355469, 'gamma': 65.4552832719291, 'reg_alpha': 2.4486605783751845, 'reg_lambda': 6.582860779564669}. Best is trial 2 with value: 0.6402486793804281.\n",
      "c:\\Users\\danie\\miniforge3\\envs\\ofact\\Lib\\site-packages\\xgboost\\core.py:158: UserWarning:\n",
      "\n",
      "[13:23:29] WARNING: C:\\buildkite-agent\\builds\\buildkite-windows-cpu-autoscaling-group-i-08cbc0333d8d4aae1-1\\xgboost\\xgboost-ci-windows\\src\\learner.cc:740: \n",
      "Parameters: { \"use_label_encoder\" } are not used.\n",
      "\n",
      "\n",
      "[I 2025-02-24 13:23:29,483] Trial 9 finished with value: 0.6326047542304594 and parameters: {'n_estimators': 332, 'max_depth': 8, 'learning_rate': 0.494127007362989, 'colsample_bytree': 0.8003489818008849, 'subsample': 0.8170947907225318, 'gamma': 41.228718164464496, 'reg_alpha': 2.665750354245262, 'reg_lambda': 6.427660011063384}. Best is trial 2 with value: 0.6402486793804281.\n",
      "c:\\Users\\danie\\miniforge3\\envs\\ofact\\Lib\\site-packages\\xgboost\\core.py:158: UserWarning:\n",
      "\n",
      "[13:23:29] WARNING: C:\\buildkite-agent\\builds\\buildkite-windows-cpu-autoscaling-group-i-08cbc0333d8d4aae1-1\\xgboost\\xgboost-ci-windows\\src\\learner.cc:740: \n",
      "Parameters: { \"use_label_encoder\" } are not used.\n",
      "\n",
      "\n",
      "[I 2025-02-24 13:23:29,539] Trial 10 finished with value: 0.6349382218640882 and parameters: {'n_estimators': 248, 'max_depth': 18, 'learning_rate': 0.4243915615047489, 'colsample_bytree': 0.5128019543227262, 'subsample': 0.9574636052297467, 'gamma': 0.871668016793846, 'reg_alpha': 6.484187430971328, 'reg_lambda': 9.338442744486041}. Best is trial 2 with value: 0.6402486793804281.\n",
      "c:\\Users\\danie\\miniforge3\\envs\\ofact\\Lib\\site-packages\\xgboost\\core.py:158: UserWarning:\n",
      "\n",
      "[13:23:29] WARNING: C:\\buildkite-agent\\builds\\buildkite-windows-cpu-autoscaling-group-i-08cbc0333d8d4aae1-1\\xgboost\\xgboost-ci-windows\\src\\learner.cc:740: \n",
      "Parameters: { \"use_label_encoder\" } are not used.\n",
      "\n",
      "\n",
      "[I 2025-02-24 13:23:29,595] Trial 11 finished with value: 0.6459592398603278 and parameters: {'n_estimators': 243, 'max_depth': 20, 'learning_rate': 0.42688467900751664, 'colsample_bytree': 0.5131473567040565, 'subsample': 0.9980186326466824, 'gamma': 4.071226826601565, 'reg_alpha': 6.388403365262119, 'reg_lambda': 9.941422434373944}. Best is trial 11 with value: 0.6459592398603278.\n",
      "c:\\Users\\danie\\miniforge3\\envs\\ofact\\Lib\\site-packages\\xgboost\\core.py:158: UserWarning:\n",
      "\n",
      "[13:23:29] WARNING: C:\\buildkite-agent\\builds\\buildkite-windows-cpu-autoscaling-group-i-08cbc0333d8d4aae1-1\\xgboost\\xgboost-ci-windows\\src\\learner.cc:740: \n",
      "Parameters: { \"use_label_encoder\" } are not used.\n",
      "\n",
      "\n",
      "[I 2025-02-24 13:23:29,651] Trial 12 finished with value: 0.6393953129196884 and parameters: {'n_estimators': 146, 'max_depth': 20, 'learning_rate': 0.3662803857288595, 'colsample_bytree': 0.520850458602944, 'subsample': 0.9931519315290207, 'gamma': 1.1762441479808885, 'reg_alpha': 6.332488178568608, 'reg_lambda': 9.936252852812801}. Best is trial 11 with value: 0.6459592398603278.\n",
      "c:\\Users\\danie\\miniforge3\\envs\\ofact\\Lib\\site-packages\\xgboost\\core.py:158: UserWarning:\n",
      "\n",
      "[13:23:29] WARNING: C:\\buildkite-agent\\builds\\buildkite-windows-cpu-autoscaling-group-i-08cbc0333d8d4aae1-1\\xgboost\\xgboost-ci-windows\\src\\learner.cc:740: \n",
      "Parameters: { \"use_label_encoder\" } are not used.\n",
      "\n",
      "\n",
      "[I 2025-02-24 13:23:29,712] Trial 13 finished with value: 0.6326047542304594 and parameters: {'n_estimators': 274, 'max_depth': 5, 'learning_rate': 0.36111576551655644, 'colsample_bytree': 0.9954487501032373, 'subsample': 0.6848759690481095, 'gamma': 15.655409084168925, 'reg_alpha': 5.478522184670694, 'reg_lambda': 4.727439688370098}. Best is trial 11 with value: 0.6459592398603278.\n",
      "c:\\Users\\danie\\miniforge3\\envs\\ofact\\Lib\\site-packages\\xgboost\\core.py:158: UserWarning:\n",
      "\n",
      "[13:23:29] WARNING: C:\\buildkite-agent\\builds\\buildkite-windows-cpu-autoscaling-group-i-08cbc0333d8d4aae1-1\\xgboost\\xgboost-ci-windows\\src\\learner.cc:740: \n",
      "Parameters: { \"use_label_encoder\" } are not used.\n",
      "\n",
      "\n",
      "[I 2025-02-24 13:23:29,788] Trial 14 finished with value: 0.6326047542304594 and parameters: {'n_estimators': 488, 'max_depth': 2, 'learning_rate': 0.1451897013028409, 'colsample_bytree': 0.5878883215596559, 'subsample': 0.9145391066132326, 'gamma': 22.294601803184364, 'reg_alpha': 7.596980739530002, 'reg_lambda': 8.78482957855877}. Best is trial 11 with value: 0.6459592398603278.\n",
      "c:\\Users\\danie\\miniforge3\\envs\\ofact\\Lib\\site-packages\\xgboost\\core.py:158: UserWarning:\n",
      "\n",
      "[13:23:29] WARNING: C:\\buildkite-agent\\builds\\buildkite-windows-cpu-autoscaling-group-i-08cbc0333d8d4aae1-1\\xgboost\\xgboost-ci-windows\\src\\learner.cc:740: \n",
      "Parameters: { \"use_label_encoder\" } are not used.\n",
      "\n",
      "\n",
      "[I 2025-02-24 13:23:29,836] Trial 15 finished with value: 0.6326047542304594 and parameters: {'n_estimators': 176, 'max_depth': 17, 'learning_rate': 0.32896214938292434, 'colsample_bytree': 0.5784845451006986, 'subsample': 0.6335697855600225, 'gamma': 24.527747589659622, 'reg_alpha': 5.183352672221977, 'reg_lambda': 9.871454987635394}. Best is trial 11 with value: 0.6459592398603278.\n",
      "c:\\Users\\danie\\miniforge3\\envs\\ofact\\Lib\\site-packages\\xgboost\\core.py:158: UserWarning:\n",
      "\n",
      "[13:23:29] WARNING: C:\\buildkite-agent\\builds\\buildkite-windows-cpu-autoscaling-group-i-08cbc0333d8d4aae1-1\\xgboost\\xgboost-ci-windows\\src\\learner.cc:740: \n",
      "Parameters: { \"use_label_encoder\" } are not used.\n",
      "\n",
      "\n",
      "[I 2025-02-24 13:23:29,894] Trial 16 finished with value: 0.6326047542304594 and parameters: {'n_estimators': 277, 'max_depth': 7, 'learning_rate': 0.4763329621546629, 'colsample_bytree': 0.6583580137784402, 'subsample': 0.7200587063743431, 'gamma': 12.812914454558817, 'reg_alpha': 9.876745281467285, 'reg_lambda': 5.354902994683666}. Best is trial 11 with value: 0.6459592398603278.\n",
      "c:\\Users\\danie\\miniforge3\\envs\\ofact\\Lib\\site-packages\\xgboost\\core.py:158: UserWarning:\n",
      "\n",
      "[13:23:29] WARNING: C:\\buildkite-agent\\builds\\buildkite-windows-cpu-autoscaling-group-i-08cbc0333d8d4aae1-1\\xgboost\\xgboost-ci-windows\\src\\learner.cc:740: \n",
      "Parameters: { \"use_label_encoder\" } are not used.\n",
      "\n",
      "\n",
      "[I 2025-02-24 13:23:29,952] Trial 17 finished with value: 0.6326047542304594 and parameters: {'n_estimators': 193, 'max_depth': 14, 'learning_rate': 0.3036488739635358, 'colsample_bytree': 0.5397866268660848, 'subsample': 0.8898179386861098, 'gamma': 32.0244934806266, 'reg_alpha': 7.751858889846269, 'reg_lambda': 8.428660638446008}. Best is trial 11 with value: 0.6459592398603278.\n",
      "c:\\Users\\danie\\miniforge3\\envs\\ofact\\Lib\\site-packages\\xgboost\\core.py:158: UserWarning:\n",
      "\n",
      "[13:23:29] WARNING: C:\\buildkite-agent\\builds\\buildkite-windows-cpu-autoscaling-group-i-08cbc0333d8d4aae1-1\\xgboost\\xgboost-ci-windows\\src\\learner.cc:740: \n",
      "Parameters: { \"use_label_encoder\" } are not used.\n",
      "\n",
      "\n",
      "[I 2025-02-24 13:23:29,999] Trial 18 finished with value: 0.6459592398603278 and parameters: {'n_estimators': 100, 'max_depth': 7, 'learning_rate': 0.41945866432347184, 'colsample_bytree': 0.6329438606497689, 'subsample': 0.8136658540380094, 'gamma': 11.579518381569388, 'reg_alpha': 3.5800423011884575, 'reg_lambda': 5.432045853995819}. Best is trial 11 with value: 0.6459592398603278.\n",
      "c:\\Users\\danie\\miniforge3\\envs\\ofact\\Lib\\site-packages\\xgboost\\core.py:158: UserWarning:\n",
      "\n",
      "[13:23:30] WARNING: C:\\buildkite-agent\\builds\\buildkite-windows-cpu-autoscaling-group-i-08cbc0333d8d4aae1-1\\xgboost\\xgboost-ci-windows\\src\\learner.cc:740: \n",
      "Parameters: { \"use_label_encoder\" } are not used.\n",
      "\n",
      "\n",
      "[I 2025-02-24 13:23:30,043] Trial 19 finished with value: 0.6326047542304594 and parameters: {'n_estimators': 104, 'max_depth': 6, 'learning_rate': 0.399779453491106, 'colsample_bytree': 0.6560221782382092, 'subsample': 0.8327780935722222, 'gamma': 27.87342055180887, 'reg_alpha': 0.4679994381933872, 'reg_lambda': 1.36267206899387}. Best is trial 11 with value: 0.6459592398603278.\n",
      "c:\\Users\\danie\\miniforge3\\envs\\ofact\\Lib\\site-packages\\xgboost\\core.py:158: UserWarning:\n",
      "\n",
      "[13:23:30] WARNING: C:\\buildkite-agent\\builds\\buildkite-windows-cpu-autoscaling-group-i-08cbc0333d8d4aae1-1\\xgboost\\xgboost-ci-windows\\src\\learner.cc:740: \n",
      "Parameters: { \"use_label_encoder\" } are not used.\n",
      "\n",
      "\n",
      "[I 2025-02-24 13:23:30,086] Trial 20 finished with value: 0.6459592398603278 and parameters: {'n_estimators': 166, 'max_depth': 20, 'learning_rate': 0.4493396739757519, 'colsample_bytree': 0.8020834819142129, 'subsample': 0.9475667813878013, 'gamma': 13.83792710932332, 'reg_alpha': 3.8147345188821387, 'reg_lambda': 2.7421965657486687}. Best is trial 11 with value: 0.6459592398603278.\n",
      "c:\\Users\\danie\\miniforge3\\envs\\ofact\\Lib\\site-packages\\xgboost\\core.py:158: UserWarning:\n",
      "\n",
      "[13:23:30] WARNING: C:\\buildkite-agent\\builds\\buildkite-windows-cpu-autoscaling-group-i-08cbc0333d8d4aae1-1\\xgboost\\xgboost-ci-windows\\src\\learner.cc:740: \n",
      "Parameters: { \"use_label_encoder\" } are not used.\n",
      "\n",
      "\n",
      "[I 2025-02-24 13:23:30,134] Trial 21 finished with value: 0.6459592398603278 and parameters: {'n_estimators': 160, 'max_depth': 19, 'learning_rate': 0.4401384228256219, 'colsample_bytree': 0.7842678534645173, 'subsample': 0.9993064310371911, 'gamma': 14.14839164897167, 'reg_alpha': 3.497023658619318, 'reg_lambda': 2.8089323060677582}. Best is trial 11 with value: 0.6459592398603278.\n",
      "c:\\Users\\danie\\miniforge3\\envs\\ofact\\Lib\\site-packages\\xgboost\\core.py:158: UserWarning:\n",
      "\n",
      "[13:23:30] WARNING: C:\\buildkite-agent\\builds\\buildkite-windows-cpu-autoscaling-group-i-08cbc0333d8d4aae1-1\\xgboost\\xgboost-ci-windows\\src\\learner.cc:740: \n",
      "Parameters: { \"use_label_encoder\" } are not used.\n",
      "\n",
      "\n",
      "[I 2025-02-24 13:23:30,179] Trial 22 finished with value: 0.6459592398603278 and parameters: {'n_estimators': 103, 'max_depth': 17, 'learning_rate': 0.4467479741921652, 'colsample_bytree': 0.8222221727956514, 'subsample': 0.9293449625585289, 'gamma': 8.482226171965173, 'reg_alpha': 2.2105516912316006, 'reg_lambda': 1.6998977218022362}. Best is trial 11 with value: 0.6459592398603278.\n",
      "c:\\Users\\danie\\miniforge3\\envs\\ofact\\Lib\\site-packages\\xgboost\\core.py:158: UserWarning:\n",
      "\n",
      "[13:23:30] WARNING: C:\\buildkite-agent\\builds\\buildkite-windows-cpu-autoscaling-group-i-08cbc0333d8d4aae1-1\\xgboost\\xgboost-ci-windows\\src\\learner.cc:740: \n",
      "Parameters: { \"use_label_encoder\" } are not used.\n",
      "\n",
      "\n",
      "[I 2025-02-24 13:23:30,238] Trial 23 finished with value: 0.6326047542304594 and parameters: {'n_estimators': 207, 'max_depth': 20, 'learning_rate': 0.38992653496046026, 'colsample_bytree': 0.6835507461008998, 'subsample': 0.9562914504830794, 'gamma': 18.90090208574128, 'reg_alpha': 4.583806280826246, 'reg_lambda': 5.007245082711134}. Best is trial 11 with value: 0.6459592398603278.\n",
      "c:\\Users\\danie\\miniforge3\\envs\\ofact\\Lib\\site-packages\\xgboost\\core.py:158: UserWarning:\n",
      "\n",
      "[13:23:30] WARNING: C:\\buildkite-agent\\builds\\buildkite-windows-cpu-autoscaling-group-i-08cbc0333d8d4aae1-1\\xgboost\\xgboost-ci-windows\\src\\learner.cc:740: \n",
      "Parameters: { \"use_label_encoder\" } are not used.\n",
      "\n",
      "\n",
      "[I 2025-02-24 13:23:30,312] Trial 24 finished with value: 0.5782802847166264 and parameters: {'n_estimators': 141, 'max_depth': 16, 'learning_rate': 0.49972293365140863, 'colsample_bytree': 0.6142075210749345, 'subsample': 0.8622485868438701, 'gamma': 0.11300025094670652, 'reg_alpha': 3.630630819283688, 'reg_lambda': 5.860903355745792}. Best is trial 11 with value: 0.6459592398603278.\n",
      "c:\\Users\\danie\\miniforge3\\envs\\ofact\\Lib\\site-packages\\xgboost\\core.py:158: UserWarning:\n",
      "\n",
      "[13:23:30] WARNING: C:\\buildkite-agent\\builds\\buildkite-windows-cpu-autoscaling-group-i-08cbc0333d8d4aae1-1\\xgboost\\xgboost-ci-windows\\src\\learner.cc:740: \n",
      "Parameters: { \"use_label_encoder\" } are not used.\n",
      "\n",
      "\n",
      "[I 2025-02-24 13:23:30,374] Trial 25 finished with value: 0.6326047542304594 and parameters: {'n_estimators': 238, 'max_depth': 13, 'learning_rate': 0.34729324253461785, 'colsample_bytree': 0.9202972486050041, 'subsample': 0.7980194968597055, 'gamma': 35.92080802009404, 'reg_alpha': 1.6699493756086143, 'reg_lambda': 4.073545081118457}. Best is trial 11 with value: 0.6459592398603278.\n",
      "c:\\Users\\danie\\miniforge3\\envs\\ofact\\Lib\\site-packages\\xgboost\\core.py:158: UserWarning:\n",
      "\n",
      "[13:23:30] WARNING: C:\\buildkite-agent\\builds\\buildkite-windows-cpu-autoscaling-group-i-08cbc0333d8d4aae1-1\\xgboost\\xgboost-ci-windows\\src\\learner.cc:740: \n",
      "Parameters: { \"use_label_encoder\" } are not used.\n",
      "\n",
      "\n",
      "[I 2025-02-24 13:23:30,422] Trial 26 finished with value: 0.6459592398603278 and parameters: {'n_estimators': 173, 'max_depth': 18, 'learning_rate': 0.4548314198096327, 'colsample_bytree': 0.7686151091983766, 'subsample': 0.9514862726615919, 'gamma': 8.823318680024045, 'reg_alpha': 3.1474999085306927, 'reg_lambda': 1.4629041428331973}. Best is trial 11 with value: 0.6459592398603278.\n",
      "c:\\Users\\danie\\miniforge3\\envs\\ofact\\Lib\\site-packages\\xgboost\\core.py:158: UserWarning:\n",
      "\n",
      "[13:23:30] WARNING: C:\\buildkite-agent\\builds\\buildkite-windows-cpu-autoscaling-group-i-08cbc0333d8d4aae1-1\\xgboost\\xgboost-ci-windows\\src\\learner.cc:740: \n",
      "Parameters: { \"use_label_encoder\" } are not used.\n",
      "\n",
      "\n",
      "[I 2025-02-24 13:23:30,464] Trial 27 finished with value: 0.6326047542304594 and parameters: {'n_estimators': 122, 'max_depth': 3, 'learning_rate': 0.4031660586647924, 'colsample_bytree': 0.5589047172622856, 'subsample': 0.909809066891297, 'gamma': 26.2023546466285, 'reg_alpha': 5.4728886288594385, 'reg_lambda': 2.427794014527583}. Best is trial 11 with value: 0.6459592398603278.\n",
      "c:\\Users\\danie\\miniforge3\\envs\\ofact\\Lib\\site-packages\\xgboost\\core.py:158: UserWarning:\n",
      "\n",
      "[13:23:30] WARNING: C:\\buildkite-agent\\builds\\buildkite-windows-cpu-autoscaling-group-i-08cbc0333d8d4aae1-1\\xgboost\\xgboost-ci-windows\\src\\learner.cc:740: \n",
      "Parameters: { \"use_label_encoder\" } are not used.\n",
      "\n",
      "\n",
      "[I 2025-02-24 13:23:30,553] Trial 28 finished with value: 0.6459592398603278 and parameters: {'n_estimators': 214, 'max_depth': 20, 'learning_rate': 0.3098345195597128, 'colsample_bytree': 0.5024618205078568, 'subsample': 0.8617814884825896, 'gamma': 18.69883476601359, 'reg_alpha': 4.158195248464757, 'reg_lambda': 0.14886247380619277}. Best is trial 11 with value: 0.6459592398603278.\n",
      "c:\\Users\\danie\\miniforge3\\envs\\ofact\\Lib\\site-packages\\xgboost\\core.py:158: UserWarning:\n",
      "\n",
      "[13:23:30] WARNING: C:\\buildkite-agent\\builds\\buildkite-windows-cpu-autoscaling-group-i-08cbc0333d8d4aae1-1\\xgboost\\xgboost-ci-windows\\src\\learner.cc:740: \n",
      "Parameters: { \"use_label_encoder\" } are not used.\n",
      "\n",
      "\n",
      "[I 2025-02-24 13:23:30,635] Trial 29 finished with value: 0.6326047542304594 and parameters: {'n_estimators': 174, 'max_depth': 15, 'learning_rate': 0.41309244595860306, 'colsample_bytree': 0.8332006797372777, 'subsample': 0.978634126300507, 'gamma': 54.68911535509623, 'reg_alpha': 3.0645513889269944, 'reg_lambda': 4.110845668634503}. Best is trial 11 with value: 0.6459592398603278.\n",
      "c:\\Users\\danie\\miniforge3\\envs\\ofact\\Lib\\site-packages\\xgboost\\core.py:158: UserWarning:\n",
      "\n",
      "[13:23:30] WARNING: C:\\buildkite-agent\\builds\\buildkite-windows-cpu-autoscaling-group-i-08cbc0333d8d4aae1-1\\xgboost\\xgboost-ci-windows\\src\\learner.cc:740: \n",
      "Parameters: { \"use_label_encoder\" } are not used.\n",
      "\n",
      "\n",
      "[I 2025-02-24 13:23:30,692] Trial 30 finished with value: 0.6326047542304594 and parameters: {'n_estimators': 144, 'max_depth': 18, 'learning_rate': 0.4681577213635445, 'colsample_bytree': 0.9276607394783933, 'subsample': 0.8876070850189681, 'gamma': 99.61710971429835, 'reg_alpha': 4.894613987789578, 'reg_lambda': 5.698023737719268}. Best is trial 11 with value: 0.6459592398603278.\n",
      "c:\\Users\\danie\\miniforge3\\envs\\ofact\\Lib\\site-packages\\xgboost\\core.py:158: UserWarning:\n",
      "\n",
      "[13:23:30] WARNING: C:\\buildkite-agent\\builds\\buildkite-windows-cpu-autoscaling-group-i-08cbc0333d8d4aae1-1\\xgboost\\xgboost-ci-windows\\src\\learner.cc:740: \n",
      "Parameters: { \"use_label_encoder\" } are not used.\n",
      "\n",
      "\n",
      "[I 2025-02-24 13:23:30,741] Trial 31 finished with value: 0.6459592398603278 and parameters: {'n_estimators': 161, 'max_depth': 19, 'learning_rate': 0.4251359456796016, 'colsample_bytree': 0.7056457397251613, 'subsample': 0.9972828386118571, 'gamma': 12.048657280983875, 'reg_alpha': 3.40584359019834, 'reg_lambda': 3.106009408533297}. Best is trial 11 with value: 0.6459592398603278.\n",
      "c:\\Users\\danie\\miniforge3\\envs\\ofact\\Lib\\site-packages\\xgboost\\core.py:158: UserWarning:\n",
      "\n",
      "[13:23:30] WARNING: C:\\buildkite-agent\\builds\\buildkite-windows-cpu-autoscaling-group-i-08cbc0333d8d4aae1-1\\xgboost\\xgboost-ci-windows\\src\\learner.cc:740: \n",
      "Parameters: { \"use_label_encoder\" } are not used.\n",
      "\n",
      "\n",
      "[I 2025-02-24 13:23:30,798] Trial 32 finished with value: 0.6418518891574896 and parameters: {'n_estimators': 254, 'max_depth': 19, 'learning_rate': 0.44084700674701804, 'colsample_bytree': 0.7744763134917643, 'subsample': 0.9403408020175708, 'gamma': 5.513009340094007, 'reg_alpha': 3.9407793718313417, 'reg_lambda': 2.245748562984729}. Best is trial 11 with value: 0.6459592398603278.\n",
      "c:\\Users\\danie\\miniforge3\\envs\\ofact\\Lib\\site-packages\\xgboost\\core.py:158: UserWarning:\n",
      "\n",
      "[13:23:30] WARNING: C:\\buildkite-agent\\builds\\buildkite-windows-cpu-autoscaling-group-i-08cbc0333d8d4aae1-1\\xgboost\\xgboost-ci-windows\\src\\learner.cc:740: \n",
      "Parameters: { \"use_label_encoder\" } are not used.\n",
      "\n",
      "\n",
      "[I 2025-02-24 13:23:30,853] Trial 33 finished with value: 0.6459592398603278 and parameters: {'n_estimators': 122, 'max_depth': 9, 'learning_rate': 0.37397735427307927, 'colsample_bytree': 0.7940453073329591, 'subsample': 0.9808302018896236, 'gamma': 17.13285920526463, 'reg_alpha': 1.6279799416256582, 'reg_lambda': 3.195211382383919}. Best is trial 11 with value: 0.6459592398603278.\n",
      "c:\\Users\\danie\\miniforge3\\envs\\ofact\\Lib\\site-packages\\xgboost\\core.py:158: UserWarning:\n",
      "\n",
      "[13:23:30] WARNING: C:\\buildkite-agent\\builds\\buildkite-windows-cpu-autoscaling-group-i-08cbc0333d8d4aae1-1\\xgboost\\xgboost-ci-windows\\src\\learner.cc:740: \n",
      "Parameters: { \"use_label_encoder\" } are not used.\n",
      "\n",
      "\n",
      "[I 2025-02-24 13:23:30,930] Trial 34 finished with value: 0.6326047542304594 and parameters: {'n_estimators': 224, 'max_depth': 19, 'learning_rate': 0.4667228409183928, 'colsample_bytree': 0.6274567271472141, 'subsample': 0.9648706099137987, 'gamma': 32.92780127639323, 'reg_alpha': 5.913005079426455, 'reg_lambda': 0.884293644352441}. Best is trial 11 with value: 0.6459592398603278.\n",
      "c:\\Users\\danie\\miniforge3\\envs\\ofact\\Lib\\site-packages\\xgboost\\core.py:158: UserWarning:\n",
      "\n",
      "[13:23:30] WARNING: C:\\buildkite-agent\\builds\\buildkite-windows-cpu-autoscaling-group-i-08cbc0333d8d4aae1-1\\xgboost\\xgboost-ci-windows\\src\\learner.cc:740: \n",
      "Parameters: { \"use_label_encoder\" } are not used.\n",
      "\n",
      "\n",
      "[I 2025-02-24 13:23:31,005] Trial 35 finished with value: 0.6447001745903841 and parameters: {'n_estimators': 195, 'max_depth': 16, 'learning_rate': 0.21851011208179866, 'colsample_bytree': 0.7295544740916768, 'subsample': 0.7660710476485053, 'gamma': 8.647098660137544, 'reg_alpha': 0.11128777178840998, 'reg_lambda': 2.4512500150932417}. Best is trial 11 with value: 0.6459592398603278.\n",
      "c:\\Users\\danie\\miniforge3\\envs\\ofact\\Lib\\site-packages\\xgboost\\core.py:158: UserWarning:\n",
      "\n",
      "[13:23:31] WARNING: C:\\buildkite-agent\\builds\\buildkite-windows-cpu-autoscaling-group-i-08cbc0333d8d4aae1-1\\xgboost\\xgboost-ci-windows\\src\\learner.cc:740: \n",
      "Parameters: { \"use_label_encoder\" } are not used.\n",
      "\n",
      "\n",
      "[I 2025-02-24 13:23:31,080] Trial 36 finished with value: 0.6326047542304594 and parameters: {'n_estimators': 152, 'max_depth': 13, 'learning_rate': 0.33717096957128434, 'colsample_bytree': 0.8289877555457665, 'subsample': 0.9995200869272138, 'gamma': 22.246735879233782, 'reg_alpha': 6.924252481310408, 'reg_lambda': 3.464833444518663}. Best is trial 11 with value: 0.6459592398603278.\n",
      "c:\\Users\\danie\\miniforge3\\envs\\ofact\\Lib\\site-packages\\xgboost\\core.py:158: UserWarning:\n",
      "\n",
      "[13:23:31] WARNING: C:\\buildkite-agent\\builds\\buildkite-windows-cpu-autoscaling-group-i-08cbc0333d8d4aae1-1\\xgboost\\xgboost-ci-windows\\src\\learner.cc:740: \n",
      "Parameters: { \"use_label_encoder\" } are not used.\n",
      "\n",
      "\n",
      "[I 2025-02-24 13:23:31,143] Trial 37 finished with value: 0.6326047542304594 and parameters: {'n_estimators': 103, 'max_depth': 20, 'learning_rate': 0.4343766010679303, 'colsample_bytree': 0.7442883373901042, 'subsample': 0.9249379854944565, 'gamma': 88.56594879094091, 'reg_alpha': 4.230170873309891, 'reg_lambda': 7.444618216113961}. Best is trial 11 with value: 0.6459592398603278.\n",
      "c:\\Users\\danie\\miniforge3\\envs\\ofact\\Lib\\site-packages\\xgboost\\core.py:158: UserWarning:\n",
      "\n",
      "[13:23:31] WARNING: C:\\buildkite-agent\\builds\\buildkite-windows-cpu-autoscaling-group-i-08cbc0333d8d4aae1-1\\xgboost\\xgboost-ci-windows\\src\\learner.cc:740: \n",
      "Parameters: { \"use_label_encoder\" } are not used.\n",
      "\n",
      "\n",
      "[I 2025-02-24 13:23:31,218] Trial 38 finished with value: 0.6326047542304594 and parameters: {'n_estimators': 179, 'max_depth': 17, 'learning_rate': 0.37758009109563856, 'colsample_bytree': 0.8556018066472733, 'subsample': 0.8890711975915929, 'gamma': 49.730880879319244, 'reg_alpha': 7.1400957872493995, 'reg_lambda': 4.452748073240211}. Best is trial 11 with value: 0.6459592398603278.\n",
      "c:\\Users\\danie\\miniforge3\\envs\\ofact\\Lib\\site-packages\\xgboost\\core.py:158: UserWarning:\n",
      "\n",
      "[13:23:31] WARNING: C:\\buildkite-agent\\builds\\buildkite-windows-cpu-autoscaling-group-i-08cbc0333d8d4aae1-1\\xgboost\\xgboost-ci-windows\\src\\learner.cc:740: \n",
      "Parameters: { \"use_label_encoder\" } are not used.\n",
      "\n",
      "\n",
      "[I 2025-02-24 13:23:31,312] Trial 39 finished with value: 0.6394009087653327 and parameters: {'n_estimators': 305, 'max_depth': 12, 'learning_rate': 0.4831050535862466, 'colsample_bytree': 0.6856986482077192, 'subsample': 0.5124290240505052, 'gamma': 4.93053910995415, 'reg_alpha': 5.903131895358751, 'reg_lambda': 2.755714440019006}. Best is trial 11 with value: 0.6459592398603278.\n",
      "c:\\Users\\danie\\miniforge3\\envs\\ofact\\Lib\\site-packages\\xgboost\\core.py:158: UserWarning:\n",
      "\n",
      "[13:23:31] WARNING: C:\\buildkite-agent\\builds\\buildkite-windows-cpu-autoscaling-group-i-08cbc0333d8d4aae1-1\\xgboost\\xgboost-ci-windows\\src\\learner.cc:740: \n",
      "Parameters: { \"use_label_encoder\" } are not used.\n",
      "\n",
      "\n",
      "[I 2025-02-24 13:23:31,408] Trial 40 finished with value: 0.6326047542304594 and parameters: {'n_estimators': 365, 'max_depth': 10, 'learning_rate': 0.2697895414502045, 'colsample_bytree': 0.5543379293234563, 'subsample': 0.8356903887858108, 'gamma': 58.25470121294443, 'reg_alpha': 2.6078450612435446, 'reg_lambda': 0.7991408897343186}. Best is trial 11 with value: 0.6459592398603278.\n",
      "c:\\Users\\danie\\miniforge3\\envs\\ofact\\Lib\\site-packages\\xgboost\\core.py:158: UserWarning:\n",
      "\n",
      "[13:23:31] WARNING: C:\\buildkite-agent\\builds\\buildkite-windows-cpu-autoscaling-group-i-08cbc0333d8d4aae1-1\\xgboost\\xgboost-ci-windows\\src\\learner.cc:740: \n",
      "Parameters: { \"use_label_encoder\" } are not used.\n",
      "\n",
      "\n",
      "[I 2025-02-24 13:23:31,455] Trial 41 finished with value: 0.6459592398603278 and parameters: {'n_estimators': 101, 'max_depth': 17, 'learning_rate': 0.4487555923613106, 'colsample_bytree': 0.8200128250604962, 'subsample': 0.9283863985290892, 'gamma': 8.467401279630382, 'reg_alpha': 1.9952465357496962, 'reg_lambda': 2.039276194674111}. Best is trial 11 with value: 0.6459592398603278.\n",
      "c:\\Users\\danie\\miniforge3\\envs\\ofact\\Lib\\site-packages\\xgboost\\core.py:158: UserWarning:\n",
      "\n",
      "[13:23:31] WARNING: C:\\buildkite-agent\\builds\\buildkite-windows-cpu-autoscaling-group-i-08cbc0333d8d4aae1-1\\xgboost\\xgboost-ci-windows\\src\\learner.cc:740: \n",
      "Parameters: { \"use_label_encoder\" } are not used.\n",
      "\n",
      "\n",
      "[I 2025-02-24 13:23:31,581] Trial 42 finished with value: 0.6459592398603278 and parameters: {'n_estimators': 130, 'max_depth': 18, 'learning_rate': 0.41531341353190276, 'colsample_bytree': 0.7822129181546486, 'subsample': 0.967817987991521, 'gamma': 14.751554454112329, 'reg_alpha': 2.2753898694286803, 'reg_lambda': 1.6705529445154168}. Best is trial 11 with value: 0.6459592398603278.\n",
      "c:\\Users\\danie\\miniforge3\\envs\\ofact\\Lib\\site-packages\\xgboost\\core.py:158: UserWarning:\n",
      "\n",
      "[13:23:31] WARNING: C:\\buildkite-agent\\builds\\buildkite-windows-cpu-autoscaling-group-i-08cbc0333d8d4aae1-1\\xgboost\\xgboost-ci-windows\\src\\learner.cc:740: \n",
      "Parameters: { \"use_label_encoder\" } are not used.\n",
      "\n",
      "\n",
      "[I 2025-02-24 13:23:31,694] Trial 43 finished with value: 0.6459592398603278 and parameters: {'n_estimators': 123, 'max_depth': 19, 'learning_rate': 0.4502923397825154, 'colsample_bytree': 0.8868633274613407, 'subsample': 0.7382919057345965, 'gamma': 11.059305535299895, 'reg_alpha': 2.9297882357040708, 'reg_lambda': 3.5841424119471474}. Best is trial 11 with value: 0.6459592398603278.\n",
      "c:\\Users\\danie\\miniforge3\\envs\\ofact\\Lib\\site-packages\\xgboost\\core.py:158: UserWarning:\n",
      "\n",
      "[13:23:31] WARNING: C:\\buildkite-agent\\builds\\buildkite-windows-cpu-autoscaling-group-i-08cbc0333d8d4aae1-1\\xgboost\\xgboost-ci-windows\\src\\learner.cc:740: \n",
      "Parameters: { \"use_label_encoder\" } are not used.\n",
      "\n",
      "\n",
      "[I 2025-02-24 13:23:31,915] Trial 44 finished with value: 0.6488383024442653 and parameters: {'n_estimators': 116, 'max_depth': 15, 'learning_rate': 0.11282499031162016, 'colsample_bytree': 0.8117844920548278, 'subsample': 0.9381741069355993, 'gamma': 4.270353924838969, 'reg_alpha': 3.540898881479783, 'reg_lambda': 1.037931010028694}. Best is trial 44 with value: 0.6488383024442653.\n",
      "c:\\Users\\danie\\miniforge3\\envs\\ofact\\Lib\\site-packages\\xgboost\\core.py:158: UserWarning:\n",
      "\n",
      "[13:23:31] WARNING: C:\\buildkite-agent\\builds\\buildkite-windows-cpu-autoscaling-group-i-08cbc0333d8d4aae1-1\\xgboost\\xgboost-ci-windows\\src\\learner.cc:740: \n",
      "Parameters: { \"use_label_encoder\" } are not used.\n",
      "\n",
      "\n",
      "[I 2025-02-24 13:23:32,017] Trial 45 finished with value: 0.6478842107619304 and parameters: {'n_estimators': 162, 'max_depth': 16, 'learning_rate': 0.12577483439155374, 'colsample_bytree': 0.7506154582699298, 'subsample': 0.8969661453153712, 'gamma': 3.432089656093107, 'reg_alpha': 3.5517632072532543, 'reg_lambda': 0.4945205957061436}. Best is trial 44 with value: 0.6488383024442653.\n",
      "c:\\Users\\danie\\miniforge3\\envs\\ofact\\Lib\\site-packages\\xgboost\\core.py:158: UserWarning:\n",
      "\n",
      "[13:23:32] WARNING: C:\\buildkite-agent\\builds\\buildkite-windows-cpu-autoscaling-group-i-08cbc0333d8d4aae1-1\\xgboost\\xgboost-ci-windows\\src\\learner.cc:740: \n",
      "Parameters: { \"use_label_encoder\" } are not used.\n",
      "\n",
      "\n",
      "[I 2025-02-24 13:23:32,079] Trial 46 finished with value: 0.642621317933566 and parameters: {'n_estimators': 194, 'max_depth': 15, 'learning_rate': 0.1243481183330101, 'colsample_bytree': 0.7251182495573404, 'subsample': 0.838041702323892, 'gamma': 3.981653128734762, 'reg_alpha': 4.740052601618519, 'reg_lambda': 0.4828675668559059}. Best is trial 44 with value: 0.6488383024442653.\n",
      "c:\\Users\\danie\\miniforge3\\envs\\ofact\\Lib\\site-packages\\xgboost\\core.py:158: UserWarning:\n",
      "\n",
      "[13:23:32] WARNING: C:\\buildkite-agent\\builds\\buildkite-windows-cpu-autoscaling-group-i-08cbc0333d8d4aae1-1\\xgboost\\xgboost-ci-windows\\src\\learner.cc:740: \n",
      "Parameters: { \"use_label_encoder\" } are not used.\n",
      "\n",
      "\n",
      "[I 2025-02-24 13:23:32,134] Trial 47 finished with value: 0.6451730235473186 and parameters: {'n_estimators': 131, 'max_depth': 14, 'learning_rate': 0.04415036507903623, 'colsample_bytree': 0.7579906950527814, 'subsample': 0.8990339458735925, 'gamma': 2.9756590481060208, 'reg_alpha': 3.9629228462615673, 'reg_lambda': 0.9110403950019292}. Best is trial 44 with value: 0.6488383024442653.\n",
      "c:\\Users\\danie\\miniforge3\\envs\\ofact\\Lib\\site-packages\\xgboost\\core.py:158: UserWarning:\n",
      "\n",
      "[13:23:32] WARNING: C:\\buildkite-agent\\builds\\buildkite-windows-cpu-autoscaling-group-i-08cbc0333d8d4aae1-1\\xgboost\\xgboost-ci-windows\\src\\learner.cc:740: \n",
      "Parameters: { \"use_label_encoder\" } are not used.\n",
      "\n",
      "\n",
      "[I 2025-02-24 13:23:32,191] Trial 48 finished with value: 0.6459592398603278 and parameters: {'n_estimators': 159, 'max_depth': 11, 'learning_rate': 0.1028627128638407, 'colsample_bytree': 0.8047683344147801, 'subsample': 0.7939499007584362, 'gamma': 20.14961704256557, 'reg_alpha': 4.416990266796723, 'reg_lambda': 0.08942620531851775}. Best is trial 44 with value: 0.6488383024442653.\n",
      "c:\\Users\\danie\\miniforge3\\envs\\ofact\\Lib\\site-packages\\xgboost\\core.py:158: UserWarning:\n",
      "\n",
      "[13:23:32] WARNING: C:\\buildkite-agent\\builds\\buildkite-windows-cpu-autoscaling-group-i-08cbc0333d8d4aae1-1\\xgboost\\xgboost-ci-windows\\src\\learner.cc:740: \n",
      "Parameters: { \"use_label_encoder\" } are not used.\n",
      "\n",
      "\n",
      "[I 2025-02-24 13:23:32,374] Trial 49 finished with value: 0.6326047542304594 and parameters: {'n_estimators': 423, 'max_depth': 8, 'learning_rate': 0.16317098308049732, 'colsample_bytree': 0.8560821522788621, 'subsample': 0.8622005636360552, 'gamma': 44.23134697777763, 'reg_alpha': 8.724544155103688, 'reg_lambda': 9.17166418675451}. Best is trial 44 with value: 0.6488383024442653.\n"
     ]
    },
    {
     "name": "stdout",
     "output_type": "stream",
     "text": [
      "Best hyperparameters: {'n_estimators': 116, 'max_depth': 15, 'learning_rate': 0.11282499031162016, 'colsample_bytree': 0.8117844920548278, 'subsample': 0.9381741069355993, 'gamma': 4.270353924838969, 'reg_alpha': 3.540898881479783, 'reg_lambda': 1.037931010028694}\n",
      "Validation Accuracy: 0.6335697399527187\n",
      "Validation ROC AUC: 0.6484046244068404\n",
      "Validation Classification Report:\n",
      "               precision    recall  f1-score   support\n",
      "\n",
      "           0       0.62      0.61      0.61       408\n",
      "           1       0.64      0.66      0.65       438\n",
      "\n",
      "    accuracy                           0.63       846\n",
      "   macro avg       0.63      0.63      0.63       846\n",
      "weighted avg       0.63      0.63      0.63       846\n",
      "\n",
      "Test Accuracy: 0.6310892497333175\n",
      "Test ROC AUC: 0.6440784866306323\n",
      "Test Classification Report:\n",
      "               precision    recall  f1-score   support\n",
      "\n",
      "           0       0.62      0.60      0.61     16315\n",
      "           1       0.64      0.66      0.65     17433\n",
      "\n",
      "    accuracy                           0.63     33748\n",
      "   macro avg       0.63      0.63      0.63     33748\n",
      "weighted avg       0.63      0.63      0.63     33748\n",
      "\n"
     ]
    },
    {
     "data": {
      "application/vnd.plotly.v1+json": {
       "config": {
        "plotlyServerURL": "https://plot.ly"
       },
       "data": [
        {
         "cliponaxis": false,
         "hovertemplate": [
          "max_depth (IntDistribution): 0.0015857205338562859<extra></extra>",
          "colsample_bytree (FloatDistribution): 0.005892754674325094<extra></extra>",
          "subsample (FloatDistribution): 0.013099835318993072<extra></extra>",
          "n_estimators (IntDistribution): 0.01369202208911784<extra></extra>",
          "reg_alpha (FloatDistribution): 0.029759617673279472<extra></extra>",
          "reg_lambda (FloatDistribution): 0.03695993422876097<extra></extra>",
          "learning_rate (FloatDistribution): 0.1649011932893843<extra></extra>",
          "gamma (FloatDistribution): 0.7341089221922829<extra></extra>"
         ],
         "name": "Objective Value",
         "orientation": "h",
         "text": [
          "<0.01",
          "<0.01",
          "0.01",
          "0.01",
          "0.03",
          "0.04",
          "0.16",
          "0.73"
         ],
         "textposition": "outside",
         "type": "bar",
         "x": [
          0.0015857205338562859,
          0.005892754674325094,
          0.013099835318993072,
          0.01369202208911784,
          0.029759617673279472,
          0.03695993422876097,
          0.1649011932893843,
          0.7341089221922829
         ],
         "y": [
          "max_depth",
          "colsample_bytree",
          "subsample",
          "n_estimators",
          "reg_alpha",
          "reg_lambda",
          "learning_rate",
          "gamma"
         ]
        }
       ],
       "layout": {
        "template": {
         "data": {
          "bar": [
           {
            "error_x": {
             "color": "#2a3f5f"
            },
            "error_y": {
             "color": "#2a3f5f"
            },
            "marker": {
             "line": {
              "color": "#E5ECF6",
              "width": 0.5
             },
             "pattern": {
              "fillmode": "overlay",
              "size": 10,
              "solidity": 0.2
             }
            },
            "type": "bar"
           }
          ],
          "barpolar": [
           {
            "marker": {
             "line": {
              "color": "#E5ECF6",
              "width": 0.5
             },
             "pattern": {
              "fillmode": "overlay",
              "size": 10,
              "solidity": 0.2
             }
            },
            "type": "barpolar"
           }
          ],
          "carpet": [
           {
            "aaxis": {
             "endlinecolor": "#2a3f5f",
             "gridcolor": "white",
             "linecolor": "white",
             "minorgridcolor": "white",
             "startlinecolor": "#2a3f5f"
            },
            "baxis": {
             "endlinecolor": "#2a3f5f",
             "gridcolor": "white",
             "linecolor": "white",
             "minorgridcolor": "white",
             "startlinecolor": "#2a3f5f"
            },
            "type": "carpet"
           }
          ],
          "choropleth": [
           {
            "colorbar": {
             "outlinewidth": 0,
             "ticks": ""
            },
            "type": "choropleth"
           }
          ],
          "contour": [
           {
            "colorbar": {
             "outlinewidth": 0,
             "ticks": ""
            },
            "colorscale": [
             [
              0,
              "#0d0887"
             ],
             [
              0.1111111111111111,
              "#46039f"
             ],
             [
              0.2222222222222222,
              "#7201a8"
             ],
             [
              0.3333333333333333,
              "#9c179e"
             ],
             [
              0.4444444444444444,
              "#bd3786"
             ],
             [
              0.5555555555555556,
              "#d8576b"
             ],
             [
              0.6666666666666666,
              "#ed7953"
             ],
             [
              0.7777777777777778,
              "#fb9f3a"
             ],
             [
              0.8888888888888888,
              "#fdca26"
             ],
             [
              1,
              "#f0f921"
             ]
            ],
            "type": "contour"
           }
          ],
          "contourcarpet": [
           {
            "colorbar": {
             "outlinewidth": 0,
             "ticks": ""
            },
            "type": "contourcarpet"
           }
          ],
          "heatmap": [
           {
            "colorbar": {
             "outlinewidth": 0,
             "ticks": ""
            },
            "colorscale": [
             [
              0,
              "#0d0887"
             ],
             [
              0.1111111111111111,
              "#46039f"
             ],
             [
              0.2222222222222222,
              "#7201a8"
             ],
             [
              0.3333333333333333,
              "#9c179e"
             ],
             [
              0.4444444444444444,
              "#bd3786"
             ],
             [
              0.5555555555555556,
              "#d8576b"
             ],
             [
              0.6666666666666666,
              "#ed7953"
             ],
             [
              0.7777777777777778,
              "#fb9f3a"
             ],
             [
              0.8888888888888888,
              "#fdca26"
             ],
             [
              1,
              "#f0f921"
             ]
            ],
            "type": "heatmap"
           }
          ],
          "histogram": [
           {
            "marker": {
             "pattern": {
              "fillmode": "overlay",
              "size": 10,
              "solidity": 0.2
             }
            },
            "type": "histogram"
           }
          ],
          "histogram2d": [
           {
            "colorbar": {
             "outlinewidth": 0,
             "ticks": ""
            },
            "colorscale": [
             [
              0,
              "#0d0887"
             ],
             [
              0.1111111111111111,
              "#46039f"
             ],
             [
              0.2222222222222222,
              "#7201a8"
             ],
             [
              0.3333333333333333,
              "#9c179e"
             ],
             [
              0.4444444444444444,
              "#bd3786"
             ],
             [
              0.5555555555555556,
              "#d8576b"
             ],
             [
              0.6666666666666666,
              "#ed7953"
             ],
             [
              0.7777777777777778,
              "#fb9f3a"
             ],
             [
              0.8888888888888888,
              "#fdca26"
             ],
             [
              1,
              "#f0f921"
             ]
            ],
            "type": "histogram2d"
           }
          ],
          "histogram2dcontour": [
           {
            "colorbar": {
             "outlinewidth": 0,
             "ticks": ""
            },
            "colorscale": [
             [
              0,
              "#0d0887"
             ],
             [
              0.1111111111111111,
              "#46039f"
             ],
             [
              0.2222222222222222,
              "#7201a8"
             ],
             [
              0.3333333333333333,
              "#9c179e"
             ],
             [
              0.4444444444444444,
              "#bd3786"
             ],
             [
              0.5555555555555556,
              "#d8576b"
             ],
             [
              0.6666666666666666,
              "#ed7953"
             ],
             [
              0.7777777777777778,
              "#fb9f3a"
             ],
             [
              0.8888888888888888,
              "#fdca26"
             ],
             [
              1,
              "#f0f921"
             ]
            ],
            "type": "histogram2dcontour"
           }
          ],
          "mesh3d": [
           {
            "colorbar": {
             "outlinewidth": 0,
             "ticks": ""
            },
            "type": "mesh3d"
           }
          ],
          "parcoords": [
           {
            "line": {
             "colorbar": {
              "outlinewidth": 0,
              "ticks": ""
             }
            },
            "type": "parcoords"
           }
          ],
          "pie": [
           {
            "automargin": true,
            "type": "pie"
           }
          ],
          "scatter": [
           {
            "fillpattern": {
             "fillmode": "overlay",
             "size": 10,
             "solidity": 0.2
            },
            "type": "scatter"
           }
          ],
          "scatter3d": [
           {
            "line": {
             "colorbar": {
              "outlinewidth": 0,
              "ticks": ""
             }
            },
            "marker": {
             "colorbar": {
              "outlinewidth": 0,
              "ticks": ""
             }
            },
            "type": "scatter3d"
           }
          ],
          "scattercarpet": [
           {
            "marker": {
             "colorbar": {
              "outlinewidth": 0,
              "ticks": ""
             }
            },
            "type": "scattercarpet"
           }
          ],
          "scattergeo": [
           {
            "marker": {
             "colorbar": {
              "outlinewidth": 0,
              "ticks": ""
             }
            },
            "type": "scattergeo"
           }
          ],
          "scattergl": [
           {
            "marker": {
             "colorbar": {
              "outlinewidth": 0,
              "ticks": ""
             }
            },
            "type": "scattergl"
           }
          ],
          "scattermap": [
           {
            "marker": {
             "colorbar": {
              "outlinewidth": 0,
              "ticks": ""
             }
            },
            "type": "scattermap"
           }
          ],
          "scattermapbox": [
           {
            "marker": {
             "colorbar": {
              "outlinewidth": 0,
              "ticks": ""
             }
            },
            "type": "scattermapbox"
           }
          ],
          "scatterpolar": [
           {
            "marker": {
             "colorbar": {
              "outlinewidth": 0,
              "ticks": ""
             }
            },
            "type": "scatterpolar"
           }
          ],
          "scatterpolargl": [
           {
            "marker": {
             "colorbar": {
              "outlinewidth": 0,
              "ticks": ""
             }
            },
            "type": "scatterpolargl"
           }
          ],
          "scatterternary": [
           {
            "marker": {
             "colorbar": {
              "outlinewidth": 0,
              "ticks": ""
             }
            },
            "type": "scatterternary"
           }
          ],
          "surface": [
           {
            "colorbar": {
             "outlinewidth": 0,
             "ticks": ""
            },
            "colorscale": [
             [
              0,
              "#0d0887"
             ],
             [
              0.1111111111111111,
              "#46039f"
             ],
             [
              0.2222222222222222,
              "#7201a8"
             ],
             [
              0.3333333333333333,
              "#9c179e"
             ],
             [
              0.4444444444444444,
              "#bd3786"
             ],
             [
              0.5555555555555556,
              "#d8576b"
             ],
             [
              0.6666666666666666,
              "#ed7953"
             ],
             [
              0.7777777777777778,
              "#fb9f3a"
             ],
             [
              0.8888888888888888,
              "#fdca26"
             ],
             [
              1,
              "#f0f921"
             ]
            ],
            "type": "surface"
           }
          ],
          "table": [
           {
            "cells": {
             "fill": {
              "color": "#EBF0F8"
             },
             "line": {
              "color": "white"
             }
            },
            "header": {
             "fill": {
              "color": "#C8D4E3"
             },
             "line": {
              "color": "white"
             }
            },
            "type": "table"
           }
          ]
         },
         "layout": {
          "annotationdefaults": {
           "arrowcolor": "#2a3f5f",
           "arrowhead": 0,
           "arrowwidth": 1
          },
          "autotypenumbers": "strict",
          "coloraxis": {
           "colorbar": {
            "outlinewidth": 0,
            "ticks": ""
           }
          },
          "colorscale": {
           "diverging": [
            [
             0,
             "#8e0152"
            ],
            [
             0.1,
             "#c51b7d"
            ],
            [
             0.2,
             "#de77ae"
            ],
            [
             0.3,
             "#f1b6da"
            ],
            [
             0.4,
             "#fde0ef"
            ],
            [
             0.5,
             "#f7f7f7"
            ],
            [
             0.6,
             "#e6f5d0"
            ],
            [
             0.7,
             "#b8e186"
            ],
            [
             0.8,
             "#7fbc41"
            ],
            [
             0.9,
             "#4d9221"
            ],
            [
             1,
             "#276419"
            ]
           ],
           "sequential": [
            [
             0,
             "#0d0887"
            ],
            [
             0.1111111111111111,
             "#46039f"
            ],
            [
             0.2222222222222222,
             "#7201a8"
            ],
            [
             0.3333333333333333,
             "#9c179e"
            ],
            [
             0.4444444444444444,
             "#bd3786"
            ],
            [
             0.5555555555555556,
             "#d8576b"
            ],
            [
             0.6666666666666666,
             "#ed7953"
            ],
            [
             0.7777777777777778,
             "#fb9f3a"
            ],
            [
             0.8888888888888888,
             "#fdca26"
            ],
            [
             1,
             "#f0f921"
            ]
           ],
           "sequentialminus": [
            [
             0,
             "#0d0887"
            ],
            [
             0.1111111111111111,
             "#46039f"
            ],
            [
             0.2222222222222222,
             "#7201a8"
            ],
            [
             0.3333333333333333,
             "#9c179e"
            ],
            [
             0.4444444444444444,
             "#bd3786"
            ],
            [
             0.5555555555555556,
             "#d8576b"
            ],
            [
             0.6666666666666666,
             "#ed7953"
            ],
            [
             0.7777777777777778,
             "#fb9f3a"
            ],
            [
             0.8888888888888888,
             "#fdca26"
            ],
            [
             1,
             "#f0f921"
            ]
           ]
          },
          "colorway": [
           "#636efa",
           "#EF553B",
           "#00cc96",
           "#ab63fa",
           "#FFA15A",
           "#19d3f3",
           "#FF6692",
           "#B6E880",
           "#FF97FF",
           "#FECB52"
          ],
          "font": {
           "color": "#2a3f5f"
          },
          "geo": {
           "bgcolor": "white",
           "lakecolor": "white",
           "landcolor": "#E5ECF6",
           "showlakes": true,
           "showland": true,
           "subunitcolor": "white"
          },
          "hoverlabel": {
           "align": "left"
          },
          "hovermode": "closest",
          "mapbox": {
           "style": "light"
          },
          "paper_bgcolor": "white",
          "plot_bgcolor": "#E5ECF6",
          "polar": {
           "angularaxis": {
            "gridcolor": "white",
            "linecolor": "white",
            "ticks": ""
           },
           "bgcolor": "#E5ECF6",
           "radialaxis": {
            "gridcolor": "white",
            "linecolor": "white",
            "ticks": ""
           }
          },
          "scene": {
           "xaxis": {
            "backgroundcolor": "#E5ECF6",
            "gridcolor": "white",
            "gridwidth": 2,
            "linecolor": "white",
            "showbackground": true,
            "ticks": "",
            "zerolinecolor": "white"
           },
           "yaxis": {
            "backgroundcolor": "#E5ECF6",
            "gridcolor": "white",
            "gridwidth": 2,
            "linecolor": "white",
            "showbackground": true,
            "ticks": "",
            "zerolinecolor": "white"
           },
           "zaxis": {
            "backgroundcolor": "#E5ECF6",
            "gridcolor": "white",
            "gridwidth": 2,
            "linecolor": "white",
            "showbackground": true,
            "ticks": "",
            "zerolinecolor": "white"
           }
          },
          "shapedefaults": {
           "line": {
            "color": "#2a3f5f"
           }
          },
          "ternary": {
           "aaxis": {
            "gridcolor": "white",
            "linecolor": "white",
            "ticks": ""
           },
           "baxis": {
            "gridcolor": "white",
            "linecolor": "white",
            "ticks": ""
           },
           "bgcolor": "#E5ECF6",
           "caxis": {
            "gridcolor": "white",
            "linecolor": "white",
            "ticks": ""
           }
          },
          "title": {
           "x": 0.05
          },
          "xaxis": {
           "automargin": true,
           "gridcolor": "white",
           "linecolor": "white",
           "ticks": "",
           "title": {
            "standoff": 15
           },
           "zerolinecolor": "white",
           "zerolinewidth": 2
          },
          "yaxis": {
           "automargin": true,
           "gridcolor": "white",
           "linecolor": "white",
           "ticks": "",
           "title": {
            "standoff": 15
           },
           "zerolinecolor": "white",
           "zerolinewidth": 2
          }
         }
        },
        "title": {
         "text": "Hyperparameter Importances"
        },
        "xaxis": {
         "title": {
          "text": "Hyperparameter Importance"
         }
        },
        "yaxis": {
         "title": {
          "text": "Hyperparameter"
         }
        }
       }
      }
     },
     "metadata": {},
     "output_type": "display_data"
    },
    {
     "data": {
      "image/png": "[encoded data removed]",
      "text/plain": [
       "<Figure size 800x600 with 1 Axes>"
      ]
     },
     "metadata": {},
     "output_type": "display_data"
    },
    {
     "name": "stdout",
     "output_type": "stream",
     "text": [
      "Optimal threshold by Youden's J: 0.607\n",
      "Optimal Test Accuracy: 0.6310892497333175\n",
      "Optimal Test Classification Report:\n",
      "               precision    recall  f1-score   support\n",
      "\n",
      "           0       0.62      0.60      0.61     16315\n",
      "           1       0.64      0.66      0.65     17433\n",
      "\n",
      "    accuracy                           0.63     33748\n",
      "   macro avg       0.63      0.63      0.63     33748\n",
      "weighted avg       0.63      0.63      0.63     33748\n",
      "\n"
     ]
    }
   ],
   "source": [
    "import pandas as pd\n",
    "import numpy as np\n",
    "import matplotlib.pyplot as plt\n",
    "from xgboost import XGBClassifier\n",
    "from sklearn.preprocessing import StandardScaler\n",
    "from sklearn.pipeline import Pipeline\n",
    "from sklearn.metrics import (\n",
    "    accuracy_score,\n",
    "    roc_auc_score,\n",
    "    classification_report,\n",
    "    roc_curve,\n",
    ")\n",
    "from sklearn.model_selection import train_test_split\n",
    "import optuna\n",
    "import optuna.visualization as vis\n",
    "\n",
    "\n",
    "def create_features_and_target(df: pd.DataFrame):\n",
    "    \"\"\"\n",
    "    Define feature columns and target vector.\n",
    "    Adjust the feature list as needed.\n",
    "    \"\"\"\n",
    "    feature_columns = [\n",
    "        \"duration\",\n",
    "        \"process_execution_id\",\n",
    "        \"part_id\",\n",
    "        \"process_type\",\n",
    "        \"process_id\",\n",
    "        \"resource_id\",\n",
    "        \"sequence_number\",\n",
    "    ]\n",
    "    X = df[feature_columns]\n",
    "    y = df[\"is_valid\"].astype(int)\n",
    "    return X, y\n",
    "\n",
    "\n",
    "def objective(trial, X_train, y_train, X_val, y_val, scale_pos_weight):\n",
    "    \"\"\"\n",
    "    Objective function for Optuna to optimize hyperparameters.\n",
    "    \"\"\"\n",
    "    # Suggest hyperparameters for optimization\n",
    "    params = {\n",
    "        \"n_estimators\": trial.suggest_int(\"n_estimators\", 100, 500),\n",
    "        \"max_depth\": trial.suggest_int(\"max_depth\", 2, 20),\n",
    "        \"learning_rate\": trial.suggest_float(\"learning_rate\", 0.001, 0.5),\n",
    "        \"colsample_bytree\": trial.suggest_float(\"colsample_bytree\", 0.5, 1.0),\n",
    "        \"subsample\": trial.suggest_float(\"subsample\", 0.5, 1.0),\n",
    "        \"gamma\": trial.suggest_float(\"gamma\", 0, 100),\n",
    "        \"reg_alpha\": trial.suggest_float(\"reg_alpha\", 0.0, 10.0),\n",
    "        \"reg_lambda\": trial.suggest_float(\"reg_lambda\", 0.0, 10.0),\n",
    "        \"scale_pos_weight\": scale_pos_weight,\n",
    "    }\n",
    "\n",
    "    # Train the XGBClassifier using the suggested hyperparameters\n",
    "    pipeline = Pipeline(\n",
    "        [\n",
    "            (\"scaler\", StandardScaler()),\n",
    "            (\n",
    "                \"xgb\",\n",
    "                XGBClassifier(\n",
    "                    objective=\"binary:logistic\",\n",
    "                    **params,\n",
    "                    use_label_encoder=False,\n",
    "                    eval_metric=\"auc\",\n",
    "                ),\n",
    "            ),\n",
    "        ]\n",
    "    )\n",
    "    pipeline.fit(X_train, y_train)\n",
    "\n",
    "    # Evaluate the model on the validation set\n",
    "    y_val_pred = pipeline.predict(X_val)\n",
    "    y_val_proba = pipeline.predict_proba(X_val)[:, 1]\n",
    "    val_auc = roc_auc_score(y_val, y_val_proba)\n",
    "\n",
    "    # Optuna will maximize this AUC\n",
    "    return val_auc\n",
    "\n",
    "\n",
    "def main(df_train_mod: pd.DataFrame, df_test_mod: pd.DataFrame):\n",
    "    # Split the original training set into new train and validation sets (70/30)\n",
    "    df_train_split, df_val_split = train_test_split(\n",
    "        df_train_mod, test_size=0.3, random_state=42, stratify=df_train_mod[\"is_valid\"]\n",
    "    )\n",
    "\n",
    "    # Create features and target vectors for each split\n",
    "    X_train, y_train = create_features_and_target(df_train_split)\n",
    "    X_val, y_val = create_features_and_target(df_val_split)\n",
    "    X_test, y_test = create_features_and_target(df_test_mod)\n",
    "\n",
    "    # Compute scale_pos_weight based on training data: (# negatives / # positives)\n",
    "    class_counts = y_train.value_counts().to_dict()\n",
    "    scale_pos_weight = class_counts.get(0, 1) / class_counts.get(1, 1)\n",
    "    print(f\"scale_pos_weight: {scale_pos_weight}\")\n",
    "\n",
    "    # Run Optuna study to optimize hyperparameters\n",
    "    study = optuna.create_study(direction=\"maximize\")\n",
    "    study.optimize(\n",
    "        lambda trial: objective(\n",
    "            trial, X_train, y_train, X_val, y_val, scale_pos_weight\n",
    "        ),\n",
    "        n_trials=50,\n",
    "    )\n",
    "\n",
    "    # Print the best hyperparameters\n",
    "    print(\"Best hyperparameters:\", study.best_params)\n",
    "\n",
    "    # Train the final model with the best hyperparameters\n",
    "    best_params = study.best_params\n",
    "    pipeline = Pipeline(\n",
    "        [\n",
    "            (\"scaler\", StandardScaler()),\n",
    "            (\n",
    "                \"xgb\",\n",
    "                XGBClassifier(\n",
    "                    objective=\"binary:logistic\",\n",
    "                    **best_params,\n",
    "                    eval_metric=\"logloss\",\n",
    "                ),\n",
    "            ),\n",
    "        ]\n",
    "    )\n",
    "    pipeline.fit(X_train, y_train)\n",
    "\n",
    "    # Evaluate on the validation set\n",
    "    y_val_pred = pipeline.predict(X_val)\n",
    "    y_val_proba = pipeline.predict_proba(X_val)[:, 1]\n",
    "    val_accuracy = accuracy_score(y_val, y_val_pred)\n",
    "    val_auc = roc_auc_score(y_val, y_val_proba)\n",
    "    print(\"Validation Accuracy:\", val_accuracy)\n",
    "    print(\"Validation ROC AUC:\", val_auc)\n",
    "    print(\n",
    "        \"Validation Classification Report:\\n\", classification_report(y_val, y_val_pred)\n",
    "    )\n",
    "\n",
    "    # Predict and evaluate on the test set\n",
    "    y_pred = pipeline.predict(X_test)\n",
    "    y_proba = pipeline.predict_proba(X_test)[:, 1]\n",
    "    test_accuracy = accuracy_score(y_test, y_pred)\n",
    "    test_auc = roc_auc_score(y_test, y_proba)\n",
    "    print(\"Test Accuracy:\", test_accuracy)\n",
    "    print(\"Test ROC AUC:\", test_auc)\n",
    "    print(\"Test Classification Report:\\n\", classification_report(y_test, y_pred))\n",
    "\n",
    "    # Visualize the optimization process\n",
    "    fig = vis.plot_param_importances(study)\n",
    "    fig.show()\n",
    "\n",
    "    # Compute and plot ROC curve for the test set\n",
    "    fpr, tpr, thresholds = roc_curve(y_test, y_proba)\n",
    "    plt.figure(figsize=(8, 6))\n",
    "    plt.plot(fpr, tpr, label=f\"ROC Curve (AUC = {test_auc:.2f})\")\n",
    "    plt.plot([0, 1], [0, 1], \"k--\", label=\"Random Model\")\n",
    "    plt.xlabel(\"False Positive Rate\")\n",
    "    plt.ylabel(\"True Positive Rate\")\n",
    "    plt.title(\"Test ROC Curve\")\n",
    "    plt.legend(loc=\"lower right\")\n",
    "    plt.grid(True)\n",
    "    plt.show()\n",
    "\n",
    "    # Optimize threshold using Youden's J statistic\n",
    "    youden_j = tpr - fpr\n",
    "    optimal_idx = np.argmax(youden_j)\n",
    "    optimal_threshold = thresholds[optimal_idx]\n",
    "    print(f\"Optimal threshold by Youden's J: {optimal_threshold:.3f}\")\n",
    "\n",
    "    # Make new predictions with the optimal threshold\n",
    "    y_pred_optimal = (y_proba >= optimal_threshold).astype(int)\n",
    "    optimal_accuracy = accuracy_score(y_test, y_pred_optimal)\n",
    "    print(\"Optimal Test Accuracy:\", optimal_accuracy)\n",
    "    print(\n",
    "        \"Optimal Test Classification Report:\\n\",\n",
    "        classification_report(y_test, y_pred_optimal),\n",
    "    )\n",
    "\n",
    "\n",
    "# Call main with your data\n",
    "main(df_train_mod, df_test_mod)"
   ]
  },
  {
   "cell_type": "markdown",
   "metadata": {},
   "source": [
    "## xLSTM w/o OHE"
   ]
  },
  {
   "cell_type": "markdown",
   "metadata": {},
   "source": [
    "- Online xLSTM Learning mit\n",
    "  - xLSTM mit (self-)Attention und finalem Sigmoid\n",
    "  - Diagnosefunktion\n",
    "  - Binary Cross Entropy Loss\n",
    "  - Adam Optimizer\n",
    "  - Eval mit ROC Auc Score\n",
    "  - hierarschische Schichten \n",
    "  - Kaiming He Initialializatrion\n",
    "  - ReduceLROnPlateau\n",
    "  - Layer Noprmalization\n",
    "  - Residual Connections\n",
    "  - clip_gradc_norm\n",
    "  - variational Dropout\n",
    "\n",
    "______\n",
    "\n",
    "Optuna Study Results:\n",
    "Best hyperparameters: {'hidden_size': 128, 'num_layers': 1, 'attention_heads': 4, 'learning_rate': 0.002178814512730429, 'batch_size': 16}\n",
    "Best hyperparameters: {'hidden_size': 256, 'num_layers': 1, 'attention_heads': 8, 'learning_rate': 0.0004430910289224529, 'batch_size': 16, 'sequence_length': 13}\n",
    "\t\t\t\t      {'hidden_size': 256, 'num_layers': 1, 'attention_heads': 4, 'learning_rate': 0.006540374577095163, 'batch_size': 64, 'sequence_length': 17}.\n",
    "\t\t\t\t\t  {'hidden_size': 512, \t\t\t\t\t'attention_heads': 4, 'learning_rate': 0.000981293538963236, 'batch_size': 64, 'sequence_length': 16}\t\t\t\t\t  Best is trial 82 with value: 0.969715265865316.\n",
    "\t\t\t\t\t  {'hidden_size': 512, \t\t\t\t\t'attention_heads': 4, 'learning_rate': 0.0009964297013672556, 'batch_size': 32, 'sequence_length': 19} 0.95\n",
    "\t\t\t\t\t  {'hidden_size': 1024,                                       'learning_rate': 0.00050783591404517, 'batch_size': 64, 'sequence_length': 18}. 0.9139859653195173.\n",
    "\t\t\t\t\t  {'hidden_size': 1024, 'learning_rate': 0.0004922597537859419, 'batch_size': 64, 'sequence_length': 19} 0.93\n",
    "The new run shows some notable improvements:\n",
    "\n",
    "Test Accuracy: Improved to about 71.1% from earlier runs (~70.3%), a modest gain.\n",
    "ROC AUC: Increased dramatically to ~0.949, which indicates that the model ranks the positives and negatives very well.\n",
    "Classification Report:\n",
    "For Class 0: Precision is almost perfect (0.99), but recall is still low at 0.40—many negatives are being missed.\n",
    "For Class 1: Recall is perfect (1.00) while precision is moderate (0.64), meaning the model tends to label almost all instances as positive.\n",
    "Overall, while the raw accuracy has seen only a slight improvement, the ROC AUC boost suggests that the underlying probability estimates are much better. This is a strong sign that with further threshold tuning or class balancing techniques, you could potentially achieve a more balanced performance between detecting both classes.\n",
    "\n",
    "\n",
    "Anecdode: Raising the threshold for class 1 prob to 0.9, the model now performs well across all classes. This reflects the practical necessity that anomaly detection has to be sensitive. "
   ]
  },
  {
   "cell_type": "code",
   "execution_count": 8,
   "metadata": {},
   "outputs": [
    {
     "name": "stdout",
     "output_type": "stream",
     "text": [
      "Initialized XLSTMDataset with samples: 2801\n",
      "Initialized XLSTMDataset with samples: 33730\n",
      "CUDA IS AVAILABLE? True\n",
      "Train dataset size: 2801\n",
      "df_train_mod shape: (2819, 11)\n",
      "   process_execution_id  order_id                start_time  \\\n",
      "0                     0       299 2025-02-20 10:28:17+00:00   \n",
      "1                     1       298 2025-02-20 10:28:32+00:00   \n",
      "2                     2       299 2025-02-20 10:28:32+00:00   \n",
      "3                     3       298 2025-02-20 10:29:13+00:00   \n",
      "4                     4       299 2025-02-20 10:29:54+00:00   \n",
      "\n",
      "                   end_time  part_id  process_type  process_id  resource_id  \\\n",
      "0 2025-02-20 10:28:32+00:00        0             0           0            0   \n",
      "1 2025-02-20 10:28:47+00:00        0             0           0            0   \n",
      "2 2025-02-20 10:29:12+00:00        1             0           1            1   \n",
      "3 2025-02-20 10:29:53+00:00        1             0           1            1   \n",
      "4 2025-02-20 10:30:50+00:00        2             0           2            1   \n",
      "\n",
      "   is_valid  duration  sequence_number  \n",
      "0      True      15.0                1  \n",
      "1      True      15.0                1  \n",
      "2      True      40.0                1  \n",
      "3      True      40.0                1  \n",
      "4      True      56.0                2  \n"
     ]
    },
    {
     "name": "stderr",
     "output_type": "stream",
     "text": [
      "c:\\Users\\danie\\miniforge3\\envs\\ofact\\Lib\\site-packages\\torch\\nn\\modules\\rnn.py:123: UserWarning:\n",
      "\n",
      "dropout option adds dropout after all but last recurrent layer, so non-zero dropout expects num_layers greater than 1, but got dropout=0.3 and num_layers=1\n",
      "\n",
      "c:\\Users\\danie\\miniforge3\\envs\\ofact\\Lib\\site-packages\\torch\\optim\\lr_scheduler.py:62: UserWarning:\n",
      "\n",
      "The verbose parameter is deprecated. Please use get_last_lr() to access the learning rate.\n",
      "\n"
     ]
    },
    {
     "name": "stdout",
     "output_type": "stream",
     "text": [
      "Epoch 1/150, Loss: 54.8375\n",
      "Epoch 2/150, Loss: 10.9350\n",
      "Epoch 3/150, Loss: 10.2280\n",
      "Epoch 4/150, Loss: 9.7904\n",
      "Epoch 5/150, Loss: 10.4503\n",
      "Epoch 6/150, Loss: 10.9525\n",
      "Epoch 7/150, Loss: 10.0323\n",
      "Epoch 8/150, Loss: 8.9504\n",
      "Epoch 9/150, Loss: 8.3406\n",
      "Epoch 10/150, Loss: 8.3970\n",
      "Epoch 11/150, Loss: 9.1389\n",
      "Epoch 12/150, Loss: 9.0277\n",
      "Epoch 13/150, Loss: 8.4134\n",
      "Epoch 14/150, Loss: 9.6189\n",
      "Epoch 15/150, Loss: 10.1166\n",
      "Epoch 16/150, Loss: 8.0304\n",
      "Epoch 17/150, Loss: 7.6839\n",
      "Epoch 18/150, Loss: 7.8328\n",
      "Epoch 19/150, Loss: 7.4139\n",
      "Epoch 20/150, Loss: 7.3073\n",
      "Epoch 21/150, Loss: 7.1693\n",
      "Epoch 22/150, Loss: 7.0361\n",
      "Epoch 23/150, Loss: 7.1506\n",
      "Epoch 24/150, Loss: 7.2290\n",
      "Epoch 25/150, Loss: 7.0596\n",
      "Epoch 26/150, Loss: 7.0146\n",
      "Epoch 27/150, Loss: 6.7527\n",
      "Epoch 28/150, Loss: 6.7674\n",
      "Epoch 29/150, Loss: 7.3310\n",
      "Epoch 30/150, Loss: 6.5984\n",
      "Epoch 31/150, Loss: 6.7333\n",
      "Epoch 32/150, Loss: 6.3752\n",
      "Epoch 33/150, Loss: 6.3828\n",
      "Epoch 34/150, Loss: 6.4376\n",
      "Epoch 35/150, Loss: 6.3839\n",
      "Epoch 36/150, Loss: 6.4483\n",
      "Epoch 37/150, Loss: 6.5744\n",
      "Epoch 38/150, Loss: 6.2147\n",
      "Epoch 39/150, Loss: 6.3401\n",
      "Epoch 40/150, Loss: 6.1845\n",
      "Epoch 41/150, Loss: 6.0759\n",
      "Epoch 42/150, Loss: 5.7373\n",
      "Epoch 43/150, Loss: 6.0835\n",
      "Epoch 44/150, Loss: 6.0509\n",
      "Epoch 45/150, Loss: 6.2413\n",
      "Epoch 46/150, Loss: 6.0840\n",
      "Epoch 47/150, Loss: 5.7788\n",
      "Epoch 48/150, Loss: 5.7377\n",
      "Epoch 49/150, Loss: 5.6331\n",
      "Epoch 50/150, Loss: 5.5913\n",
      "Epoch 51/150, Loss: 5.6067\n",
      "Epoch 52/150, Loss: 5.4775\n",
      "Epoch 53/150, Loss: 5.5904\n",
      "Epoch 54/150, Loss: 5.3632\n",
      "Epoch 55/150, Loss: 5.2824\n",
      "Epoch 56/150, Loss: 5.3959\n",
      "Epoch 57/150, Loss: 5.2776\n",
      "Epoch 58/150, Loss: 5.1775\n",
      "Epoch 59/150, Loss: 5.0042\n",
      "Epoch 60/150, Loss: 5.4857\n",
      "Epoch 61/150, Loss: 4.9623\n",
      "Epoch 62/150, Loss: 5.1334\n",
      "Epoch 63/150, Loss: 5.1095\n",
      "Epoch 64/150, Loss: 5.1392\n",
      "Epoch 65/150, Loss: 5.3030\n",
      "Epoch 66/150, Loss: 4.9887\n",
      "Epoch 67/150, Loss: 4.9025\n",
      "Epoch 68/150, Loss: 5.1182\n",
      "Epoch 69/150, Loss: 4.9638\n",
      "Epoch 70/150, Loss: 5.0203\n",
      "Epoch 71/150, Loss: 4.8943\n",
      "Epoch 72/150, Loss: 5.0785\n",
      "Epoch 73/150, Loss: 4.8284\n",
      "Epoch 74/150, Loss: 4.8644\n",
      "Epoch 75/150, Loss: 5.0670\n",
      "Epoch 76/150, Loss: 4.9359\n",
      "Epoch 77/150, Loss: 5.1379\n",
      "Epoch 78/150, Loss: 4.6851\n",
      "Epoch 79/150, Loss: 4.8919\n",
      "Epoch 80/150, Loss: 4.7726\n",
      "Epoch 81/150, Loss: 4.8957\n",
      "Epoch 82/150, Loss: 4.8083\n",
      "Epoch 83/150, Loss: 4.6505\n",
      "Epoch 84/150, Loss: 4.6330\n",
      "Epoch 85/150, Loss: 4.6573\n",
      "Epoch 86/150, Loss: 4.8406\n",
      "Epoch 87/150, Loss: 4.7131\n",
      "Epoch 88/150, Loss: 4.6961\n",
      "Epoch 89/150, Loss: 4.6961\n",
      "Epoch 90/150, Loss: 4.6528\n",
      "Epoch 91/150, Loss: 4.5855\n",
      "Epoch 92/150, Loss: 4.6670\n",
      "Epoch 93/150, Loss: 4.5602\n",
      "Epoch 94/150, Loss: 4.7018\n",
      "Epoch 95/150, Loss: 4.5967\n",
      "Epoch 96/150, Loss: 4.6705\n",
      "Epoch 97/150, Loss: 4.5308\n",
      "Epoch 98/150, Loss: 4.6768\n",
      "Epoch 99/150, Loss: 4.6322\n",
      "Epoch 100/150, Loss: 4.4741\n",
      "Epoch 101/150, Loss: 4.6866\n",
      "Epoch 102/150, Loss: 4.6002\n",
      "Epoch 103/150, Loss: 4.5724\n",
      "Epoch 104/150, Loss: 4.5452\n",
      "Epoch 105/150, Loss: 4.5176\n",
      "Epoch 106/150, Loss: 4.4732\n",
      "Epoch 107/150, Loss: 4.5311\n",
      "Epoch 108/150, Loss: 4.5275\n",
      "Epoch 109/150, Loss: 4.6292\n",
      "Epoch 110/150, Loss: 4.5133\n",
      "Epoch 111/150, Loss: 4.4928\n",
      "Epoch 112/150, Loss: 4.5299\n",
      "Epoch 113/150, Loss: 4.6886\n",
      "Epoch 114/150, Loss: 4.7152\n",
      "Epoch 115/150, Loss: 4.6981\n",
      "Epoch 116/150, Loss: 4.5322\n",
      "Epoch 117/150, Loss: 4.5385\n",
      "Epoch 118/150, Loss: 4.4901\n",
      "Epoch 119/150, Loss: 4.4531\n",
      "Epoch 120/150, Loss: 4.4953\n",
      "Epoch 121/150, Loss: 4.5647\n",
      "Epoch 122/150, Loss: 4.6996\n",
      "Epoch 123/150, Loss: 4.6684\n",
      "Epoch 124/150, Loss: 4.4865\n",
      "Epoch 125/150, Loss: 4.7741\n",
      "Epoch 126/150, Loss: 4.5843\n",
      "Epoch 127/150, Loss: 4.4104\n",
      "Epoch 128/150, Loss: 4.8276\n",
      "Epoch 129/150, Loss: 4.5475\n",
      "Epoch 130/150, Loss: 4.5925\n",
      "Epoch 131/150, Loss: 4.4981\n",
      "Epoch 132/150, Loss: 4.5506\n",
      "Epoch 133/150, Loss: 4.6234\n",
      "Epoch 134/150, Loss: 4.5850\n",
      "Epoch 135/150, Loss: 4.3726\n",
      "Epoch 136/150, Loss: 4.5115\n",
      "Epoch 137/150, Loss: 4.3673\n",
      "Epoch 138/150, Loss: 4.6157\n",
      "Epoch 139/150, Loss: 4.5952\n",
      "Epoch 140/150, Loss: 4.6018\n",
      "Epoch 141/150, Loss: 4.5737\n",
      "Epoch 142/150, Loss: 4.7304\n",
      "Epoch 143/150, Loss: 4.5720\n",
      "Epoch 144/150, Loss: 4.6480\n",
      "Epoch 145/150, Loss: 4.7012\n",
      "Epoch 146/150, Loss: 4.4580\n",
      "Epoch 147/150, Loss: 4.6525\n",
      "Epoch 148/150, Loss: 4.5100\n",
      "Epoch 149/150, Loss: 4.4271\n",
      "Epoch 150/150, Loss: 4.5130\n",
      "Test Accuracy: 0.8853542840201601\n",
      "Test ROC AUC: 0.9530844184236974\n",
      "Warning: High loss, potential underfitting.\n",
      "Classification Report:\n",
      "              precision    recall  f1-score   support\n",
      "\n",
      "           0       0.97      0.79      0.87     16297\n",
      "           1       0.83      0.98      0.90     17433\n",
      "\n",
      "    accuracy                           0.89     33730\n",
      "   macro avg       0.90      0.88      0.88     33730\n",
      "weighted avg       0.90      0.89      0.88     33730\n",
      "\n"
     ]
    },
    {
     "data": {
      "image/png": "[encoded data removed]",
      "text/plain": [
       "<Figure size 800x600 with 1 Axes>"
      ]
     },
     "metadata": {},
     "output_type": "display_data"
    },
    {
     "name": "stdout",
     "output_type": "stream",
     "text": [
      "Model saved.\n"
     ]
    }
   ],
   "source": [
    "import torch\n",
    "import torch.nn as nn\n",
    "import torch.optim as optim\n",
    "import torch.nn.functional as F\n",
    "from torch.utils.data import DataLoader, Dataset\n",
    "from torch.nn.utils.rnn import pad_sequence\n",
    "from typing import List, Tuple, Dict\n",
    "from sklearn.metrics import roc_auc_score\n",
    "import numpy as np\n",
    "import matplotlib.pyplot as plt\n",
    "from sklearn.metrics import roc_curve, classification_report\n",
    "\n",
    "# 683 best so far\n",
    "SEED = 683\n",
    "torch.manual_seed(SEED)\n",
    "np.random.seed(SEED)\n",
    "\n",
    "\n",
    "class xLSTM(nn.Module):\n",
    "    def __init__(\n",
    "        self, input_size: int, hidden_size: int, num_layers: int, attention_heads: int\n",
    "    ):\n",
    "        super(xLSTM, self).__init__()\n",
    "\n",
    "        self.lstm_layers = nn.ModuleList(\n",
    "            [\n",
    "                nn.LSTM(\n",
    "                    input_size if i == 0 else hidden_size * 2,\n",
    "                    hidden_size,\n",
    "                    batch_first=True,\n",
    "                    dropout=0.3,  # use 0.5 for higher robustness doesnt harm performance\n",
    "                    bidirectional=True,\n",
    "                )\n",
    "                for i in range(num_layers)\n",
    "            ]\n",
    "        )\n",
    "\n",
    "        self.attention_layers = nn.ModuleList(\n",
    "            [\n",
    "                nn.MultiheadAttention(hidden_size * 2, attention_heads)\n",
    "                for _ in range(num_layers)\n",
    "            ]\n",
    "        )\n",
    "\n",
    "        self.layer_norm = nn.LayerNorm(hidden_size * 2)\n",
    "        self.residual = nn.Linear(hidden_size * 2, hidden_size * 2)\n",
    "        self.fc = nn.Sequential(\n",
    "            nn.Linear(hidden_size * 2, 128),\n",
    "            nn.ReLU(),\n",
    "            nn.Dropout(0.3),\n",
    "            nn.Linear(128, 1),\n",
    "        )\n",
    "\n",
    "        self._initialize_weights()\n",
    "\n",
    "    def _initialize_weights(self):\n",
    "        for m in self.modules():\n",
    "            if isinstance(m, nn.Linear):\n",
    "                nn.init.kaiming_normal_(m.weight)\n",
    "\n",
    "    def forward(self, x):\n",
    "        for i, lstm_layer in enumerate(self.lstm_layers):\n",
    "            x, _ = lstm_layer(x)\n",
    "            x = x.transpose(0, 1)\n",
    "            x, _ = self.attention_layers[i](x, x, x)\n",
    "            x = x.transpose(0, 1)\n",
    "            x = self.layer_norm(x)\n",
    "            residual = self.residual(x)\n",
    "            x = F.relu(x + residual)\n",
    "        x = torch.mean(x, dim=1)\n",
    "        return torch.sigmoid(self.fc(x))\n",
    "\n",
    "\n",
    "class XLSTMDataset(Dataset):\n",
    "    def __init__(self, df, sequence_length):\n",
    "        self.sequence_length = sequence_length\n",
    "        self.data = df.copy()\n",
    "        self.samples = []  # list to store samples\n",
    "        for i in range(len(df) - sequence_length + 1):\n",
    "            self.samples.append(df.iloc[i : i + sequence_length])\n",
    "\n",
    "        print(\"Initialized XLSTMDataset with samples:\", len(self.samples))\n",
    "\n",
    "        # Define feature and target columns (make sure these exist in your DataFrame)\n",
    "        self.feature_columns = [\n",
    "            \"duration\",\n",
    "            \"process_execution_id\",\n",
    "            \"part_id\",\n",
    "            \"process_type\",\n",
    "            \"process_id\",\n",
    "            \"resource_id\",\n",
    "            \"sequence_number\",\n",
    "        ]\n",
    "        self.target_column = \"is_valid\"\n",
    "\n",
    "    def __len__(self):\n",
    "        return len(self.samples)\n",
    "\n",
    "    def __getitem__(self, idx):\n",
    "        sample_df = self.samples[idx]\n",
    "        # Convert features to float32 explicitly\n",
    "        features = (\n",
    "            sample_df[self.feature_columns].astype(float).values.astype(np.float32)\n",
    "        )\n",
    "        # Use the first target value; cast to int\n",
    "        target = int(sample_df[self.target_column].values[0])\n",
    "        return (\n",
    "            torch.tensor(features, dtype=torch.float32),\n",
    "            torch.tensor(target, dtype=torch.long),\n",
    "        )\n",
    "\n",
    "\n",
    "def train_model(\n",
    "    model: xLSTM,\n",
    "    dataloader: DataLoader,\n",
    "    num_epochs: int = 10,\n",
    "    learning_rate: float = 0.0009964297013672556,\n",
    "    device: str = \"cuda\" if torch.cuda.is_available() else \"cpu\",\n",
    "):\n",
    "    model.to(device)\n",
    "    optimizer = torch.optim.Adam(model.parameters(), lr=learning_rate)\n",
    "\n",
    "    # Set up LR scheduler on plateau\n",
    "    scheduler = torch.optim.lr_scheduler.ReduceLROnPlateau(\n",
    "        optimizer,\n",
    "        mode=\"min\",\n",
    "        factor=0.1,\n",
    "        patience=5,\n",
    "        verbose=True,\n",
    "    )\n",
    "\n",
    "    criterion = torch.nn.BCELoss()\n",
    "    loss_history = []\n",
    "    model.train()\n",
    "\n",
    "    for epoch in range(num_epochs):\n",
    "        epoch_loss = 0.0\n",
    "        for sequences, labels in dataloader:\n",
    "            sequences = sequences.to(device)\n",
    "            labels = labels.to(device).float().unsqueeze(1)\n",
    "            optimizer.zero_grad()\n",
    "            outputs = model(sequences)\n",
    "            loss = criterion(outputs, labels)\n",
    "            loss.backward()\n",
    "            optimizer.step()\n",
    "            epoch_loss += loss.item()\n",
    "        loss_history.append(epoch_loss)\n",
    "        print(f\"Epoch {epoch+1}/{num_epochs}, Loss: {epoch_loss:.4f}\")\n",
    "\n",
    "        # Update the LR scheduler based on the epoch loss\n",
    "        scheduler.step(epoch_loss)\n",
    "\n",
    "    return loss_history\n",
    "\n",
    "\n",
    "def evaluate_model(\n",
    "    model: xLSTM,\n",
    "    dataloader: DataLoader,\n",
    "    device: str = \"cuda\" if torch.cuda.is_available() else \"cpu\",\n",
    ") -> Dict[str, float]:\n",
    "    model.to(device)\n",
    "    model.eval()\n",
    "    correct, total = 0, 0\n",
    "    all_labels, all_probs = [], []\n",
    "\n",
    "    with torch.no_grad():\n",
    "        for sequences, labels in dataloader:\n",
    "            sequences, labels = sequences.to(device), labels.to(device)\n",
    "            outputs = model(sequences).squeeze(1)\n",
    "            predicted = (\n",
    "                outputs > 0.9\n",
    "            ).float()  # Hoher Wert um False Positives zu vermeiden => Anomalieerkennung\n",
    "            correct += (predicted == labels).sum().item()\n",
    "            total += labels.size(0)\n",
    "            all_probs.extend(outputs.cpu().numpy().tolist())\n",
    "            all_labels.extend(labels.cpu().numpy().tolist())\n",
    "\n",
    "    accuracy = correct / total if total > 0 else 0.0\n",
    "    roc_auc = roc_auc_score(all_labels, all_probs)\n",
    "    return {\"accuracy\": accuracy, \"roc_auc\": roc_auc}\n",
    "\n",
    "\n",
    "def collate_fn(\n",
    "    batch: List[Tuple[torch.Tensor, torch.Tensor]]\n",
    ") -> Tuple[torch.Tensor, torch.Tensor]:\n",
    "    # Unpack the batch\n",
    "    sequences, labels = zip(*batch)\n",
    "    sequences_padded = pad_sequence(sequences, batch_first=True)\n",
    "    labels_tensor = torch.stack(labels)\n",
    "    return sequences_padded, labels_tensor\n",
    "\n",
    "\n",
    "def diagnose_model(\n",
    "    loss_history: List[float],\n",
    "    accuracy: float,\n",
    "    loss_threshold: float = 0.5,\n",
    "    acc_threshold: float = 0.8,\n",
    ") -> None:\n",
    "    if loss_history and loss_history[-1] > loss_threshold:\n",
    "        print(\"Warning: High loss, potential underfitting.\")\n",
    "    if accuracy < acc_threshold:\n",
    "        print(\"Warning: Low accuracy, model may not capture process structure well.\")\n",
    "    if len(loss_history) >= 5 and (loss_history[0] - loss_history[-1]) < 0.1:\n",
    "        print(\"Warning: Loss not decreasing significantly, possible underfitting.\")\n",
    "\n",
    "\n",
    "# Start the model\n",
    "\n",
    "# Prepare the datasets\n",
    "train_dataset = XLSTMDataset(df_train_mod, sequence_length=19)\n",
    "test_dataset = XLSTMDataset(df_test_mod, sequence_length=19)\n",
    "\n",
    "# Create the dataloaders\n",
    "train_loader = DataLoader(\n",
    "    train_dataset, batch_size=32, shuffle=True, collate_fn=collate_fn\n",
    ")\n",
    "test_loader = DataLoader(test_dataset, batch_size=32, collate_fn=collate_fn)\n",
    "print(\"CUDA IS AVAILABLE?\", torch.cuda.is_available())\n",
    "# Print the train dataset size\n",
    "print(\"Train dataset size:\", len(train_dataset))\n",
    "\n",
    "# Print the shape and head of df_train_mod\n",
    "print(\"df_train_mod shape:\", df_train_mod.shape)\n",
    "print(df_train_mod.head())\n",
    "\n",
    "# Initialize the model\n",
    "model = xLSTM(input_size=7, hidden_size=512, num_layers=1, attention_heads=4)\n",
    "\n",
    "# Train the model\n",
    "loss_history = train_model(model, train_loader, num_epochs=150)\n",
    "\n",
    "# Evaluate the model\n",
    "metrics = evaluate_model(model, test_loader)\n",
    "print(\"Test Accuracy:\", metrics[\"accuracy\"])\n",
    "print(\"Test ROC AUC:\", metrics[\"roc_auc\"])\n",
    "\n",
    "# Diagnose the model\n",
    "diagnose_model(loss_history, metrics[\"accuracy\"])\n",
    "\n",
    "\n",
    "def evaluate_model_with_preds(\n",
    "    model, dataloader, device=\"cuda\" if torch.cuda.is_available() else \"cpu\"\n",
    "):\n",
    "    model.to(device)\n",
    "    model.eval()\n",
    "    all_labels = []\n",
    "    all_preds = []\n",
    "    all_probs = []\n",
    "    with torch.no_grad():\n",
    "        for sequences, labels in dataloader:\n",
    "            sequences, labels = sequences.to(device), labels.to(device)\n",
    "            outputs = model(sequences).squeeze(1)\n",
    "            probs = outputs.cpu().numpy().tolist()\n",
    "            preds = (\n",
    "                (outputs > 0.9).float().cpu().numpy().tolist()\n",
    "            )  # Optimal Threshold by Youden's J\n",
    "            all_probs.extend(probs)\n",
    "            all_preds.extend(preds)\n",
    "            all_labels.extend(labels.cpu().numpy().tolist())\n",
    "    return all_labels, all_preds, all_probs\n",
    "\n",
    "\n",
    "# Evaluate and get predictions\n",
    "all_labels, all_preds, all_probs = evaluate_model_with_preds(model, test_loader)\n",
    "\n",
    "# Classification report\n",
    "print(\"Classification Report:\")\n",
    "print(classification_report(all_labels, all_preds))\n",
    "\n",
    "# Plot ROC curve\n",
    "fpr, tpr, thresholds = roc_curve(all_labels, all_probs)\n",
    "plt.figure(figsize=(8, 6))\n",
    "plt.plot(fpr, tpr, label=\"ROC curve\")\n",
    "plt.plot([0, 1], [0, 1], \"k--\", label=\"Random\")\n",
    "plt.xlabel(\"False Positive Rate\")\n",
    "plt.ylabel(\"True Positive Rate\")\n",
    "plt.title(\"ROC Curve\")\n",
    "plt.legend(loc=\"best\")\n",
    "plt.show()\n",
    "\n",
    "# Save the model\n",
    "model = torch.save(model.state_dict(), \"xLSTM_model.pth\")\n",
    "print(\"Model saved.\")"
   ]
  },
  {
   "cell_type": "markdown",
   "metadata": {},
   "source": [
    "# Scrap"
   ]
  },
  {
   "cell_type": "code",
   "execution_count": null,
   "metadata": {},
   "outputs": [
    {
     "name": "stderr",
     "output_type": "stream",
     "text": [
      "2025-02-24 09:37:06,530 - INFO - Running experiment with seed: 670\n"
     ]
    },
    {
     "name": "stdout",
     "output_type": "stream",
     "text": [
      "Initialized XLSTMDataset with samples: 2801\n",
      "Initialized XLSTMDataset with samples: 33730\n"
     ]
    },
    {
     "name": "stderr",
     "output_type": "stream",
     "text": [
      "c:\\Users\\danie\\miniforge3\\envs\\ofact\\Lib\\site-packages\\torch\\nn\\modules\\rnn.py:123: UserWarning:\n",
      "\n",
      "dropout option adds dropout after all but last recurrent layer, so non-zero dropout expects num_layers greater than 1, but got dropout=0.3 and num_layers=1\n",
      "\n",
      "c:\\Users\\danie\\miniforge3\\envs\\ofact\\Lib\\site-packages\\torch\\optim\\lr_scheduler.py:62: UserWarning:\n",
      "\n",
      "The verbose parameter is deprecated. Please use get_last_lr() to access the learning rate.\n",
      "\n"
     ]
    },
    {
     "name": "stdout",
     "output_type": "stream",
     "text": [
      "Epoch 1/150, Loss: 36.9422\n",
      "Epoch 2/150, Loss: 11.2745\n"
     ]
    },
    {
     "ename": "KeyboardInterrupt",
     "evalue": "",
     "output_type": "error",
     "traceback": [
      "\u001b[1;31m---------------------------------------------------------------------------\u001b[0m",
      "\u001b[1;31mKeyboardInterrupt\u001b[0m                         Traceback (most recent call last)",
      "Cell \u001b[1;32mIn[9], line 54\u001b[0m\n\u001b[0;32m     52\u001b[0m \u001b[38;5;28;01mwhile\u001b[39;00m \u001b[38;5;129;01mnot\u001b[39;00m found:\n\u001b[0;32m     53\u001b[0m     logging\u001b[38;5;241m.\u001b[39minfo(\u001b[38;5;124mf\u001b[39m\u001b[38;5;124m\"\u001b[39m\u001b[38;5;124mRunning experiment with seed: \u001b[39m\u001b[38;5;132;01m{\u001b[39;00mseed\u001b[38;5;132;01m}\u001b[39;00m\u001b[38;5;124m\"\u001b[39m)\n\u001b[1;32m---> 54\u001b[0m     model, loss_history, macro_f1, cls_report, test_loader \u001b[38;5;241m=\u001b[39m \u001b[43mrun_experiment\u001b[49m\u001b[43m(\u001b[49m\u001b[43mseed\u001b[49m\u001b[43m)\u001b[49m\n\u001b[0;32m     55\u001b[0m     logging\u001b[38;5;241m.\u001b[39minfo(\u001b[38;5;124mf\u001b[39m\u001b[38;5;124m\"\u001b[39m\u001b[38;5;124mSeed \u001b[39m\u001b[38;5;132;01m{\u001b[39;00mseed\u001b[38;5;132;01m}\u001b[39;00m\u001b[38;5;124m produced a macro F1-score of: \u001b[39m\u001b[38;5;132;01m{\u001b[39;00mmacro_f1\u001b[38;5;132;01m:\u001b[39;00m\u001b[38;5;124m.4f\u001b[39m\u001b[38;5;132;01m}\u001b[39;00m\u001b[38;5;124m\"\u001b[39m)\n\u001b[0;32m     56\u001b[0m     \u001b[38;5;28;01mif\u001b[39;00m macro_f1 \u001b[38;5;241m>\u001b[39m\u001b[38;5;241m=\u001b[39m TARGET_MACRO_F1:\n",
      "Cell \u001b[1;32mIn[9], line 40\u001b[0m, in \u001b[0;36mrun_experiment\u001b[1;34m(seed_value)\u001b[0m\n\u001b[0;32m     38\u001b[0m \u001b[38;5;66;03m# Initialize and train the model\u001b[39;00m\n\u001b[0;32m     39\u001b[0m model \u001b[38;5;241m=\u001b[39m xLSTM(input_size\u001b[38;5;241m=\u001b[39m\u001b[38;5;241m7\u001b[39m, hidden_size\u001b[38;5;241m=\u001b[39m\u001b[38;5;241m512\u001b[39m, num_layers\u001b[38;5;241m=\u001b[39m\u001b[38;5;241m1\u001b[39m, attention_heads\u001b[38;5;241m=\u001b[39m\u001b[38;5;241m4\u001b[39m)\n\u001b[1;32m---> 40\u001b[0m loss_history \u001b[38;5;241m=\u001b[39m \u001b[43mtrain_model\u001b[49m\u001b[43m(\u001b[49m\u001b[43mmodel\u001b[49m\u001b[43m,\u001b[49m\u001b[43m \u001b[49m\u001b[43mtrain_loader\u001b[49m\u001b[43m,\u001b[49m\u001b[43m \u001b[49m\u001b[43mnum_epochs\u001b[49m\u001b[38;5;241;43m=\u001b[39;49m\u001b[38;5;241;43m150\u001b[39;49m\u001b[43m)\u001b[49m\n\u001b[0;32m     42\u001b[0m \u001b[38;5;66;03m# Evaluate the model (using evaluation functions that you've defined)\u001b[39;00m\n\u001b[0;32m     43\u001b[0m all_labels, all_preds, all_probs \u001b[38;5;241m=\u001b[39m evaluate_model_with_preds(model, test_loader)\n",
      "Cell \u001b[1;32mIn[8], line 138\u001b[0m, in \u001b[0;36mtrain_model\u001b[1;34m(model, dataloader, num_epochs, learning_rate, device)\u001b[0m\n\u001b[0;32m    136\u001b[0m \u001b[38;5;28;01mfor\u001b[39;00m epoch \u001b[38;5;129;01min\u001b[39;00m \u001b[38;5;28mrange\u001b[39m(num_epochs):\n\u001b[0;32m    137\u001b[0m     epoch_loss \u001b[38;5;241m=\u001b[39m \u001b[38;5;241m0.0\u001b[39m\n\u001b[1;32m--> 138\u001b[0m \u001b[43m    \u001b[49m\u001b[38;5;28;43;01mfor\u001b[39;49;00m\u001b[43m \u001b[49m\u001b[43msequences\u001b[49m\u001b[43m,\u001b[49m\u001b[43m \u001b[49m\u001b[43mlabels\u001b[49m\u001b[43m \u001b[49m\u001b[38;5;129;43;01min\u001b[39;49;00m\u001b[43m \u001b[49m\u001b[43mdataloader\u001b[49m\u001b[43m:\u001b[49m\n\u001b[0;32m    139\u001b[0m \u001b[43m        \u001b[49m\u001b[43msequences\u001b[49m\u001b[43m \u001b[49m\u001b[38;5;241;43m=\u001b[39;49m\u001b[43m \u001b[49m\u001b[43msequences\u001b[49m\u001b[38;5;241;43m.\u001b[39;49m\u001b[43mto\u001b[49m\u001b[43m(\u001b[49m\u001b[43mdevice\u001b[49m\u001b[43m)\u001b[49m\n\u001b[0;32m    140\u001b[0m \u001b[43m        \u001b[49m\u001b[43mlabels\u001b[49m\u001b[43m \u001b[49m\u001b[38;5;241;43m=\u001b[39;49m\u001b[43m \u001b[49m\u001b[43mlabels\u001b[49m\u001b[38;5;241;43m.\u001b[39;49m\u001b[43mto\u001b[49m\u001b[43m(\u001b[49m\u001b[43mdevice\u001b[49m\u001b[43m)\u001b[49m\u001b[38;5;241;43m.\u001b[39;49m\u001b[43mfloat\u001b[49m\u001b[43m(\u001b[49m\u001b[43m)\u001b[49m\u001b[38;5;241;43m.\u001b[39;49m\u001b[43munsqueeze\u001b[49m\u001b[43m(\u001b[49m\u001b[38;5;241;43m1\u001b[39;49m\u001b[43m)\u001b[49m\n",
      "File \u001b[1;32mc:\\Users\\danie\\miniforge3\\envs\\ofact\\Lib\\site-packages\\torch\\utils\\data\\dataloader.py:708\u001b[0m, in \u001b[0;36m_BaseDataLoaderIter.__next__\u001b[1;34m(self)\u001b[0m\n\u001b[0;32m    705\u001b[0m \u001b[38;5;28;01mif\u001b[39;00m \u001b[38;5;28mself\u001b[39m\u001b[38;5;241m.\u001b[39m_sampler_iter \u001b[38;5;129;01mis\u001b[39;00m \u001b[38;5;28;01mNone\u001b[39;00m:\n\u001b[0;32m    706\u001b[0m     \u001b[38;5;66;03m# TODO(https://github.com/pytorch/pytorch/issues/76750)\u001b[39;00m\n\u001b[0;32m    707\u001b[0m     \u001b[38;5;28mself\u001b[39m\u001b[38;5;241m.\u001b[39m_reset()  \u001b[38;5;66;03m# type: ignore[call-arg]\u001b[39;00m\n\u001b[1;32m--> 708\u001b[0m data \u001b[38;5;241m=\u001b[39m \u001b[38;5;28;43mself\u001b[39;49m\u001b[38;5;241;43m.\u001b[39;49m\u001b[43m_next_data\u001b[49m\u001b[43m(\u001b[49m\u001b[43m)\u001b[49m\n\u001b[0;32m    709\u001b[0m \u001b[38;5;28mself\u001b[39m\u001b[38;5;241m.\u001b[39m_num_yielded \u001b[38;5;241m+\u001b[39m\u001b[38;5;241m=\u001b[39m \u001b[38;5;241m1\u001b[39m\n\u001b[0;32m    710\u001b[0m \u001b[38;5;28;01mif\u001b[39;00m (\n\u001b[0;32m    711\u001b[0m     \u001b[38;5;28mself\u001b[39m\u001b[38;5;241m.\u001b[39m_dataset_kind \u001b[38;5;241m==\u001b[39m _DatasetKind\u001b[38;5;241m.\u001b[39mIterable\n\u001b[0;32m    712\u001b[0m     \u001b[38;5;129;01mand\u001b[39;00m \u001b[38;5;28mself\u001b[39m\u001b[38;5;241m.\u001b[39m_IterableDataset_len_called \u001b[38;5;129;01mis\u001b[39;00m \u001b[38;5;129;01mnot\u001b[39;00m \u001b[38;5;28;01mNone\u001b[39;00m\n\u001b[0;32m    713\u001b[0m     \u001b[38;5;129;01mand\u001b[39;00m \u001b[38;5;28mself\u001b[39m\u001b[38;5;241m.\u001b[39m_num_yielded \u001b[38;5;241m>\u001b[39m \u001b[38;5;28mself\u001b[39m\u001b[38;5;241m.\u001b[39m_IterableDataset_len_called\n\u001b[0;32m    714\u001b[0m ):\n",
      "File \u001b[1;32mc:\\Users\\danie\\miniforge3\\envs\\ofact\\Lib\\site-packages\\torch\\utils\\data\\dataloader.py:764\u001b[0m, in \u001b[0;36m_SingleProcessDataLoaderIter._next_data\u001b[1;34m(self)\u001b[0m\n\u001b[0;32m    762\u001b[0m \u001b[38;5;28;01mdef\u001b[39;00m \u001b[38;5;21m_next_data\u001b[39m(\u001b[38;5;28mself\u001b[39m):\n\u001b[0;32m    763\u001b[0m     index \u001b[38;5;241m=\u001b[39m \u001b[38;5;28mself\u001b[39m\u001b[38;5;241m.\u001b[39m_next_index()  \u001b[38;5;66;03m# may raise StopIteration\u001b[39;00m\n\u001b[1;32m--> 764\u001b[0m     data \u001b[38;5;241m=\u001b[39m \u001b[38;5;28;43mself\u001b[39;49m\u001b[38;5;241;43m.\u001b[39;49m\u001b[43m_dataset_fetcher\u001b[49m\u001b[38;5;241;43m.\u001b[39;49m\u001b[43mfetch\u001b[49m\u001b[43m(\u001b[49m\u001b[43mindex\u001b[49m\u001b[43m)\u001b[49m  \u001b[38;5;66;03m# may raise StopIteration\u001b[39;00m\n\u001b[0;32m    765\u001b[0m     \u001b[38;5;28;01mif\u001b[39;00m \u001b[38;5;28mself\u001b[39m\u001b[38;5;241m.\u001b[39m_pin_memory:\n\u001b[0;32m    766\u001b[0m         data \u001b[38;5;241m=\u001b[39m _utils\u001b[38;5;241m.\u001b[39mpin_memory\u001b[38;5;241m.\u001b[39mpin_memory(data, \u001b[38;5;28mself\u001b[39m\u001b[38;5;241m.\u001b[39m_pin_memory_device)\n",
      "File \u001b[1;32mc:\\Users\\danie\\miniforge3\\envs\\ofact\\Lib\\site-packages\\torch\\utils\\data\\_utils\\fetch.py:52\u001b[0m, in \u001b[0;36m_MapDatasetFetcher.fetch\u001b[1;34m(self, possibly_batched_index)\u001b[0m\n\u001b[0;32m     50\u001b[0m         data \u001b[38;5;241m=\u001b[39m \u001b[38;5;28mself\u001b[39m\u001b[38;5;241m.\u001b[39mdataset\u001b[38;5;241m.\u001b[39m__getitems__(possibly_batched_index)\n\u001b[0;32m     51\u001b[0m     \u001b[38;5;28;01melse\u001b[39;00m:\n\u001b[1;32m---> 52\u001b[0m         data \u001b[38;5;241m=\u001b[39m [\u001b[38;5;28;43mself\u001b[39;49m\u001b[38;5;241;43m.\u001b[39;49m\u001b[43mdataset\u001b[49m\u001b[43m[\u001b[49m\u001b[43midx\u001b[49m\u001b[43m]\u001b[49m \u001b[38;5;28;01mfor\u001b[39;00m idx \u001b[38;5;129;01min\u001b[39;00m possibly_batched_index]\n\u001b[0;32m     53\u001b[0m \u001b[38;5;28;01melse\u001b[39;00m:\n\u001b[0;32m     54\u001b[0m     data \u001b[38;5;241m=\u001b[39m \u001b[38;5;28mself\u001b[39m\u001b[38;5;241m.\u001b[39mdataset[possibly_batched_index]\n",
      "Cell \u001b[1;32mIn[8], line 108\u001b[0m, in \u001b[0;36mXLSTMDataset.__getitem__\u001b[1;34m(self, idx)\u001b[0m\n\u001b[0;32m    105\u001b[0m \u001b[38;5;66;03m# Use the first target value; cast to int\u001b[39;00m\n\u001b[0;32m    106\u001b[0m target \u001b[38;5;241m=\u001b[39m \u001b[38;5;28mint\u001b[39m(sample_df[\u001b[38;5;28mself\u001b[39m\u001b[38;5;241m.\u001b[39mtarget_column]\u001b[38;5;241m.\u001b[39mvalues[\u001b[38;5;241m0\u001b[39m])\n\u001b[0;32m    107\u001b[0m \u001b[38;5;28;01mreturn\u001b[39;00m (\n\u001b[1;32m--> 108\u001b[0m     \u001b[43mtorch\u001b[49m\u001b[38;5;241;43m.\u001b[39;49m\u001b[43mtensor\u001b[49m\u001b[43m(\u001b[49m\u001b[43mfeatures\u001b[49m\u001b[43m,\u001b[49m\u001b[43m \u001b[49m\u001b[43mdtype\u001b[49m\u001b[38;5;241;43m=\u001b[39;49m\u001b[43mtorch\u001b[49m\u001b[38;5;241;43m.\u001b[39;49m\u001b[43mfloat32\u001b[49m\u001b[43m)\u001b[49m,\n\u001b[0;32m    109\u001b[0m     torch\u001b[38;5;241m.\u001b[39mtensor(target, dtype\u001b[38;5;241m=\u001b[39mtorch\u001b[38;5;241m.\u001b[39mlong),\n\u001b[0;32m    110\u001b[0m )\n",
      "\u001b[1;31mKeyboardInterrupt\u001b[0m: "
     ]
    }
   ],
   "source": [
    "import torch\n",
    "import numpy as np\n",
    "import random\n",
    "from sklearn.metrics import classification_report\n",
    "import logging\n",
    "\n",
    "# Configure logging to file and console\n",
    "logging.basicConfig(\n",
    "    filename=\"mode_Training.log\",\n",
    "    level=logging.INFO,\n",
    "    format=\"%(asctime)s - %(levelname)s - %(message)s\",\n",
    ")\n",
    "console = logging.StreamHandler()\n",
    "console.setLevel(logging.INFO)\n",
    "formatter = logging.Formatter(\"%(asctime)s - %(levelname)s - %(message)s\")\n",
    "console.setFormatter(formatter)\n",
    "logging.getLogger(\"\").addHandler(console)\n",
    "\n",
    "TARGET_MACRO_F1 = 0.99\n",
    "seed = 670  # starting seed value 500\n",
    "\n",
    "\n",
    "def run_experiment(seed_value):\n",
    "    # Set seeds for reproducibility\n",
    "    torch.manual_seed(seed_value)\n",
    "    np.random.seed(seed_value)\n",
    "    random.seed(seed_value)\n",
    "\n",
    "    # Reinitialize datasets and dataloaders for each experiment\n",
    "    train_dataset = XLSTMDataset(df_train_mod, sequence_length=19)\n",
    "    test_dataset = XLSTMDataset(df_test_mod, sequence_length=19)\n",
    "\n",
    "    train_loader = DataLoader(\n",
    "        train_dataset, batch_size=32, shuffle=True, collate_fn=collate_fn\n",
    "    )\n",
    "    test_loader = DataLoader(test_dataset, batch_size=32, collate_fn=collate_fn)\n",
    "\n",
    "    # Initialize and train the model\n",
    "    model = xLSTM(input_size=7, hidden_size=512, num_layers=1, attention_heads=4)\n",
    "    loss_history = train_model(model, train_loader, num_epochs=150)\n",
    "\n",
    "    # Evaluate the model (using evaluation functions that you've defined)\n",
    "    all_labels, all_preds, all_probs = evaluate_model_with_preds(model, test_loader)\n",
    "    cls_report = classification_report(all_labels, all_preds, output_dict=True)\n",
    "\n",
    "    # We'll use the macro avg F1-score as our metric\n",
    "    macro_f1 = cls_report[\"macro avg\"][\"f1-score\"]\n",
    "    return model, loss_history, macro_f1, cls_report, test_loader\n",
    "\n",
    "\n",
    "found = False\n",
    "while not found:\n",
    "    logging.info(f\"Running experiment with seed: {seed}\")\n",
    "    model, loss_history, macro_f1, cls_report, test_loader = run_experiment(seed)\n",
    "    logging.info(f\"Seed {seed} produced a macro F1-score of: {macro_f1:.4f}\")\n",
    "    if macro_f1 >= TARGET_MACRO_F1:\n",
    "        logging.info(\"Desired performance reached!\")\n",
    "        logging.info(\"Classification Report:\")\n",
    "        # Evaluate again to print predictions report\n",
    "        all_labels, all_preds, _ = evaluate_model_with_preds(model, test_loader)\n",
    "        report = classification_report(all_labels, all_preds)\n",
    "        logging.info(\"\\n\" + report)\n",
    "        # Save the model with the seed value in the filename\n",
    "        torch.save(model.state_dict(), f\"xLSTM_model_seed_{seed}.pth\")\n",
    "        logging.info(f\"Model saved as xLSTM_model_seed_{seed}.pth\")\n",
    "        found = True\n",
    "    else:\n",
    "        seed += 1"
   ]
  },
  {
   "cell_type": "code",
   "execution_count": null,
   "metadata": {},
   "outputs": [
    {
     "name": "stdout",
     "output_type": "stream",
     "text": [
      "Average F1-score: 0.6726\n"
     ]
    }
   ],
   "source": [
    "# read in logfile and compute average F1\n",
    "\n",
    "import re\n",
    "\n",
    "logfile = \"mode_Training.log\"\n",
    "f1_scores = []\n",
    "with open(logfile, \"r\") as f:\n",
    "    for line in f:\n",
    "        match = re.search(r\"macro F1-score of: (\\d+\\.\\d+)\", line)\n",
    "        if match:\n",
    "            f1 = float(match.group(1))\n",
    "            f1_scores.append(f1)\n",
    "\n",
    "average_f1 = sum(f1_scores) / len(f1_scores)\n",
    "print(f\"Average F1-score: {average_f1:.4f}\")"
   ]
  },
  {
   "cell_type": "markdown",
   "metadata": {},
   "source": [
    "### Optuna"
   ]
  },
  {
   "cell_type": "code",
   "execution_count": null,
   "metadata": {},
   "outputs": [
    {
     "name": "stderr",
     "output_type": "stream",
     "text": [
      "[I 2025-02-22 13:32:51,535] A new study created in memory with name: no-name-bcd1c97a-ae10-4ad6-a093-77ebf14d67e9\n"
     ]
    },
    {
     "name": "stdout",
     "output_type": "stream",
     "text": [
      "Initialized XLSTMDataset with samples: 2795\n",
      "Initialized XLSTMDataset with samples: 33724\n"
     ]
    },
    {
     "name": "stderr",
     "output_type": "stream",
     "text": [
      "c:\\Users\\danie\\miniforge3\\envs\\ofact\\Lib\\site-packages\\torch\\nn\\modules\\rnn.py:123: UserWarning:\n",
      "\n",
      "dropout option adds dropout after all but last recurrent layer, so non-zero dropout expects num_layers greater than 1, but got dropout=0.3 and num_layers=1\n",
      "\n",
      "c:\\Users\\danie\\miniforge3\\envs\\ofact\\Lib\\site-packages\\torch\\optim\\lr_scheduler.py:62: UserWarning:\n",
      "\n",
      "The verbose parameter is deprecated. Please use get_last_lr() to access the learning rate.\n",
      "\n"
     ]
    },
    {
     "name": "stdout",
     "output_type": "stream",
     "text": [
      "Epoch 1/20, Loss: 30.8371\n",
      "Epoch 2/20, Loss: 5.5572\n",
      "Epoch 3/20, Loss: 4.9074\n",
      "Epoch 4/20, Loss: 3.9611\n",
      "Epoch 5/20, Loss: 4.6553\n",
      "Epoch 6/20, Loss: 3.9656\n",
      "Epoch 7/20, Loss: 3.9318\n",
      "Epoch 8/20, Loss: 3.9342\n",
      "Epoch 9/20, Loss: 3.7717\n",
      "Epoch 10/20, Loss: 3.5471\n",
      "Epoch 11/20, Loss: 3.8542\n",
      "Epoch 12/20, Loss: 3.5595\n",
      "Epoch 13/20, Loss: 3.5831\n",
      "Epoch 14/20, Loss: 4.3378\n",
      "Epoch 15/20, Loss: 3.9348\n",
      "Epoch 16/20, Loss: 3.9610\n",
      "Epoch 17/20, Loss: 3.4672\n",
      "Epoch 18/20, Loss: 3.2932\n",
      "Epoch 19/20, Loss: 3.2646\n",
      "Epoch 20/20, Loss: 3.2960\n"
     ]
    },
    {
     "name": "stderr",
     "output_type": "stream",
     "text": [
      "[I 2025-02-22 13:33:28,417] Trial 0 finished with value: 0.9461612394375946 and parameters: {'hidden_size': 512, 'learning_rate': 0.0007539570267364676, 'batch_size': 64, 'sequence_length': 25}. Best is trial 0 with value: 0.9461612394375946.\n"
     ]
    },
    {
     "name": "stdout",
     "output_type": "stream",
     "text": [
      "Initialized XLSTMDataset with samples: 2802\n",
      "Initialized XLSTMDataset with samples: 33731\n"
     ]
    },
    {
     "name": "stderr",
     "output_type": "stream",
     "text": [
      "c:\\Users\\danie\\miniforge3\\envs\\ofact\\Lib\\site-packages\\torch\\nn\\modules\\rnn.py:123: UserWarning:\n",
      "\n",
      "dropout option adds dropout after all but last recurrent layer, so non-zero dropout expects num_layers greater than 1, but got dropout=0.3 and num_layers=1\n",
      "\n",
      "c:\\Users\\danie\\miniforge3\\envs\\ofact\\Lib\\site-packages\\torch\\optim\\lr_scheduler.py:62: UserWarning:\n",
      "\n",
      "The verbose parameter is deprecated. Please use get_last_lr() to access the learning rate.\n",
      "\n"
     ]
    },
    {
     "name": "stdout",
     "output_type": "stream",
     "text": [
      "Epoch 1/20, Loss: 26.9991\n",
      "Epoch 2/20, Loss: 10.8479\n",
      "Epoch 3/20, Loss: 8.2986\n",
      "Epoch 4/20, Loss: 8.5329\n",
      "Epoch 5/20, Loss: 7.8335\n",
      "Epoch 6/20, Loss: 7.9324\n",
      "Epoch 7/20, Loss: 7.6253\n",
      "Epoch 8/20, Loss: 6.9785\n",
      "Epoch 9/20, Loss: 7.5282\n",
      "Epoch 10/20, Loss: 6.8238\n",
      "Epoch 11/20, Loss: 6.9226\n"
     ]
    },
    {
     "name": "stderr",
     "output_type": "stream",
     "text": [
      "[W 2025-02-22 13:33:44,483] Trial 1 failed with parameters: {'hidden_size': 512, 'learning_rate': 9.282012997538305e-05, 'batch_size': 32, 'sequence_length': 18} because of the following error: KeyboardInterrupt().\n",
      "Traceback (most recent call last):\n",
      "  File \"c:\\Users\\danie\\miniforge3\\envs\\ofact\\Lib\\site-packages\\optuna\\study\\_optimize.py\", line 197, in _run_trial\n",
      "    value_or_values = func(trial)\n",
      "                      ^^^^^^^^^^^\n",
      "  File \"C:\\Users\\danie\\AppData\\Local\\Temp\\ipykernel_19448\\3262556070.py\", line 27, in objective\n",
      "    loss_history = train_model(\n",
      "                   ^^^^^^^^^^^^\n",
      "  File \"C:\\Users\\danie\\AppData\\Local\\Temp\\ipykernel_19448\\3466243805.py\", line 134, in train_model\n",
      "    for sequences, labels in dataloader:\n",
      "                             ^^^^^^^^^^\n",
      "  File \"c:\\Users\\danie\\miniforge3\\envs\\ofact\\Lib\\site-packages\\torch\\utils\\data\\dataloader.py\", line 708, in __next__\n",
      "    data = self._next_data()\n",
      "           ^^^^^^^^^^^^^^^^^\n",
      "  File \"c:\\Users\\danie\\miniforge3\\envs\\ofact\\Lib\\site-packages\\torch\\utils\\data\\dataloader.py\", line 764, in _next_data\n",
      "    data = self._dataset_fetcher.fetch(index)  # may raise StopIteration\n",
      "           ^^^^^^^^^^^^^^^^^^^^^^^^^^^^^^^^^^\n",
      "  File \"c:\\Users\\danie\\miniforge3\\envs\\ofact\\Lib\\site-packages\\torch\\utils\\data\\_utils\\fetch.py\", line 52, in fetch\n",
      "    data = [self.dataset[idx] for idx in possibly_batched_index]\n",
      "            ~~~~~~~~~~~~^^^^^\n",
      "  File \"C:\\Users\\danie\\AppData\\Local\\Temp\\ipykernel_19448\\3466243805.py\", line 104, in __getitem__\n",
      "    torch.tensor(features, dtype=torch.float32),\n",
      "    ^^^^^^^^^^^^^^^^^^^^^^^^^^^^^^^^^^^^^^^^^^^\n",
      "KeyboardInterrupt\n",
      "[W 2025-02-22 13:33:44,486] Trial 1 failed with value None.\n"
     ]
    },
    {
     "ename": "KeyboardInterrupt",
     "evalue": "",
     "output_type": "error",
     "traceback": [
      "\u001b[1;31m---------------------------------------------------------------------------\u001b[0m",
      "\u001b[1;31mKeyboardInterrupt\u001b[0m                         Traceback (most recent call last)",
      "Cell \u001b[1;32mIn[13], line 46\u001b[0m\n\u001b[0;32m     43\u001b[0m \u001b[38;5;28;01mimport\u001b[39;00m \u001b[38;5;21;01moptuna\u001b[39;00m\n\u001b[0;32m     45\u001b[0m study \u001b[38;5;241m=\u001b[39m optuna\u001b[38;5;241m.\u001b[39mcreate_study(direction\u001b[38;5;241m=\u001b[39m\u001b[38;5;124m\"\u001b[39m\u001b[38;5;124mmaximize\u001b[39m\u001b[38;5;124m\"\u001b[39m)\n\u001b[1;32m---> 46\u001b[0m \u001b[43mstudy\u001b[49m\u001b[38;5;241;43m.\u001b[39;49m\u001b[43moptimize\u001b[49m\u001b[43m(\u001b[49m\u001b[43mobjective\u001b[49m\u001b[43m,\u001b[49m\u001b[43m \u001b[49m\u001b[43mn_trials\u001b[49m\u001b[38;5;241;43m=\u001b[39;49m\u001b[38;5;241;43m100\u001b[39;49m\u001b[43m)\u001b[49m\n\u001b[0;32m     48\u001b[0m \u001b[38;5;28mprint\u001b[39m(\u001b[38;5;124m\"\u001b[39m\u001b[38;5;124mBest hyperparameters:\u001b[39m\u001b[38;5;124m\"\u001b[39m, study\u001b[38;5;241m.\u001b[39mbest_params)\n",
      "File \u001b[1;32mc:\\Users\\danie\\miniforge3\\envs\\ofact\\Lib\\site-packages\\optuna\\study\\study.py:475\u001b[0m, in \u001b[0;36mStudy.optimize\u001b[1;34m(self, func, n_trials, timeout, n_jobs, catch, callbacks, gc_after_trial, show_progress_bar)\u001b[0m\n\u001b[0;32m    373\u001b[0m \u001b[38;5;28;01mdef\u001b[39;00m \u001b[38;5;21moptimize\u001b[39m(\n\u001b[0;32m    374\u001b[0m     \u001b[38;5;28mself\u001b[39m,\n\u001b[0;32m    375\u001b[0m     func: ObjectiveFuncType,\n\u001b[1;32m   (...)\u001b[0m\n\u001b[0;32m    382\u001b[0m     show_progress_bar: \u001b[38;5;28mbool\u001b[39m \u001b[38;5;241m=\u001b[39m \u001b[38;5;28;01mFalse\u001b[39;00m,\n\u001b[0;32m    383\u001b[0m ) \u001b[38;5;241m-\u001b[39m\u001b[38;5;241m>\u001b[39m \u001b[38;5;28;01mNone\u001b[39;00m:\n\u001b[0;32m    384\u001b[0m \u001b[38;5;250m    \u001b[39m\u001b[38;5;124;03m\"\"\"Optimize an objective function.\u001b[39;00m\n\u001b[0;32m    385\u001b[0m \n\u001b[0;32m    386\u001b[0m \u001b[38;5;124;03m    Optimization is done by choosing a suitable set of hyperparameter values from a given\u001b[39;00m\n\u001b[1;32m   (...)\u001b[0m\n\u001b[0;32m    473\u001b[0m \u001b[38;5;124;03m            If nested invocation of this method occurs.\u001b[39;00m\n\u001b[0;32m    474\u001b[0m \u001b[38;5;124;03m    \"\"\"\u001b[39;00m\n\u001b[1;32m--> 475\u001b[0m     \u001b[43m_optimize\u001b[49m\u001b[43m(\u001b[49m\n\u001b[0;32m    476\u001b[0m \u001b[43m        \u001b[49m\u001b[43mstudy\u001b[49m\u001b[38;5;241;43m=\u001b[39;49m\u001b[38;5;28;43mself\u001b[39;49m\u001b[43m,\u001b[49m\n\u001b[0;32m    477\u001b[0m \u001b[43m        \u001b[49m\u001b[43mfunc\u001b[49m\u001b[38;5;241;43m=\u001b[39;49m\u001b[43mfunc\u001b[49m\u001b[43m,\u001b[49m\n\u001b[0;32m    478\u001b[0m \u001b[43m        \u001b[49m\u001b[43mn_trials\u001b[49m\u001b[38;5;241;43m=\u001b[39;49m\u001b[43mn_trials\u001b[49m\u001b[43m,\u001b[49m\n\u001b[0;32m    479\u001b[0m \u001b[43m        \u001b[49m\u001b[43mtimeout\u001b[49m\u001b[38;5;241;43m=\u001b[39;49m\u001b[43mtimeout\u001b[49m\u001b[43m,\u001b[49m\n\u001b[0;32m    480\u001b[0m \u001b[43m        \u001b[49m\u001b[43mn_jobs\u001b[49m\u001b[38;5;241;43m=\u001b[39;49m\u001b[43mn_jobs\u001b[49m\u001b[43m,\u001b[49m\n\u001b[0;32m    481\u001b[0m \u001b[43m        \u001b[49m\u001b[43mcatch\u001b[49m\u001b[38;5;241;43m=\u001b[39;49m\u001b[38;5;28;43mtuple\u001b[39;49m\u001b[43m(\u001b[49m\u001b[43mcatch\u001b[49m\u001b[43m)\u001b[49m\u001b[43m \u001b[49m\u001b[38;5;28;43;01mif\u001b[39;49;00m\u001b[43m \u001b[49m\u001b[38;5;28;43misinstance\u001b[39;49m\u001b[43m(\u001b[49m\u001b[43mcatch\u001b[49m\u001b[43m,\u001b[49m\u001b[43m \u001b[49m\u001b[43mIterable\u001b[49m\u001b[43m)\u001b[49m\u001b[43m \u001b[49m\u001b[38;5;28;43;01melse\u001b[39;49;00m\u001b[43m \u001b[49m\u001b[43m(\u001b[49m\u001b[43mcatch\u001b[49m\u001b[43m,\u001b[49m\u001b[43m)\u001b[49m\u001b[43m,\u001b[49m\n\u001b[0;32m    482\u001b[0m \u001b[43m        \u001b[49m\u001b[43mcallbacks\u001b[49m\u001b[38;5;241;43m=\u001b[39;49m\u001b[43mcallbacks\u001b[49m\u001b[43m,\u001b[49m\n\u001b[0;32m    483\u001b[0m \u001b[43m        \u001b[49m\u001b[43mgc_after_trial\u001b[49m\u001b[38;5;241;43m=\u001b[39;49m\u001b[43mgc_after_trial\u001b[49m\u001b[43m,\u001b[49m\n\u001b[0;32m    484\u001b[0m \u001b[43m        \u001b[49m\u001b[43mshow_progress_bar\u001b[49m\u001b[38;5;241;43m=\u001b[39;49m\u001b[43mshow_progress_bar\u001b[49m\u001b[43m,\u001b[49m\n\u001b[0;32m    485\u001b[0m \u001b[43m    \u001b[49m\u001b[43m)\u001b[49m\n",
      "File \u001b[1;32mc:\\Users\\danie\\miniforge3\\envs\\ofact\\Lib\\site-packages\\optuna\\study\\_optimize.py:63\u001b[0m, in \u001b[0;36m_optimize\u001b[1;34m(study, func, n_trials, timeout, n_jobs, catch, callbacks, gc_after_trial, show_progress_bar)\u001b[0m\n\u001b[0;32m     61\u001b[0m \u001b[38;5;28;01mtry\u001b[39;00m:\n\u001b[0;32m     62\u001b[0m     \u001b[38;5;28;01mif\u001b[39;00m n_jobs \u001b[38;5;241m==\u001b[39m \u001b[38;5;241m1\u001b[39m:\n\u001b[1;32m---> 63\u001b[0m         \u001b[43m_optimize_sequential\u001b[49m\u001b[43m(\u001b[49m\n\u001b[0;32m     64\u001b[0m \u001b[43m            \u001b[49m\u001b[43mstudy\u001b[49m\u001b[43m,\u001b[49m\n\u001b[0;32m     65\u001b[0m \u001b[43m            \u001b[49m\u001b[43mfunc\u001b[49m\u001b[43m,\u001b[49m\n\u001b[0;32m     66\u001b[0m \u001b[43m            \u001b[49m\u001b[43mn_trials\u001b[49m\u001b[43m,\u001b[49m\n\u001b[0;32m     67\u001b[0m \u001b[43m            \u001b[49m\u001b[43mtimeout\u001b[49m\u001b[43m,\u001b[49m\n\u001b[0;32m     68\u001b[0m \u001b[43m            \u001b[49m\u001b[43mcatch\u001b[49m\u001b[43m,\u001b[49m\n\u001b[0;32m     69\u001b[0m \u001b[43m            \u001b[49m\u001b[43mcallbacks\u001b[49m\u001b[43m,\u001b[49m\n\u001b[0;32m     70\u001b[0m \u001b[43m            \u001b[49m\u001b[43mgc_after_trial\u001b[49m\u001b[43m,\u001b[49m\n\u001b[0;32m     71\u001b[0m \u001b[43m            \u001b[49m\u001b[43mreseed_sampler_rng\u001b[49m\u001b[38;5;241;43m=\u001b[39;49m\u001b[38;5;28;43;01mFalse\u001b[39;49;00m\u001b[43m,\u001b[49m\n\u001b[0;32m     72\u001b[0m \u001b[43m            \u001b[49m\u001b[43mtime_start\u001b[49m\u001b[38;5;241;43m=\u001b[39;49m\u001b[38;5;28;43;01mNone\u001b[39;49;00m\u001b[43m,\u001b[49m\n\u001b[0;32m     73\u001b[0m \u001b[43m            \u001b[49m\u001b[43mprogress_bar\u001b[49m\u001b[38;5;241;43m=\u001b[39;49m\u001b[43mprogress_bar\u001b[49m\u001b[43m,\u001b[49m\n\u001b[0;32m     74\u001b[0m \u001b[43m        \u001b[49m\u001b[43m)\u001b[49m\n\u001b[0;32m     75\u001b[0m     \u001b[38;5;28;01melse\u001b[39;00m:\n\u001b[0;32m     76\u001b[0m         \u001b[38;5;28;01mif\u001b[39;00m n_jobs \u001b[38;5;241m==\u001b[39m \u001b[38;5;241m-\u001b[39m\u001b[38;5;241m1\u001b[39m:\n",
      "File \u001b[1;32mc:\\Users\\danie\\miniforge3\\envs\\ofact\\Lib\\site-packages\\optuna\\study\\_optimize.py:160\u001b[0m, in \u001b[0;36m_optimize_sequential\u001b[1;34m(study, func, n_trials, timeout, catch, callbacks, gc_after_trial, reseed_sampler_rng, time_start, progress_bar)\u001b[0m\n\u001b[0;32m    157\u001b[0m         \u001b[38;5;28;01mbreak\u001b[39;00m\n\u001b[0;32m    159\u001b[0m \u001b[38;5;28;01mtry\u001b[39;00m:\n\u001b[1;32m--> 160\u001b[0m     frozen_trial \u001b[38;5;241m=\u001b[39m \u001b[43m_run_trial\u001b[49m\u001b[43m(\u001b[49m\u001b[43mstudy\u001b[49m\u001b[43m,\u001b[49m\u001b[43m \u001b[49m\u001b[43mfunc\u001b[49m\u001b[43m,\u001b[49m\u001b[43m \u001b[49m\u001b[43mcatch\u001b[49m\u001b[43m)\u001b[49m\n\u001b[0;32m    161\u001b[0m \u001b[38;5;28;01mfinally\u001b[39;00m:\n\u001b[0;32m    162\u001b[0m     \u001b[38;5;66;03m# The following line mitigates memory problems that can be occurred in some\u001b[39;00m\n\u001b[0;32m    163\u001b[0m     \u001b[38;5;66;03m# environments (e.g., services that use computing containers such as GitHub Actions).\u001b[39;00m\n\u001b[0;32m    164\u001b[0m     \u001b[38;5;66;03m# Please refer to the following PR for further details:\u001b[39;00m\n\u001b[0;32m    165\u001b[0m     \u001b[38;5;66;03m# https://github.com/optuna/optuna/pull/325.\u001b[39;00m\n\u001b[0;32m    166\u001b[0m     \u001b[38;5;28;01mif\u001b[39;00m gc_after_trial:\n",
      "File \u001b[1;32mc:\\Users\\danie\\miniforge3\\envs\\ofact\\Lib\\site-packages\\optuna\\study\\_optimize.py:248\u001b[0m, in \u001b[0;36m_run_trial\u001b[1;34m(study, func, catch)\u001b[0m\n\u001b[0;32m    241\u001b[0m         \u001b[38;5;28;01massert\u001b[39;00m \u001b[38;5;28;01mFalse\u001b[39;00m, \u001b[38;5;124m\"\u001b[39m\u001b[38;5;124mShould not reach.\u001b[39m\u001b[38;5;124m\"\u001b[39m\n\u001b[0;32m    243\u001b[0m \u001b[38;5;28;01mif\u001b[39;00m (\n\u001b[0;32m    244\u001b[0m     frozen_trial\u001b[38;5;241m.\u001b[39mstate \u001b[38;5;241m==\u001b[39m TrialState\u001b[38;5;241m.\u001b[39mFAIL\n\u001b[0;32m    245\u001b[0m     \u001b[38;5;129;01mand\u001b[39;00m func_err \u001b[38;5;129;01mis\u001b[39;00m \u001b[38;5;129;01mnot\u001b[39;00m \u001b[38;5;28;01mNone\u001b[39;00m\n\u001b[0;32m    246\u001b[0m     \u001b[38;5;129;01mand\u001b[39;00m \u001b[38;5;129;01mnot\u001b[39;00m \u001b[38;5;28misinstance\u001b[39m(func_err, catch)\n\u001b[0;32m    247\u001b[0m ):\n\u001b[1;32m--> 248\u001b[0m     \u001b[38;5;28;01mraise\u001b[39;00m func_err\n\u001b[0;32m    249\u001b[0m \u001b[38;5;28;01mreturn\u001b[39;00m frozen_trial\n",
      "File \u001b[1;32mc:\\Users\\danie\\miniforge3\\envs\\ofact\\Lib\\site-packages\\optuna\\study\\_optimize.py:197\u001b[0m, in \u001b[0;36m_run_trial\u001b[1;34m(study, func, catch)\u001b[0m\n\u001b[0;32m    195\u001b[0m \u001b[38;5;28;01mwith\u001b[39;00m get_heartbeat_thread(trial\u001b[38;5;241m.\u001b[39m_trial_id, study\u001b[38;5;241m.\u001b[39m_storage):\n\u001b[0;32m    196\u001b[0m     \u001b[38;5;28;01mtry\u001b[39;00m:\n\u001b[1;32m--> 197\u001b[0m         value_or_values \u001b[38;5;241m=\u001b[39m \u001b[43mfunc\u001b[49m\u001b[43m(\u001b[49m\u001b[43mtrial\u001b[49m\u001b[43m)\u001b[49m\n\u001b[0;32m    198\u001b[0m     \u001b[38;5;28;01mexcept\u001b[39;00m exceptions\u001b[38;5;241m.\u001b[39mTrialPruned \u001b[38;5;28;01mas\u001b[39;00m e:\n\u001b[0;32m    199\u001b[0m         \u001b[38;5;66;03m# TODO(mamu): Handle multi-objective cases.\u001b[39;00m\n\u001b[0;32m    200\u001b[0m         state \u001b[38;5;241m=\u001b[39m TrialState\u001b[38;5;241m.\u001b[39mPRUNED\n",
      "Cell \u001b[1;32mIn[13], line 27\u001b[0m, in \u001b[0;36mobjective\u001b[1;34m(trial)\u001b[0m\n\u001b[0;32m     19\u001b[0m model \u001b[38;5;241m=\u001b[39m xLSTM(\n\u001b[0;32m     20\u001b[0m     input_size\u001b[38;5;241m=\u001b[39m\u001b[38;5;241m7\u001b[39m,  \u001b[38;5;66;03m# keep fixed based on your data\u001b[39;00m\n\u001b[0;32m     21\u001b[0m     num_layers\u001b[38;5;241m=\u001b[39m\u001b[38;5;241m1\u001b[39m,\n\u001b[0;32m     22\u001b[0m     hidden_size\u001b[38;5;241m=\u001b[39mhidden_size,\n\u001b[0;32m     23\u001b[0m     attention_heads\u001b[38;5;241m=\u001b[39m\u001b[38;5;241m4\u001b[39m,\n\u001b[0;32m     24\u001b[0m )\n\u001b[0;32m     26\u001b[0m \u001b[38;5;66;03m# Train with LR scheduler on plateau (same as before)\u001b[39;00m\n\u001b[1;32m---> 27\u001b[0m loss_history \u001b[38;5;241m=\u001b[39m \u001b[43mtrain_model\u001b[49m\u001b[43m(\u001b[49m\n\u001b[0;32m     28\u001b[0m \u001b[43m    \u001b[49m\u001b[43mmodel\u001b[49m\u001b[43m,\u001b[49m\n\u001b[0;32m     29\u001b[0m \u001b[43m    \u001b[49m\u001b[43mtrain_loader\u001b[49m\u001b[43m,\u001b[49m\n\u001b[0;32m     30\u001b[0m \u001b[43m    \u001b[49m\u001b[43mnum_epochs\u001b[49m\u001b[38;5;241;43m=\u001b[39;49m\u001b[38;5;241;43m20\u001b[39;49m\u001b[43m,\u001b[49m\n\u001b[0;32m     31\u001b[0m \u001b[43m    \u001b[49m\u001b[43mlearning_rate\u001b[49m\u001b[38;5;241;43m=\u001b[39;49m\u001b[43mlearning_rate\u001b[49m\u001b[43m,\u001b[49m\n\u001b[0;32m     32\u001b[0m \u001b[43m    \u001b[49m\u001b[43mdevice\u001b[49m\u001b[38;5;241;43m=\u001b[39;49m\u001b[38;5;124;43m\"\u001b[39;49m\u001b[38;5;124;43mcuda\u001b[39;49m\u001b[38;5;124;43m\"\u001b[39;49m\u001b[43m \u001b[49m\u001b[38;5;28;43;01mif\u001b[39;49;00m\u001b[43m \u001b[49m\u001b[43mtorch\u001b[49m\u001b[38;5;241;43m.\u001b[39;49m\u001b[43mcuda\u001b[49m\u001b[38;5;241;43m.\u001b[39;49m\u001b[43mis_available\u001b[49m\u001b[43m(\u001b[49m\u001b[43m)\u001b[49m\u001b[43m \u001b[49m\u001b[38;5;28;43;01melse\u001b[39;49;00m\u001b[43m \u001b[49m\u001b[38;5;124;43m\"\u001b[39;49m\u001b[38;5;124;43mcpu\u001b[39;49m\u001b[38;5;124;43m\"\u001b[39;49m\u001b[43m,\u001b[49m\n\u001b[0;32m     33\u001b[0m \u001b[43m\u001b[49m\u001b[43m)\u001b[49m\n\u001b[0;32m     35\u001b[0m \u001b[38;5;66;03m# Evaluate the model\u001b[39;00m\n\u001b[0;32m     36\u001b[0m metrics \u001b[38;5;241m=\u001b[39m evaluate_model(model, test_loader)\n",
      "Cell \u001b[1;32mIn[12], line 134\u001b[0m, in \u001b[0;36mtrain_model\u001b[1;34m(model, dataloader, num_epochs, learning_rate, device)\u001b[0m\n\u001b[0;32m    132\u001b[0m \u001b[38;5;28;01mfor\u001b[39;00m epoch \u001b[38;5;129;01min\u001b[39;00m \u001b[38;5;28mrange\u001b[39m(num_epochs):\n\u001b[0;32m    133\u001b[0m     epoch_loss \u001b[38;5;241m=\u001b[39m \u001b[38;5;241m0.0\u001b[39m\n\u001b[1;32m--> 134\u001b[0m \u001b[43m    \u001b[49m\u001b[38;5;28;43;01mfor\u001b[39;49;00m\u001b[43m \u001b[49m\u001b[43msequences\u001b[49m\u001b[43m,\u001b[49m\u001b[43m \u001b[49m\u001b[43mlabels\u001b[49m\u001b[43m \u001b[49m\u001b[38;5;129;43;01min\u001b[39;49;00m\u001b[43m \u001b[49m\u001b[43mdataloader\u001b[49m\u001b[43m:\u001b[49m\n\u001b[0;32m    135\u001b[0m \u001b[43m        \u001b[49m\u001b[43msequences\u001b[49m\u001b[43m \u001b[49m\u001b[38;5;241;43m=\u001b[39;49m\u001b[43m \u001b[49m\u001b[43msequences\u001b[49m\u001b[38;5;241;43m.\u001b[39;49m\u001b[43mto\u001b[49m\u001b[43m(\u001b[49m\u001b[43mdevice\u001b[49m\u001b[43m)\u001b[49m\n\u001b[0;32m    136\u001b[0m \u001b[43m        \u001b[49m\u001b[43mlabels\u001b[49m\u001b[43m \u001b[49m\u001b[38;5;241;43m=\u001b[39;49m\u001b[43m \u001b[49m\u001b[43mlabels\u001b[49m\u001b[38;5;241;43m.\u001b[39;49m\u001b[43mto\u001b[49m\u001b[43m(\u001b[49m\u001b[43mdevice\u001b[49m\u001b[43m)\u001b[49m\u001b[38;5;241;43m.\u001b[39;49m\u001b[43mfloat\u001b[49m\u001b[43m(\u001b[49m\u001b[43m)\u001b[49m\u001b[38;5;241;43m.\u001b[39;49m\u001b[43munsqueeze\u001b[49m\u001b[43m(\u001b[49m\u001b[38;5;241;43m1\u001b[39;49m\u001b[43m)\u001b[49m\n",
      "File \u001b[1;32mc:\\Users\\danie\\miniforge3\\envs\\ofact\\Lib\\site-packages\\torch\\utils\\data\\dataloader.py:708\u001b[0m, in \u001b[0;36m_BaseDataLoaderIter.__next__\u001b[1;34m(self)\u001b[0m\n\u001b[0;32m    705\u001b[0m \u001b[38;5;28;01mif\u001b[39;00m \u001b[38;5;28mself\u001b[39m\u001b[38;5;241m.\u001b[39m_sampler_iter \u001b[38;5;129;01mis\u001b[39;00m \u001b[38;5;28;01mNone\u001b[39;00m:\n\u001b[0;32m    706\u001b[0m     \u001b[38;5;66;03m# TODO(https://github.com/pytorch/pytorch/issues/76750)\u001b[39;00m\n\u001b[0;32m    707\u001b[0m     \u001b[38;5;28mself\u001b[39m\u001b[38;5;241m.\u001b[39m_reset()  \u001b[38;5;66;03m# type: ignore[call-arg]\u001b[39;00m\n\u001b[1;32m--> 708\u001b[0m data \u001b[38;5;241m=\u001b[39m \u001b[38;5;28;43mself\u001b[39;49m\u001b[38;5;241;43m.\u001b[39;49m\u001b[43m_next_data\u001b[49m\u001b[43m(\u001b[49m\u001b[43m)\u001b[49m\n\u001b[0;32m    709\u001b[0m \u001b[38;5;28mself\u001b[39m\u001b[38;5;241m.\u001b[39m_num_yielded \u001b[38;5;241m+\u001b[39m\u001b[38;5;241m=\u001b[39m \u001b[38;5;241m1\u001b[39m\n\u001b[0;32m    710\u001b[0m \u001b[38;5;28;01mif\u001b[39;00m (\n\u001b[0;32m    711\u001b[0m     \u001b[38;5;28mself\u001b[39m\u001b[38;5;241m.\u001b[39m_dataset_kind \u001b[38;5;241m==\u001b[39m _DatasetKind\u001b[38;5;241m.\u001b[39mIterable\n\u001b[0;32m    712\u001b[0m     \u001b[38;5;129;01mand\u001b[39;00m \u001b[38;5;28mself\u001b[39m\u001b[38;5;241m.\u001b[39m_IterableDataset_len_called \u001b[38;5;129;01mis\u001b[39;00m \u001b[38;5;129;01mnot\u001b[39;00m \u001b[38;5;28;01mNone\u001b[39;00m\n\u001b[0;32m    713\u001b[0m     \u001b[38;5;129;01mand\u001b[39;00m \u001b[38;5;28mself\u001b[39m\u001b[38;5;241m.\u001b[39m_num_yielded \u001b[38;5;241m>\u001b[39m \u001b[38;5;28mself\u001b[39m\u001b[38;5;241m.\u001b[39m_IterableDataset_len_called\n\u001b[0;32m    714\u001b[0m ):\n",
      "File \u001b[1;32mc:\\Users\\danie\\miniforge3\\envs\\ofact\\Lib\\site-packages\\torch\\utils\\data\\dataloader.py:764\u001b[0m, in \u001b[0;36m_SingleProcessDataLoaderIter._next_data\u001b[1;34m(self)\u001b[0m\n\u001b[0;32m    762\u001b[0m \u001b[38;5;28;01mdef\u001b[39;00m \u001b[38;5;21m_next_data\u001b[39m(\u001b[38;5;28mself\u001b[39m):\n\u001b[0;32m    763\u001b[0m     index \u001b[38;5;241m=\u001b[39m \u001b[38;5;28mself\u001b[39m\u001b[38;5;241m.\u001b[39m_next_index()  \u001b[38;5;66;03m# may raise StopIteration\u001b[39;00m\n\u001b[1;32m--> 764\u001b[0m     data \u001b[38;5;241m=\u001b[39m \u001b[38;5;28;43mself\u001b[39;49m\u001b[38;5;241;43m.\u001b[39;49m\u001b[43m_dataset_fetcher\u001b[49m\u001b[38;5;241;43m.\u001b[39;49m\u001b[43mfetch\u001b[49m\u001b[43m(\u001b[49m\u001b[43mindex\u001b[49m\u001b[43m)\u001b[49m  \u001b[38;5;66;03m# may raise StopIteration\u001b[39;00m\n\u001b[0;32m    765\u001b[0m     \u001b[38;5;28;01mif\u001b[39;00m \u001b[38;5;28mself\u001b[39m\u001b[38;5;241m.\u001b[39m_pin_memory:\n\u001b[0;32m    766\u001b[0m         data \u001b[38;5;241m=\u001b[39m _utils\u001b[38;5;241m.\u001b[39mpin_memory\u001b[38;5;241m.\u001b[39mpin_memory(data, \u001b[38;5;28mself\u001b[39m\u001b[38;5;241m.\u001b[39m_pin_memory_device)\n",
      "File \u001b[1;32mc:\\Users\\danie\\miniforge3\\envs\\ofact\\Lib\\site-packages\\torch\\utils\\data\\_utils\\fetch.py:52\u001b[0m, in \u001b[0;36m_MapDatasetFetcher.fetch\u001b[1;34m(self, possibly_batched_index)\u001b[0m\n\u001b[0;32m     50\u001b[0m         data \u001b[38;5;241m=\u001b[39m \u001b[38;5;28mself\u001b[39m\u001b[38;5;241m.\u001b[39mdataset\u001b[38;5;241m.\u001b[39m__getitems__(possibly_batched_index)\n\u001b[0;32m     51\u001b[0m     \u001b[38;5;28;01melse\u001b[39;00m:\n\u001b[1;32m---> 52\u001b[0m         data \u001b[38;5;241m=\u001b[39m [\u001b[38;5;28;43mself\u001b[39;49m\u001b[38;5;241;43m.\u001b[39;49m\u001b[43mdataset\u001b[49m\u001b[43m[\u001b[49m\u001b[43midx\u001b[49m\u001b[43m]\u001b[49m \u001b[38;5;28;01mfor\u001b[39;00m idx \u001b[38;5;129;01min\u001b[39;00m possibly_batched_index]\n\u001b[0;32m     53\u001b[0m \u001b[38;5;28;01melse\u001b[39;00m:\n\u001b[0;32m     54\u001b[0m     data \u001b[38;5;241m=\u001b[39m \u001b[38;5;28mself\u001b[39m\u001b[38;5;241m.\u001b[39mdataset[possibly_batched_index]\n",
      "Cell \u001b[1;32mIn[12], line 104\u001b[0m, in \u001b[0;36mXLSTMDataset.__getitem__\u001b[1;34m(self, idx)\u001b[0m\n\u001b[0;32m    101\u001b[0m \u001b[38;5;66;03m# Use the first target value; cast to int\u001b[39;00m\n\u001b[0;32m    102\u001b[0m target \u001b[38;5;241m=\u001b[39m \u001b[38;5;28mint\u001b[39m(sample_df[\u001b[38;5;28mself\u001b[39m\u001b[38;5;241m.\u001b[39mtarget_column]\u001b[38;5;241m.\u001b[39mvalues[\u001b[38;5;241m0\u001b[39m])\n\u001b[0;32m    103\u001b[0m \u001b[38;5;28;01mreturn\u001b[39;00m (\n\u001b[1;32m--> 104\u001b[0m     \u001b[43mtorch\u001b[49m\u001b[38;5;241;43m.\u001b[39;49m\u001b[43mtensor\u001b[49m\u001b[43m(\u001b[49m\u001b[43mfeatures\u001b[49m\u001b[43m,\u001b[49m\u001b[43m \u001b[49m\u001b[43mdtype\u001b[49m\u001b[38;5;241;43m=\u001b[39;49m\u001b[43mtorch\u001b[49m\u001b[38;5;241;43m.\u001b[39;49m\u001b[43mfloat32\u001b[49m\u001b[43m)\u001b[49m,\n\u001b[0;32m    105\u001b[0m     torch\u001b[38;5;241m.\u001b[39mtensor(target, dtype\u001b[38;5;241m=\u001b[39mtorch\u001b[38;5;241m.\u001b[39mlong),\n\u001b[0;32m    106\u001b[0m )\n",
      "\u001b[1;31mKeyboardInterrupt\u001b[0m: "
     ]
    }
   ],
   "source": [
    "def objective(trial):\n",
    "    # Suggest hyperparameters\n",
    "    hidden_size = trial.suggest_categorical(\"hidden_size\", [512, 1024])\n",
    "    learning_rate = trial.suggest_float(\"learning_rate\", 1e-5, 1e-3)\n",
    "    batch_size = trial.suggest_categorical(\"batch_size\", [32, 64])\n",
    "    sequence_length = trial.suggest_int(\"sequence_length\", 16, 25)\n",
    "\n",
    "    # Create datasets with the new sequence length\n",
    "    train_dataset = XLSTMDataset(df_train_mod, sequence_length=sequence_length)\n",
    "    test_dataset = XLSTMDataset(df_test_mod, sequence_length=sequence_length)\n",
    "\n",
    "    # Create dataloaders with the given batch size\n",
    "    train_loader = DataLoader(\n",
    "        train_dataset, batch_size=batch_size, shuffle=True, collate_fn=collate_fn\n",
    "    )\n",
    "    test_loader = DataLoader(test_dataset, batch_size=batch_size, collate_fn=collate_fn)\n",
    "\n",
    "    # Initialize the model\n",
    "    model = xLSTM(\n",
    "        input_size=7,  # keep fixed based on your data\n",
    "        num_layers=1,\n",
    "        hidden_size=hidden_size,\n",
    "        attention_heads=4,\n",
    "    )\n",
    "\n",
    "    # Train with LR scheduler on plateau (same as before)\n",
    "    loss_history = train_model(\n",
    "        model,\n",
    "        train_loader,\n",
    "        num_epochs=20,\n",
    "        learning_rate=learning_rate,\n",
    "        device=\"cuda\" if torch.cuda.is_available() else \"cpu\",\n",
    "    )\n",
    "\n",
    "    # Evaluate the model\n",
    "    metrics = evaluate_model(model, test_loader)\n",
    "\n",
    "    # Return the ROC AUC score as optimization target\n",
    "    return metrics[\"roc_auc\"]\n",
    "\n",
    "\n",
    "# Create and optimize the study\n",
    "import optuna\n",
    "\n",
    "study = optuna.create_study(direction=\"maximize\")\n",
    "study.optimize(objective, n_trials=100)\n",
    "\n",
    "print(\"Best hyperparameters:\", study.best_params)"
   ]
  }
 ],
 "metadata": {
  "kernelspec": {
   "display_name": "ofact",
   "language": "python",
   "name": "python3"
  },
  "language_info": {
   "codemirror_mode": {
    "name": "ipython",
    "version": 3
   },
   "file_extension": ".py",
   "mimetype": "text/x-python",
   "name": "python",
   "nbconvert_exporter": "python",
   "pygments_lexer": "ipython3",
   "version": "3.12.7"
  }
 },
 "nbformat": 4,
 "nbformat_minor": 2
}
